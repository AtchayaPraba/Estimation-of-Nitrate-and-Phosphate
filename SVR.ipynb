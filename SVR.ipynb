{
 "cells": [
  {
   "cell_type": "code",
   "execution_count": 1,
   "id": "98d410ab",
   "metadata": {},
   "outputs": [],
   "source": [
    "import os\n",
    "\n",
    "import numpy as np\n",
    "import pandas as pd\n",
    "\n",
    "import matplotlib.pyplot as plt\n",
    "%matplotlib inline\n",
    "import seaborn as sns\n",
    "\n",
    "from scipy.stats import pearsonr\n",
    "\n",
    "import joblib"
   ]
  },
  {
   "cell_type": "code",
   "execution_count": 2,
   "id": "342e98b5",
   "metadata": {},
   "outputs": [],
   "source": [
    "def regression_error (y_test, y_pred):\n",
    "    \n",
    "    from sklearn.metrics import mean_absolute_error, mean_squared_error, r2_score\n",
    "    \n",
    "    MAE = mean_absolute_error(y_test,y_pred)\n",
    "    MSE = mean_squared_error(y_test,y_pred)\n",
    "    RMSE = np.sqrt(mean_squared_error(y_test,y_pred))\n",
    "    r2 = r2_score(y_test,y_pred)\n",
    "    \n",
    "    print(f\"MAE: {MAE}\")\n",
    "    print(f\"MSE: {MSE}\")\n",
    "    print(f\"RMSE: {RMSE}\")\n",
    "    print(f\"r2: {r2}\")"
   ]
  },
  {
   "cell_type": "code",
   "execution_count": 3,
   "id": "6aacec60",
   "metadata": {},
   "outputs": [],
   "source": [
    "n_df = pd.read_excel(\"nitrate phosphate chlorophyll a inflow.xlsx\",sheet_name='Nitrate')\n",
    "p_df = pd.read_excel(\"nitrate phosphate chlorophyll a inflow.xlsx\",sheet_name='Phosphate')\n",
    "c_df = pd.read_excel(\"nitrate phosphate chlorophyll a inflow.xlsx\",sheet_name='Chlorophyll a')\n",
    "i_df = pd.read_excel(\"nitrate phosphate chlorophyll a inflow.xlsx\",sheet_name='inflow')"
   ]
  },
  {
   "cell_type": "code",
   "execution_count": 4,
   "id": "d9f79414",
   "metadata": {},
   "outputs": [
    {
     "data": {
      "text/html": [
       "<div>\n",
       "<style scoped>\n",
       "    .dataframe tbody tr th:only-of-type {\n",
       "        vertical-align: middle;\n",
       "    }\n",
       "\n",
       "    .dataframe tbody tr th {\n",
       "        vertical-align: top;\n",
       "    }\n",
       "\n",
       "    .dataframe thead th {\n",
       "        text-align: right;\n",
       "    }\n",
       "</style>\n",
       "<table border=\"1\" class=\"dataframe\">\n",
       "  <thead>\n",
       "    <tr style=\"text-align: right;\">\n",
       "      <th></th>\n",
       "      <th>Dates</th>\n",
       "      <th>Year</th>\n",
       "      <th>Month</th>\n",
       "      <th>Season</th>\n",
       "      <th>SEG 6</th>\n",
       "      <th>SEG 5</th>\n",
       "      <th>SEG 4</th>\n",
       "      <th>SEG 3</th>\n",
       "      <th>SEG 2</th>\n",
       "      <th>SEG 1</th>\n",
       "    </tr>\n",
       "  </thead>\n",
       "  <tbody>\n",
       "    <tr>\n",
       "      <th>0</th>\n",
       "      <td>2015-01-01 05:00:00</td>\n",
       "      <td>2015</td>\n",
       "      <td>Jan</td>\n",
       "      <td>Winter</td>\n",
       "      <td>9.600</td>\n",
       "      <td>9.000</td>\n",
       "      <td>9.500</td>\n",
       "      <td>9.400</td>\n",
       "      <td>10.500</td>\n",
       "      <td>9.600</td>\n",
       "    </tr>\n",
       "    <tr>\n",
       "      <th>1</th>\n",
       "      <td>2015-01-02 05:00:00</td>\n",
       "      <td>2015</td>\n",
       "      <td>Jan</td>\n",
       "      <td>Winter</td>\n",
       "      <td>9.610</td>\n",
       "      <td>9.149</td>\n",
       "      <td>9.454</td>\n",
       "      <td>9.405</td>\n",
       "      <td>10.429</td>\n",
       "      <td>10.077</td>\n",
       "    </tr>\n",
       "    <tr>\n",
       "      <th>2</th>\n",
       "      <td>2015-01-03 04:59:00</td>\n",
       "      <td>2015</td>\n",
       "      <td>Jan</td>\n",
       "      <td>Winter</td>\n",
       "      <td>9.627</td>\n",
       "      <td>9.252</td>\n",
       "      <td>9.430</td>\n",
       "      <td>9.407</td>\n",
       "      <td>10.370</td>\n",
       "      <td>10.182</td>\n",
       "    </tr>\n",
       "    <tr>\n",
       "      <th>3</th>\n",
       "      <td>2015-01-04 05:00:00</td>\n",
       "      <td>2015</td>\n",
       "      <td>Jan</td>\n",
       "      <td>Winter</td>\n",
       "      <td>9.644</td>\n",
       "      <td>9.335</td>\n",
       "      <td>9.417</td>\n",
       "      <td>9.408</td>\n",
       "      <td>10.318</td>\n",
       "      <td>10.221</td>\n",
       "    </tr>\n",
       "    <tr>\n",
       "      <th>4</th>\n",
       "      <td>2015-01-05 05:01:00</td>\n",
       "      <td>2015</td>\n",
       "      <td>Jan</td>\n",
       "      <td>Winter</td>\n",
       "      <td>9.665</td>\n",
       "      <td>9.422</td>\n",
       "      <td>9.413</td>\n",
       "      <td>9.409</td>\n",
       "      <td>10.265</td>\n",
       "      <td>10.235</td>\n",
       "    </tr>\n",
       "  </tbody>\n",
       "</table>\n",
       "</div>"
      ],
      "text/plain": [
       "                Dates  Year Month  Season  SEG 6  SEG 5  SEG 4  SEG 3   SEG 2  \\\n",
       "0 2015-01-01 05:00:00  2015   Jan  Winter  9.600  9.000  9.500  9.400  10.500   \n",
       "1 2015-01-02 05:00:00  2015   Jan  Winter  9.610  9.149  9.454  9.405  10.429   \n",
       "2 2015-01-03 04:59:00  2015   Jan  Winter  9.627  9.252  9.430  9.407  10.370   \n",
       "3 2015-01-04 05:00:00  2015   Jan  Winter  9.644  9.335  9.417  9.408  10.318   \n",
       "4 2015-01-05 05:01:00  2015   Jan  Winter  9.665  9.422  9.413  9.409  10.265   \n",
       "\n",
       "    SEG 1  \n",
       "0   9.600  \n",
       "1  10.077  \n",
       "2  10.182  \n",
       "3  10.221  \n",
       "4  10.235  "
      ]
     },
     "execution_count": 4,
     "metadata": {},
     "output_type": "execute_result"
    }
   ],
   "source": [
    "n_df.head()"
   ]
  },
  {
   "cell_type": "code",
   "execution_count": 5,
   "id": "06bb7c1b",
   "metadata": {},
   "outputs": [
    {
     "data": {
      "text/html": [
       "<div>\n",
       "<style scoped>\n",
       "    .dataframe tbody tr th:only-of-type {\n",
       "        vertical-align: middle;\n",
       "    }\n",
       "\n",
       "    .dataframe tbody tr th {\n",
       "        vertical-align: top;\n",
       "    }\n",
       "\n",
       "    .dataframe thead th {\n",
       "        text-align: right;\n",
       "    }\n",
       "</style>\n",
       "<table border=\"1\" class=\"dataframe\">\n",
       "  <thead>\n",
       "    <tr style=\"text-align: right;\">\n",
       "      <th></th>\n",
       "      <th>Dates</th>\n",
       "      <th>Year</th>\n",
       "      <th>Month</th>\n",
       "      <th>Season</th>\n",
       "      <th>SEG 6</th>\n",
       "      <th>SEG 5</th>\n",
       "      <th>SEG 4</th>\n",
       "      <th>SEG 3</th>\n",
       "      <th>SEG 2</th>\n",
       "      <th>SEG 1</th>\n",
       "    </tr>\n",
       "  </thead>\n",
       "  <tbody>\n",
       "    <tr>\n",
       "      <th>0</th>\n",
       "      <td>2015-01-01 05:00:00</td>\n",
       "      <td>2015</td>\n",
       "      <td>Jan</td>\n",
       "      <td>Winter</td>\n",
       "      <td>5.068</td>\n",
       "      <td>3.875</td>\n",
       "      <td>2.083</td>\n",
       "      <td>4.165</td>\n",
       "      <td>2.243</td>\n",
       "      <td>1.750</td>\n",
       "    </tr>\n",
       "    <tr>\n",
       "      <th>1</th>\n",
       "      <td>2015-01-02 05:00:00</td>\n",
       "      <td>2015</td>\n",
       "      <td>Jan</td>\n",
       "      <td>Winter</td>\n",
       "      <td>1.917</td>\n",
       "      <td>3.571</td>\n",
       "      <td>2.262</td>\n",
       "      <td>4.023</td>\n",
       "      <td>2.359</td>\n",
       "      <td>2.053</td>\n",
       "    </tr>\n",
       "    <tr>\n",
       "      <th>2</th>\n",
       "      <td>2015-01-03 04:59:00</td>\n",
       "      <td>2015</td>\n",
       "      <td>Jan</td>\n",
       "      <td>Winter</td>\n",
       "      <td>1.849</td>\n",
       "      <td>3.190</td>\n",
       "      <td>2.363</td>\n",
       "      <td>3.915</td>\n",
       "      <td>2.448</td>\n",
       "      <td>2.166</td>\n",
       "    </tr>\n",
       "    <tr>\n",
       "      <th>3</th>\n",
       "      <td>2015-01-04 05:00:00</td>\n",
       "      <td>2015</td>\n",
       "      <td>Jan</td>\n",
       "      <td>Winter</td>\n",
       "      <td>1.876</td>\n",
       "      <td>2.898</td>\n",
       "      <td>2.422</td>\n",
       "      <td>3.822</td>\n",
       "      <td>2.523</td>\n",
       "      <td>2.240</td>\n",
       "    </tr>\n",
       "    <tr>\n",
       "      <th>4</th>\n",
       "      <td>2015-01-05 05:01:00</td>\n",
       "      <td>2015</td>\n",
       "      <td>Jan</td>\n",
       "      <td>Winter</td>\n",
       "      <td>1.910</td>\n",
       "      <td>2.624</td>\n",
       "      <td>2.453</td>\n",
       "      <td>3.729</td>\n",
       "      <td>2.593</td>\n",
       "      <td>2.301</td>\n",
       "    </tr>\n",
       "  </tbody>\n",
       "</table>\n",
       "</div>"
      ],
      "text/plain": [
       "                Dates  Year Month  Season  SEG 6  SEG 5  SEG 4  SEG 3  SEG 2  \\\n",
       "0 2015-01-01 05:00:00  2015   Jan  Winter  5.068  3.875  2.083  4.165  2.243   \n",
       "1 2015-01-02 05:00:00  2015   Jan  Winter  1.917  3.571  2.262  4.023  2.359   \n",
       "2 2015-01-03 04:59:00  2015   Jan  Winter  1.849  3.190  2.363  3.915  2.448   \n",
       "3 2015-01-04 05:00:00  2015   Jan  Winter  1.876  2.898  2.422  3.822  2.523   \n",
       "4 2015-01-05 05:01:00  2015   Jan  Winter  1.910  2.624  2.453  3.729  2.593   \n",
       "\n",
       "   SEG 1  \n",
       "0  1.750  \n",
       "1  2.053  \n",
       "2  2.166  \n",
       "3  2.240  \n",
       "4  2.301  "
      ]
     },
     "execution_count": 5,
     "metadata": {},
     "output_type": "execute_result"
    }
   ],
   "source": [
    "p_df.head()"
   ]
  },
  {
   "cell_type": "code",
   "execution_count": 6,
   "id": "c892eb64",
   "metadata": {},
   "outputs": [
    {
     "data": {
      "text/html": [
       "<div>\n",
       "<style scoped>\n",
       "    .dataframe tbody tr th:only-of-type {\n",
       "        vertical-align: middle;\n",
       "    }\n",
       "\n",
       "    .dataframe tbody tr th {\n",
       "        vertical-align: top;\n",
       "    }\n",
       "\n",
       "    .dataframe thead th {\n",
       "        text-align: right;\n",
       "    }\n",
       "</style>\n",
       "<table border=\"1\" class=\"dataframe\">\n",
       "  <thead>\n",
       "    <tr style=\"text-align: right;\">\n",
       "      <th></th>\n",
       "      <th>Dates</th>\n",
       "      <th>Year</th>\n",
       "      <th>Month</th>\n",
       "      <th>Season</th>\n",
       "      <th>SEG 6</th>\n",
       "      <th>SEG 5</th>\n",
       "      <th>SEG 4</th>\n",
       "      <th>SEG 3</th>\n",
       "      <th>SEG 2</th>\n",
       "      <th>SEG 1</th>\n",
       "    </tr>\n",
       "  </thead>\n",
       "  <tbody>\n",
       "    <tr>\n",
       "      <th>0</th>\n",
       "      <td>2015-01-01 05:00:00</td>\n",
       "      <td>2015</td>\n",
       "      <td>Jan</td>\n",
       "      <td>Winter</td>\n",
       "      <td>54.000</td>\n",
       "      <td>60.000</td>\n",
       "      <td>66.000</td>\n",
       "      <td>52.000</td>\n",
       "      <td>34.000</td>\n",
       "      <td>16.000</td>\n",
       "    </tr>\n",
       "    <tr>\n",
       "      <th>1</th>\n",
       "      <td>2015-01-02 05:00:00</td>\n",
       "      <td>2015</td>\n",
       "      <td>Jan</td>\n",
       "      <td>Winter</td>\n",
       "      <td>52.820</td>\n",
       "      <td>49.383</td>\n",
       "      <td>58.869</td>\n",
       "      <td>47.901</td>\n",
       "      <td>31.847</td>\n",
       "      <td>23.769</td>\n",
       "    </tr>\n",
       "    <tr>\n",
       "      <th>2</th>\n",
       "      <td>2015-01-03 04:59:00</td>\n",
       "      <td>2015</td>\n",
       "      <td>Jan</td>\n",
       "      <td>Winter</td>\n",
       "      <td>53.170</td>\n",
       "      <td>41.204</td>\n",
       "      <td>52.266</td>\n",
       "      <td>43.943</td>\n",
       "      <td>29.665</td>\n",
       "      <td>24.038</td>\n",
       "    </tr>\n",
       "    <tr>\n",
       "      <th>3</th>\n",
       "      <td>2015-01-04 05:00:00</td>\n",
       "      <td>2015</td>\n",
       "      <td>Jan</td>\n",
       "      <td>Winter</td>\n",
       "      <td>53.585</td>\n",
       "      <td>35.411</td>\n",
       "      <td>46.252</td>\n",
       "      <td>40.225</td>\n",
       "      <td>27.555</td>\n",
       "      <td>23.039</td>\n",
       "    </tr>\n",
       "    <tr>\n",
       "      <th>4</th>\n",
       "      <td>2015-01-05 05:01:00</td>\n",
       "      <td>2015</td>\n",
       "      <td>Jan</td>\n",
       "      <td>Winter</td>\n",
       "      <td>54.600</td>\n",
       "      <td>31.216</td>\n",
       "      <td>40.719</td>\n",
       "      <td>36.822</td>\n",
       "      <td>25.602</td>\n",
       "      <td>21.722</td>\n",
       "    </tr>\n",
       "  </tbody>\n",
       "</table>\n",
       "</div>"
      ],
      "text/plain": [
       "                Dates  Year Month  Season   SEG 6   SEG 5   SEG 4   SEG 3  \\\n",
       "0 2015-01-01 05:00:00  2015   Jan  Winter  54.000  60.000  66.000  52.000   \n",
       "1 2015-01-02 05:00:00  2015   Jan  Winter  52.820  49.383  58.869  47.901   \n",
       "2 2015-01-03 04:59:00  2015   Jan  Winter  53.170  41.204  52.266  43.943   \n",
       "3 2015-01-04 05:00:00  2015   Jan  Winter  53.585  35.411  46.252  40.225   \n",
       "4 2015-01-05 05:01:00  2015   Jan  Winter  54.600  31.216  40.719  36.822   \n",
       "\n",
       "    SEG 2   SEG 1  \n",
       "0  34.000  16.000  \n",
       "1  31.847  23.769  \n",
       "2  29.665  24.038  \n",
       "3  27.555  23.039  \n",
       "4  25.602  21.722  "
      ]
     },
     "execution_count": 6,
     "metadata": {},
     "output_type": "execute_result"
    }
   ],
   "source": [
    "c_df.head()"
   ]
  },
  {
   "cell_type": "code",
   "execution_count": 7,
   "id": "485a412a",
   "metadata": {},
   "outputs": [
    {
     "data": {
      "text/html": [
       "<div>\n",
       "<style scoped>\n",
       "    .dataframe tbody tr th:only-of-type {\n",
       "        vertical-align: middle;\n",
       "    }\n",
       "\n",
       "    .dataframe tbody tr th {\n",
       "        vertical-align: top;\n",
       "    }\n",
       "\n",
       "    .dataframe thead th {\n",
       "        text-align: right;\n",
       "    }\n",
       "</style>\n",
       "<table border=\"1\" class=\"dataframe\">\n",
       "  <thead>\n",
       "    <tr style=\"text-align: right;\">\n",
       "      <th></th>\n",
       "      <th>Dates</th>\n",
       "      <th>Year</th>\n",
       "      <th>Month</th>\n",
       "      <th>Season</th>\n",
       "      <th>SEG 6</th>\n",
       "      <th>SEG 5</th>\n",
       "      <th>SEG 4</th>\n",
       "      <th>SEG 3</th>\n",
       "      <th>SEG 2</th>\n",
       "      <th>SEG 1</th>\n",
       "    </tr>\n",
       "  </thead>\n",
       "  <tbody>\n",
       "    <tr>\n",
       "      <th>0</th>\n",
       "      <td>2015-01-01 05:00:00</td>\n",
       "      <td>2015</td>\n",
       "      <td>Jan</td>\n",
       "      <td>Winter</td>\n",
       "      <td>6.027</td>\n",
       "      <td>6.027</td>\n",
       "      <td>6.027</td>\n",
       "      <td>6.027</td>\n",
       "      <td>6.027</td>\n",
       "      <td>6.027</td>\n",
       "    </tr>\n",
       "    <tr>\n",
       "      <th>1</th>\n",
       "      <td>2015-01-02 05:00:00</td>\n",
       "      <td>2015</td>\n",
       "      <td>Jan</td>\n",
       "      <td>Winter</td>\n",
       "      <td>5.066</td>\n",
       "      <td>5.183</td>\n",
       "      <td>5.372</td>\n",
       "      <td>5.510</td>\n",
       "      <td>5.600</td>\n",
       "      <td>5.659</td>\n",
       "    </tr>\n",
       "    <tr>\n",
       "      <th>2</th>\n",
       "      <td>2015-01-03 04:59:00</td>\n",
       "      <td>2015</td>\n",
       "      <td>Jan</td>\n",
       "      <td>Winter</td>\n",
       "      <td>4.977</td>\n",
       "      <td>4.971</td>\n",
       "      <td>4.964</td>\n",
       "      <td>4.966</td>\n",
       "      <td>4.973</td>\n",
       "      <td>4.980</td>\n",
       "    </tr>\n",
       "    <tr>\n",
       "      <th>3</th>\n",
       "      <td>2015-01-04 05:00:00</td>\n",
       "      <td>2015</td>\n",
       "      <td>Jan</td>\n",
       "      <td>Winter</td>\n",
       "      <td>4.700</td>\n",
       "      <td>4.736</td>\n",
       "      <td>4.795</td>\n",
       "      <td>4.837</td>\n",
       "      <td>4.865</td>\n",
       "      <td>4.882</td>\n",
       "    </tr>\n",
       "    <tr>\n",
       "      <th>4</th>\n",
       "      <td>2015-01-05 05:01:00</td>\n",
       "      <td>2015</td>\n",
       "      <td>Jan</td>\n",
       "      <td>Winter</td>\n",
       "      <td>9.381</td>\n",
       "      <td>8.902</td>\n",
       "      <td>8.036</td>\n",
       "      <td>7.342</td>\n",
       "      <td>6.870</td>\n",
       "      <td>6.547</td>\n",
       "    </tr>\n",
       "  </tbody>\n",
       "</table>\n",
       "</div>"
      ],
      "text/plain": [
       "                Dates  Year Month  Season  SEG 6  SEG 5  SEG 4  SEG 3  SEG 2  \\\n",
       "0 2015-01-01 05:00:00  2015   Jan  Winter  6.027  6.027  6.027  6.027  6.027   \n",
       "1 2015-01-02 05:00:00  2015   Jan  Winter  5.066  5.183  5.372  5.510  5.600   \n",
       "2 2015-01-03 04:59:00  2015   Jan  Winter  4.977  4.971  4.964  4.966  4.973   \n",
       "3 2015-01-04 05:00:00  2015   Jan  Winter  4.700  4.736  4.795  4.837  4.865   \n",
       "4 2015-01-05 05:01:00  2015   Jan  Winter  9.381  8.902  8.036  7.342  6.870   \n",
       "\n",
       "   SEG 1  \n",
       "0  6.027  \n",
       "1  5.659  \n",
       "2  4.980  \n",
       "3  4.882  \n",
       "4  6.547  "
      ]
     },
     "execution_count": 7,
     "metadata": {},
     "output_type": "execute_result"
    }
   ],
   "source": [
    "i_df.head()"
   ]
  },
  {
   "cell_type": "code",
   "execution_count": 8,
   "id": "62577b2f",
   "metadata": {},
   "outputs": [
    {
     "name": "stdout",
     "output_type": "stream",
     "text": [
      "Index(['n_Dates', 'n_Year', 'n_Month', 'n_Season', 'n_SEG 6', 'n_SEG 5',\n",
      "       'n_SEG 4', 'n_SEG 3', 'n_SEG 2', 'n_SEG 1'],\n",
      "      dtype='object')\n",
      "Index(['c_Dates', 'c_Year', 'c_Month', 'c_Season', 'c_SEG 6', 'c_SEG 5',\n",
      "       'c_SEG 4', 'c_SEG 3', 'c_SEG 2', 'c_SEG 1'],\n",
      "      dtype='object')\n",
      "Index(['p_Dates', 'p_Year', 'p_Month', 'p_Season', 'p_SEG 6', 'p_SEG 5',\n",
      "       'p_SEG 4', 'p_SEG 3', 'p_SEG 2', 'p_SEG 1'],\n",
      "      dtype='object')\n",
      "Index(['i_Dates', 'i_Year', 'i_Month', 'i_Season', 'i_SEG 6', 'i_SEG 5',\n",
      "       'i_SEG 4', 'i_SEG 3', 'i_SEG 2', 'i_SEG 1'],\n",
      "      dtype='object')\n"
     ]
    }
   ],
   "source": [
    "n_df = n_df.add_prefix('n_')\n",
    "c_df = c_df.add_prefix('c_')\n",
    "p_df = p_df.add_prefix('p_')\n",
    "i_df = i_df.add_prefix('i_')\n",
    "\n",
    "print(n_df.columns)\n",
    "print(c_df.columns)\n",
    "print(p_df.columns)\n",
    "print(i_df.columns)"
   ]
  },
  {
   "cell_type": "code",
   "execution_count": 9,
   "id": "fb4f22ef",
   "metadata": {},
   "outputs": [
    {
     "name": "stdout",
     "output_type": "stream",
     "text": [
      "['n_SEG 6', 'n_SEG 5', 'n_SEG 4', 'n_SEG 3', 'n_SEG 2', 'n_SEG 1']\n",
      "['c_SEG 6', 'c_SEG 5', 'c_SEG 4', 'c_SEG 3', 'c_SEG 2', 'c_SEG 1']\n",
      "['p_SEG 6', 'p_SEG 5', 'p_SEG 4', 'p_SEG 3', 'p_SEG 2', 'p_SEG 1']\n",
      "['i_SEG 6', 'i_SEG 5', 'i_SEG 4', 'i_SEG 3', 'i_SEG 2', 'i_SEG 1']\n"
     ]
    }
   ],
   "source": [
    "n_seg = n_df.drop(columns=['n_Dates','n_Year','n_Month','n_Season']).columns.to_list()\n",
    "c_seg = c_df.drop(columns=['c_Dates','c_Year','c_Month','c_Season']).columns.to_list()\n",
    "p_seg = p_df.drop(columns=['p_Dates','p_Year','p_Month','p_Season']).columns.to_list()\n",
    "i_seg = i_df.drop(columns=['i_Dates','i_Year','i_Month','i_Season']).columns.to_list()\n",
    "\n",
    "print(n_seg)\n",
    "print(c_seg)\n",
    "print(p_seg)\n",
    "print(i_seg)"
   ]
  },
  {
   "cell_type": "code",
   "execution_count": 10,
   "id": "357e0967",
   "metadata": {},
   "outputs": [
    {
     "name": "stdout",
     "output_type": "stream",
     "text": [
      "2192 2192 2192 2192\n"
     ]
    }
   ],
   "source": [
    "print(len(n_df), len(c_df), len(p_df), len(i_df))"
   ]
  },
  {
   "cell_type": "code",
   "execution_count": 11,
   "id": "ad3cfd7e",
   "metadata": {},
   "outputs": [
    {
     "data": {
      "text/html": [
       "<div>\n",
       "<style scoped>\n",
       "    .dataframe tbody tr th:only-of-type {\n",
       "        vertical-align: middle;\n",
       "    }\n",
       "\n",
       "    .dataframe tbody tr th {\n",
       "        vertical-align: top;\n",
       "    }\n",
       "\n",
       "    .dataframe thead th {\n",
       "        text-align: right;\n",
       "    }\n",
       "</style>\n",
       "<table border=\"1\" class=\"dataframe\">\n",
       "  <thead>\n",
       "    <tr style=\"text-align: right;\">\n",
       "      <th></th>\n",
       "      <th>n_Season</th>\n",
       "      <th>n_SEG 6</th>\n",
       "      <th>n_SEG 5</th>\n",
       "      <th>n_SEG 4</th>\n",
       "      <th>n_SEG 3</th>\n",
       "      <th>n_SEG 2</th>\n",
       "      <th>n_SEG 1</th>\n",
       "      <th>p_SEG 6</th>\n",
       "      <th>p_SEG 5</th>\n",
       "      <th>p_SEG 4</th>\n",
       "      <th>...</th>\n",
       "      <th>c_SEG 4</th>\n",
       "      <th>c_SEG 3</th>\n",
       "      <th>c_SEG 2</th>\n",
       "      <th>c_SEG 1</th>\n",
       "      <th>i_SEG 6</th>\n",
       "      <th>i_SEG 5</th>\n",
       "      <th>i_SEG 4</th>\n",
       "      <th>i_SEG 3</th>\n",
       "      <th>i_SEG 2</th>\n",
       "      <th>i_SEG 1</th>\n",
       "    </tr>\n",
       "  </thead>\n",
       "  <tbody>\n",
       "    <tr>\n",
       "      <th>0</th>\n",
       "      <td>Winter</td>\n",
       "      <td>9.600</td>\n",
       "      <td>9.000</td>\n",
       "      <td>9.500</td>\n",
       "      <td>9.400</td>\n",
       "      <td>10.500</td>\n",
       "      <td>9.600</td>\n",
       "      <td>5.068</td>\n",
       "      <td>3.875</td>\n",
       "      <td>2.083</td>\n",
       "      <td>...</td>\n",
       "      <td>66.000</td>\n",
       "      <td>52.000</td>\n",
       "      <td>34.000</td>\n",
       "      <td>16.000</td>\n",
       "      <td>6.027</td>\n",
       "      <td>6.027</td>\n",
       "      <td>6.027</td>\n",
       "      <td>6.027</td>\n",
       "      <td>6.027</td>\n",
       "      <td>6.027</td>\n",
       "    </tr>\n",
       "    <tr>\n",
       "      <th>1</th>\n",
       "      <td>Winter</td>\n",
       "      <td>9.610</td>\n",
       "      <td>9.149</td>\n",
       "      <td>9.454</td>\n",
       "      <td>9.405</td>\n",
       "      <td>10.429</td>\n",
       "      <td>10.077</td>\n",
       "      <td>1.917</td>\n",
       "      <td>3.571</td>\n",
       "      <td>2.262</td>\n",
       "      <td>...</td>\n",
       "      <td>58.869</td>\n",
       "      <td>47.901</td>\n",
       "      <td>31.847</td>\n",
       "      <td>23.769</td>\n",
       "      <td>5.066</td>\n",
       "      <td>5.183</td>\n",
       "      <td>5.372</td>\n",
       "      <td>5.510</td>\n",
       "      <td>5.600</td>\n",
       "      <td>5.659</td>\n",
       "    </tr>\n",
       "    <tr>\n",
       "      <th>2</th>\n",
       "      <td>Winter</td>\n",
       "      <td>9.627</td>\n",
       "      <td>9.252</td>\n",
       "      <td>9.430</td>\n",
       "      <td>9.407</td>\n",
       "      <td>10.370</td>\n",
       "      <td>10.182</td>\n",
       "      <td>1.849</td>\n",
       "      <td>3.190</td>\n",
       "      <td>2.363</td>\n",
       "      <td>...</td>\n",
       "      <td>52.266</td>\n",
       "      <td>43.943</td>\n",
       "      <td>29.665</td>\n",
       "      <td>24.038</td>\n",
       "      <td>4.977</td>\n",
       "      <td>4.971</td>\n",
       "      <td>4.964</td>\n",
       "      <td>4.966</td>\n",
       "      <td>4.973</td>\n",
       "      <td>4.980</td>\n",
       "    </tr>\n",
       "    <tr>\n",
       "      <th>3</th>\n",
       "      <td>Winter</td>\n",
       "      <td>9.644</td>\n",
       "      <td>9.335</td>\n",
       "      <td>9.417</td>\n",
       "      <td>9.408</td>\n",
       "      <td>10.318</td>\n",
       "      <td>10.221</td>\n",
       "      <td>1.876</td>\n",
       "      <td>2.898</td>\n",
       "      <td>2.422</td>\n",
       "      <td>...</td>\n",
       "      <td>46.252</td>\n",
       "      <td>40.225</td>\n",
       "      <td>27.555</td>\n",
       "      <td>23.039</td>\n",
       "      <td>4.700</td>\n",
       "      <td>4.736</td>\n",
       "      <td>4.795</td>\n",
       "      <td>4.837</td>\n",
       "      <td>4.865</td>\n",
       "      <td>4.882</td>\n",
       "    </tr>\n",
       "    <tr>\n",
       "      <th>4</th>\n",
       "      <td>Winter</td>\n",
       "      <td>9.665</td>\n",
       "      <td>9.422</td>\n",
       "      <td>9.413</td>\n",
       "      <td>9.409</td>\n",
       "      <td>10.265</td>\n",
       "      <td>10.235</td>\n",
       "      <td>1.910</td>\n",
       "      <td>2.624</td>\n",
       "      <td>2.453</td>\n",
       "      <td>...</td>\n",
       "      <td>40.719</td>\n",
       "      <td>36.822</td>\n",
       "      <td>25.602</td>\n",
       "      <td>21.722</td>\n",
       "      <td>9.381</td>\n",
       "      <td>8.902</td>\n",
       "      <td>8.036</td>\n",
       "      <td>7.342</td>\n",
       "      <td>6.870</td>\n",
       "      <td>6.547</td>\n",
       "    </tr>\n",
       "  </tbody>\n",
       "</table>\n",
       "<p>5 rows × 25 columns</p>\n",
       "</div>"
      ],
      "text/plain": [
       "  n_Season  n_SEG 6  n_SEG 5  n_SEG 4  n_SEG 3  n_SEG 2  n_SEG 1  p_SEG 6  \\\n",
       "0   Winter    9.600    9.000    9.500    9.400   10.500    9.600    5.068   \n",
       "1   Winter    9.610    9.149    9.454    9.405   10.429   10.077    1.917   \n",
       "2   Winter    9.627    9.252    9.430    9.407   10.370   10.182    1.849   \n",
       "3   Winter    9.644    9.335    9.417    9.408   10.318   10.221    1.876   \n",
       "4   Winter    9.665    9.422    9.413    9.409   10.265   10.235    1.910   \n",
       "\n",
       "   p_SEG 5  p_SEG 4  ...  c_SEG 4  c_SEG 3  c_SEG 2  c_SEG 1  i_SEG 6  \\\n",
       "0    3.875    2.083  ...   66.000   52.000   34.000   16.000    6.027   \n",
       "1    3.571    2.262  ...   58.869   47.901   31.847   23.769    5.066   \n",
       "2    3.190    2.363  ...   52.266   43.943   29.665   24.038    4.977   \n",
       "3    2.898    2.422  ...   46.252   40.225   27.555   23.039    4.700   \n",
       "4    2.624    2.453  ...   40.719   36.822   25.602   21.722    9.381   \n",
       "\n",
       "   i_SEG 5  i_SEG 4  i_SEG 3  i_SEG 2  i_SEG 1  \n",
       "0    6.027    6.027    6.027    6.027    6.027  \n",
       "1    5.183    5.372    5.510    5.600    5.659  \n",
       "2    4.971    4.964    4.966    4.973    4.980  \n",
       "3    4.736    4.795    4.837    4.865    4.882  \n",
       "4    8.902    8.036    7.342    6.870    6.547  \n",
       "\n",
       "[5 rows x 25 columns]"
      ]
     },
     "execution_count": 11,
     "metadata": {},
     "output_type": "execute_result"
    }
   ],
   "source": [
    "df = pd.concat([n_df[['n_Season']], \n",
    "                n_df[n_seg], \n",
    "                p_df[p_seg], \n",
    "                c_df[c_seg], \n",
    "                i_df[i_seg]], axis=1)\n",
    "df.head()"
   ]
  },
  {
   "cell_type": "code",
   "execution_count": 12,
   "id": "605b092e",
   "metadata": {},
   "outputs": [
    {
     "data": {
      "text/plain": [
       "Index(['Season', 'n_SEG 6', 'n_SEG 5', 'n_SEG 4', 'n_SEG 3', 'n_SEG 2',\n",
       "       'n_SEG 1', 'p_SEG 6', 'p_SEG 5', 'p_SEG 4', 'p_SEG 3', 'p_SEG 2',\n",
       "       'p_SEG 1', 'c_SEG 6', 'c_SEG 5', 'c_SEG 4', 'c_SEG 3', 'c_SEG 2',\n",
       "       'c_SEG 1', 'i_SEG 6', 'i_SEG 5', 'i_SEG 4', 'i_SEG 3', 'i_SEG 2',\n",
       "       'i_SEG 1'],\n",
       "      dtype='object')"
      ]
     },
     "execution_count": 12,
     "metadata": {},
     "output_type": "execute_result"
    }
   ],
   "source": [
    "df.rename(columns = {'n_Season':'Season'}, inplace = True)\n",
    "df.columns"
   ]
  },
  {
   "cell_type": "code",
   "execution_count": 13,
   "id": "debb6f40",
   "metadata": {},
   "outputs": [
    {
     "data": {
      "text/plain": [
       "['Winter', 'Summer', 'Southwest Monsoon', 'Northeast monsoon']"
      ]
     },
     "execution_count": 13,
     "metadata": {},
     "output_type": "execute_result"
    }
   ],
   "source": [
    "Season = list(df['Season'].unique())\n",
    "Season"
   ]
  },
  {
   "cell_type": "code",
   "execution_count": 14,
   "id": "ef4e8fd6",
   "metadata": {},
   "outputs": [],
   "source": [
    "def df_corr (col,lst1,lst2,dataframe,seasons):\n",
    "    \n",
    "    df_temp = pd.DataFrame(columns=col, index=lst2)\n",
    "    \n",
    "    for S in seasons:\n",
    "        dataframe_seasonal = dataframe[dataframe['Season'] == S]\n",
    "        for i in lst1:\n",
    "            for j in lst2:\n",
    "                if i[-1] == j[-1]:\n",
    "                    # Convert dataframe into series\n",
    "                    list1 = dataframe_seasonal[i] \n",
    "                    list2 = dataframe_seasonal[j]\n",
    "                    # Apply the pearsonr()\n",
    "                    corr, _ = pearsonr(list1, list2)\n",
    "                    df_temp[S].loc[j] = corr\n",
    "    return df_temp"
   ]
  },
  {
   "cell_type": "code",
   "execution_count": 15,
   "id": "8daad4e8",
   "metadata": {},
   "outputs": [
    {
     "data": {
      "text/html": [
       "<div>\n",
       "<style scoped>\n",
       "    .dataframe tbody tr th:only-of-type {\n",
       "        vertical-align: middle;\n",
       "    }\n",
       "\n",
       "    .dataframe tbody tr th {\n",
       "        vertical-align: top;\n",
       "    }\n",
       "\n",
       "    .dataframe thead th {\n",
       "        text-align: right;\n",
       "    }\n",
       "</style>\n",
       "<table border=\"1\" class=\"dataframe\">\n",
       "  <thead>\n",
       "    <tr style=\"text-align: right;\">\n",
       "      <th></th>\n",
       "      <th>Winter</th>\n",
       "      <th>Summer</th>\n",
       "      <th>Southwest Monsoon</th>\n",
       "      <th>Northeast monsoon</th>\n",
       "    </tr>\n",
       "  </thead>\n",
       "  <tbody>\n",
       "    <tr>\n",
       "      <th>c_SEG 6</th>\n",
       "      <td>-0.124005</td>\n",
       "      <td>0.553337</td>\n",
       "      <td>0.253103</td>\n",
       "      <td>-0.679176</td>\n",
       "    </tr>\n",
       "    <tr>\n",
       "      <th>c_SEG 5</th>\n",
       "      <td>0.205077</td>\n",
       "      <td>0.616249</td>\n",
       "      <td>0.596581</td>\n",
       "      <td>0.474238</td>\n",
       "    </tr>\n",
       "    <tr>\n",
       "      <th>c_SEG 4</th>\n",
       "      <td>0.222734</td>\n",
       "      <td>0.51898</td>\n",
       "      <td>0.622239</td>\n",
       "      <td>0.59605</td>\n",
       "    </tr>\n",
       "    <tr>\n",
       "      <th>c_SEG 3</th>\n",
       "      <td>-0.050709</td>\n",
       "      <td>0.276268</td>\n",
       "      <td>0.346679</td>\n",
       "      <td>-0.32123</td>\n",
       "    </tr>\n",
       "    <tr>\n",
       "      <th>c_SEG 2</th>\n",
       "      <td>0.24303</td>\n",
       "      <td>0.300765</td>\n",
       "      <td>0.536144</td>\n",
       "      <td>0.526022</td>\n",
       "    </tr>\n",
       "    <tr>\n",
       "      <th>c_SEG 1</th>\n",
       "      <td>-0.055177</td>\n",
       "      <td>0.104143</td>\n",
       "      <td>0.275294</td>\n",
       "      <td>-0.232497</td>\n",
       "    </tr>\n",
       "  </tbody>\n",
       "</table>\n",
       "</div>"
      ],
      "text/plain": [
       "           Winter    Summer Southwest Monsoon Northeast monsoon\n",
       "c_SEG 6 -0.124005  0.553337          0.253103         -0.679176\n",
       "c_SEG 5  0.205077  0.616249          0.596581          0.474238\n",
       "c_SEG 4  0.222734   0.51898          0.622239           0.59605\n",
       "c_SEG 3 -0.050709  0.276268          0.346679          -0.32123\n",
       "c_SEG 2   0.24303  0.300765          0.536144          0.526022\n",
       "c_SEG 1 -0.055177  0.104143          0.275294         -0.232497"
      ]
     },
     "execution_count": 15,
     "metadata": {},
     "output_type": "execute_result"
    }
   ],
   "source": [
    "# Nitrate-Chlorophyll\n",
    "nc = df_corr(col=Season, \n",
    "        lst1=n_seg, lst2=c_seg,\n",
    "        dataframe=df, seasons=Season)\n",
    "nc"
   ]
  },
  {
   "cell_type": "code",
   "execution_count": 16,
   "id": "68b57d40",
   "metadata": {},
   "outputs": [
    {
     "data": {
      "text/html": [
       "<div>\n",
       "<style scoped>\n",
       "    .dataframe tbody tr th:only-of-type {\n",
       "        vertical-align: middle;\n",
       "    }\n",
       "\n",
       "    .dataframe tbody tr th {\n",
       "        vertical-align: top;\n",
       "    }\n",
       "\n",
       "    .dataframe thead th {\n",
       "        text-align: right;\n",
       "    }\n",
       "</style>\n",
       "<table border=\"1\" class=\"dataframe\">\n",
       "  <thead>\n",
       "    <tr style=\"text-align: right;\">\n",
       "      <th></th>\n",
       "      <th>Winter</th>\n",
       "      <th>Summer</th>\n",
       "      <th>Southwest Monsoon</th>\n",
       "      <th>Northeast monsoon</th>\n",
       "    </tr>\n",
       "  </thead>\n",
       "  <tbody>\n",
       "    <tr>\n",
       "      <th>i_SEG 6</th>\n",
       "      <td>0.534995</td>\n",
       "      <td>0.537901</td>\n",
       "      <td>0.471824</td>\n",
       "      <td>0.259737</td>\n",
       "    </tr>\n",
       "    <tr>\n",
       "      <th>i_SEG 5</th>\n",
       "      <td>0.436473</td>\n",
       "      <td>0.342846</td>\n",
       "      <td>0.344435</td>\n",
       "      <td>0.240972</td>\n",
       "    </tr>\n",
       "    <tr>\n",
       "      <th>i_SEG 4</th>\n",
       "      <td>0.391862</td>\n",
       "      <td>0.120561</td>\n",
       "      <td>0.182156</td>\n",
       "      <td>0.207824</td>\n",
       "    </tr>\n",
       "    <tr>\n",
       "      <th>i_SEG 3</th>\n",
       "      <td>0.375892</td>\n",
       "      <td>-0.08592</td>\n",
       "      <td>0.037743</td>\n",
       "      <td>0.174318</td>\n",
       "    </tr>\n",
       "    <tr>\n",
       "      <th>i_SEG 2</th>\n",
       "      <td>0.375245</td>\n",
       "      <td>-0.214769</td>\n",
       "      <td>-0.063937</td>\n",
       "      <td>0.146425</td>\n",
       "    </tr>\n",
       "    <tr>\n",
       "      <th>i_SEG 1</th>\n",
       "      <td>0.386291</td>\n",
       "      <td>-0.245764</td>\n",
       "      <td>-0.079775</td>\n",
       "      <td>0.146753</td>\n",
       "    </tr>\n",
       "  </tbody>\n",
       "</table>\n",
       "</div>"
      ],
      "text/plain": [
       "           Winter    Summer Southwest Monsoon Northeast monsoon\n",
       "i_SEG 6  0.534995  0.537901          0.471824          0.259737\n",
       "i_SEG 5  0.436473  0.342846          0.344435          0.240972\n",
       "i_SEG 4  0.391862  0.120561          0.182156          0.207824\n",
       "i_SEG 3  0.375892  -0.08592          0.037743          0.174318\n",
       "i_SEG 2  0.375245 -0.214769         -0.063937          0.146425\n",
       "i_SEG 1  0.386291 -0.245764         -0.079775          0.146753"
      ]
     },
     "execution_count": 16,
     "metadata": {},
     "output_type": "execute_result"
    }
   ],
   "source": [
    "# Nitrate-inflow\n",
    "ni = df_corr(col=Season, \n",
    "        lst1=n_seg, lst2=i_seg,\n",
    "        dataframe=df, seasons=Season)\n",
    "ni"
   ]
  },
  {
   "cell_type": "code",
   "execution_count": 17,
   "id": "ac346a1a",
   "metadata": {},
   "outputs": [
    {
     "data": {
      "text/html": [
       "<div>\n",
       "<style scoped>\n",
       "    .dataframe tbody tr th:only-of-type {\n",
       "        vertical-align: middle;\n",
       "    }\n",
       "\n",
       "    .dataframe tbody tr th {\n",
       "        vertical-align: top;\n",
       "    }\n",
       "\n",
       "    .dataframe thead th {\n",
       "        text-align: right;\n",
       "    }\n",
       "</style>\n",
       "<table border=\"1\" class=\"dataframe\">\n",
       "  <thead>\n",
       "    <tr style=\"text-align: right;\">\n",
       "      <th></th>\n",
       "      <th>Winter</th>\n",
       "      <th>Summer</th>\n",
       "      <th>Southwest Monsoon</th>\n",
       "      <th>Northeast monsoon</th>\n",
       "    </tr>\n",
       "  </thead>\n",
       "  <tbody>\n",
       "    <tr>\n",
       "      <th>c_SEG 6</th>\n",
       "      <td>0.240433</td>\n",
       "      <td>0.709625</td>\n",
       "      <td>0.459581</td>\n",
       "      <td>-0.520989</td>\n",
       "    </tr>\n",
       "    <tr>\n",
       "      <th>c_SEG 5</th>\n",
       "      <td>0.369061</td>\n",
       "      <td>0.671352</td>\n",
       "      <td>0.915006</td>\n",
       "      <td>0.675174</td>\n",
       "    </tr>\n",
       "    <tr>\n",
       "      <th>c_SEG 4</th>\n",
       "      <td>0.435358</td>\n",
       "      <td>0.556569</td>\n",
       "      <td>0.89521</td>\n",
       "      <td>0.756504</td>\n",
       "    </tr>\n",
       "    <tr>\n",
       "      <th>c_SEG 3</th>\n",
       "      <td>0.26163</td>\n",
       "      <td>0.215116</td>\n",
       "      <td>0.469515</td>\n",
       "      <td>-0.116113</td>\n",
       "    </tr>\n",
       "    <tr>\n",
       "      <th>c_SEG 2</th>\n",
       "      <td>0.430823</td>\n",
       "      <td>0.307613</td>\n",
       "      <td>0.708307</td>\n",
       "      <td>0.598912</td>\n",
       "    </tr>\n",
       "    <tr>\n",
       "      <th>c_SEG 1</th>\n",
       "      <td>0.047434</td>\n",
       "      <td>-0.029546</td>\n",
       "      <td>0.351601</td>\n",
       "      <td>-0.063294</td>\n",
       "    </tr>\n",
       "  </tbody>\n",
       "</table>\n",
       "</div>"
      ],
      "text/plain": [
       "           Winter    Summer Southwest Monsoon Northeast monsoon\n",
       "c_SEG 6  0.240433  0.709625          0.459581         -0.520989\n",
       "c_SEG 5  0.369061  0.671352          0.915006          0.675174\n",
       "c_SEG 4  0.435358  0.556569           0.89521          0.756504\n",
       "c_SEG 3   0.26163  0.215116          0.469515         -0.116113\n",
       "c_SEG 2  0.430823  0.307613          0.708307          0.598912\n",
       "c_SEG 1  0.047434 -0.029546          0.351601         -0.063294"
      ]
     },
     "execution_count": 17,
     "metadata": {},
     "output_type": "execute_result"
    }
   ],
   "source": [
    "# Phosphorus-Chlorophyll\n",
    "pc = df_corr(col=Season, \n",
    "        lst1=p_seg, lst2=c_seg,\n",
    "        dataframe=df, seasons=Season)\n",
    "pc"
   ]
  },
  {
   "cell_type": "code",
   "execution_count": 18,
   "id": "3c8c0d0b",
   "metadata": {},
   "outputs": [
    {
     "data": {
      "text/html": [
       "<div>\n",
       "<style scoped>\n",
       "    .dataframe tbody tr th:only-of-type {\n",
       "        vertical-align: middle;\n",
       "    }\n",
       "\n",
       "    .dataframe tbody tr th {\n",
       "        vertical-align: top;\n",
       "    }\n",
       "\n",
       "    .dataframe thead th {\n",
       "        text-align: right;\n",
       "    }\n",
       "</style>\n",
       "<table border=\"1\" class=\"dataframe\">\n",
       "  <thead>\n",
       "    <tr style=\"text-align: right;\">\n",
       "      <th></th>\n",
       "      <th>Winter</th>\n",
       "      <th>Summer</th>\n",
       "      <th>Southwest Monsoon</th>\n",
       "      <th>Northeast monsoon</th>\n",
       "    </tr>\n",
       "  </thead>\n",
       "  <tbody>\n",
       "    <tr>\n",
       "      <th>i_SEG 6</th>\n",
       "      <td>0.358199</td>\n",
       "      <td>0.559658</td>\n",
       "      <td>0.414163</td>\n",
       "      <td>0.290628</td>\n",
       "    </tr>\n",
       "    <tr>\n",
       "      <th>i_SEG 5</th>\n",
       "      <td>0.419515</td>\n",
       "      <td>0.379914</td>\n",
       "      <td>0.235513</td>\n",
       "      <td>0.25711</td>\n",
       "    </tr>\n",
       "    <tr>\n",
       "      <th>i_SEG 4</th>\n",
       "      <td>0.399327</td>\n",
       "      <td>0.149196</td>\n",
       "      <td>0.058005</td>\n",
       "      <td>0.208486</td>\n",
       "    </tr>\n",
       "    <tr>\n",
       "      <th>i_SEG 3</th>\n",
       "      <td>0.096643</td>\n",
       "      <td>-0.222591</td>\n",
       "      <td>-0.130567</td>\n",
       "      <td>0.12344</td>\n",
       "    </tr>\n",
       "    <tr>\n",
       "      <th>i_SEG 2</th>\n",
       "      <td>0.279264</td>\n",
       "      <td>-0.23442</td>\n",
       "      <td>-0.20548</td>\n",
       "      <td>0.11093</td>\n",
       "    </tr>\n",
       "    <tr>\n",
       "      <th>i_SEG 1</th>\n",
       "      <td>0.064819</td>\n",
       "      <td>-0.433735</td>\n",
       "      <td>-0.269512</td>\n",
       "      <td>0.057029</td>\n",
       "    </tr>\n",
       "  </tbody>\n",
       "</table>\n",
       "</div>"
      ],
      "text/plain": [
       "           Winter    Summer Southwest Monsoon Northeast monsoon\n",
       "i_SEG 6  0.358199  0.559658          0.414163          0.290628\n",
       "i_SEG 5  0.419515  0.379914          0.235513           0.25711\n",
       "i_SEG 4  0.399327  0.149196          0.058005          0.208486\n",
       "i_SEG 3  0.096643 -0.222591         -0.130567           0.12344\n",
       "i_SEG 2  0.279264  -0.23442          -0.20548           0.11093\n",
       "i_SEG 1  0.064819 -0.433735         -0.269512          0.057029"
      ]
     },
     "execution_count": 18,
     "metadata": {},
     "output_type": "execute_result"
    }
   ],
   "source": [
    "# Phosphorus-inflow\n",
    "pi = df_corr(col=Season,\n",
    "        lst1=p_seg, lst2=i_seg,\n",
    "        dataframe=df, seasons=Season)\n",
    "pi"
   ]
  },
  {
   "cell_type": "code",
   "execution_count": 19,
   "id": "38353331",
   "metadata": {},
   "outputs": [
    {
     "data": {
      "text/plain": [
       "Text(0.5, 1.0, 'Phosphorus-Inflow')"
      ]
     },
     "execution_count": 19,
     "metadata": {},
     "output_type": "execute_result"
    },
    {
     "data": {
      "image/png": "[encoded data removed]",
      "text/plain": [
       "<Figure size 1008x720 with 8 Axes>"
      ]
     },
     "metadata": {
      "needs_background": "light"
     },
     "output_type": "display_data"
    }
   ],
   "source": [
    "fig, axes = plt.subplots(2, 2, sharex=True, figsize=(14,10))\n",
    "sns.heatmap(ax=axes[0,0], data=nc>=0.5, annot=True, cmap='viridis',linewidths=1)\n",
    "axes[0,0].set_title('Nitrate-Chlorophyll')\n",
    "sns.heatmap(ax=axes[0,1], data=ni>=0.5, annot=True, cmap='viridis',linewidths=1)\n",
    "axes[0,1].set_title('Nitrate-Inflow')\n",
    "sns.heatmap(ax=axes[1,0], data=pc>=0.5, annot=True, cmap='viridis',linewidths=1)\n",
    "axes[1,0].set_title('Phosphorus-Chlorophyll')\n",
    "sns.heatmap(ax=axes[1,1], data=pi>=0.5, annot=True, cmap='viridis',linewidths=1)\n",
    "axes[1,1].set_title('Phosphorus-Inflow')"
   ]
  },
  {
   "cell_type": "code",
   "execution_count": 20,
   "id": "1460442e",
   "metadata": {},
   "outputs": [],
   "source": [
    "df['n_mean'] = df.filter(regex='n_',axis=1).mean(axis=1)\n",
    "df['c_mean'] = df.filter(regex='c_',axis=1).mean(axis=1)\n",
    "df['i_mean'] = df.filter(regex='i_',axis=1).mean(axis=1)\n",
    "df['p_mean'] = df.filter(regex='p_',axis=1).mean(axis=1)"
   ]
  },
  {
   "cell_type": "code",
   "execution_count": 21,
   "id": "01ed06fb",
   "metadata": {},
   "outputs": [
    {
     "data": {
      "text/html": [
       "<div>\n",
       "<style scoped>\n",
       "    .dataframe tbody tr th:only-of-type {\n",
       "        vertical-align: middle;\n",
       "    }\n",
       "\n",
       "    .dataframe tbody tr th {\n",
       "        vertical-align: top;\n",
       "    }\n",
       "\n",
       "    .dataframe thead th {\n",
       "        text-align: right;\n",
       "    }\n",
       "</style>\n",
       "<table border=\"1\" class=\"dataframe\">\n",
       "  <thead>\n",
       "    <tr style=\"text-align: right;\">\n",
       "      <th></th>\n",
       "      <th>n_mean</th>\n",
       "      <th>c_mean</th>\n",
       "      <th>i_mean</th>\n",
       "      <th>p_mean</th>\n",
       "    </tr>\n",
       "  </thead>\n",
       "  <tbody>\n",
       "    <tr>\n",
       "      <th>0</th>\n",
       "      <td>9.600000</td>\n",
       "      <td>47.000000</td>\n",
       "      <td>6.027000</td>\n",
       "      <td>3.197333</td>\n",
       "    </tr>\n",
       "    <tr>\n",
       "      <th>1</th>\n",
       "      <td>9.687333</td>\n",
       "      <td>44.098167</td>\n",
       "      <td>5.398333</td>\n",
       "      <td>2.697500</td>\n",
       "    </tr>\n",
       "    <tr>\n",
       "      <th>2</th>\n",
       "      <td>9.711333</td>\n",
       "      <td>40.714333</td>\n",
       "      <td>4.971833</td>\n",
       "      <td>2.655167</td>\n",
       "    </tr>\n",
       "    <tr>\n",
       "      <th>3</th>\n",
       "      <td>9.723833</td>\n",
       "      <td>37.677833</td>\n",
       "      <td>4.802500</td>\n",
       "      <td>2.630167</td>\n",
       "    </tr>\n",
       "    <tr>\n",
       "      <th>4</th>\n",
       "      <td>9.734833</td>\n",
       "      <td>35.113500</td>\n",
       "      <td>7.846333</td>\n",
       "      <td>2.601667</td>\n",
       "    </tr>\n",
       "    <tr>\n",
       "      <th>...</th>\n",
       "      <td>...</td>\n",
       "      <td>...</td>\n",
       "      <td>...</td>\n",
       "      <td>...</td>\n",
       "    </tr>\n",
       "    <tr>\n",
       "      <th>2187</th>\n",
       "      <td>10.849500</td>\n",
       "      <td>16.188167</td>\n",
       "      <td>11.269667</td>\n",
       "      <td>1.336333</td>\n",
       "    </tr>\n",
       "    <tr>\n",
       "      <th>2188</th>\n",
       "      <td>10.697333</td>\n",
       "      <td>15.817833</td>\n",
       "      <td>10.001833</td>\n",
       "      <td>1.310667</td>\n",
       "    </tr>\n",
       "    <tr>\n",
       "      <th>2189</th>\n",
       "      <td>10.253333</td>\n",
       "      <td>14.352000</td>\n",
       "      <td>7.616000</td>\n",
       "      <td>1.243333</td>\n",
       "    </tr>\n",
       "    <tr>\n",
       "      <th>2190</th>\n",
       "      <td>9.719000</td>\n",
       "      <td>12.601500</td>\n",
       "      <td>6.374333</td>\n",
       "      <td>1.167167</td>\n",
       "    </tr>\n",
       "    <tr>\n",
       "      <th>2191</th>\n",
       "      <td>9.450500</td>\n",
       "      <td>11.924833</td>\n",
       "      <td>6.333000</td>\n",
       "      <td>1.141333</td>\n",
       "    </tr>\n",
       "  </tbody>\n",
       "</table>\n",
       "<p>2192 rows × 4 columns</p>\n",
       "</div>"
      ],
      "text/plain": [
       "         n_mean     c_mean     i_mean    p_mean\n",
       "0      9.600000  47.000000   6.027000  3.197333\n",
       "1      9.687333  44.098167   5.398333  2.697500\n",
       "2      9.711333  40.714333   4.971833  2.655167\n",
       "3      9.723833  37.677833   4.802500  2.630167\n",
       "4      9.734833  35.113500   7.846333  2.601667\n",
       "...         ...        ...        ...       ...\n",
       "2187  10.849500  16.188167  11.269667  1.336333\n",
       "2188  10.697333  15.817833  10.001833  1.310667\n",
       "2189  10.253333  14.352000   7.616000  1.243333\n",
       "2190   9.719000  12.601500   6.374333  1.167167\n",
       "2191   9.450500  11.924833   6.333000  1.141333\n",
       "\n",
       "[2192 rows x 4 columns]"
      ]
     },
     "execution_count": 21,
     "metadata": {},
     "output_type": "execute_result"
    }
   ],
   "source": [
    "df.filter(regex='mean',axis=1)"
   ]
  },
  {
   "cell_type": "code",
   "execution_count": 22,
   "id": "d2f48000",
   "metadata": {},
   "outputs": [
    {
     "data": {
      "text/html": [
       "<div>\n",
       "<style scoped>\n",
       "    .dataframe tbody tr th:only-of-type {\n",
       "        vertical-align: middle;\n",
       "    }\n",
       "\n",
       "    .dataframe tbody tr th {\n",
       "        vertical-align: top;\n",
       "    }\n",
       "\n",
       "    .dataframe thead th {\n",
       "        text-align: right;\n",
       "    }\n",
       "</style>\n",
       "<table border=\"1\" class=\"dataframe\">\n",
       "  <thead>\n",
       "    <tr style=\"text-align: right;\">\n",
       "      <th></th>\n",
       "      <th>Season</th>\n",
       "      <th>n_mean</th>\n",
       "      <th>c_mean</th>\n",
       "      <th>i_mean</th>\n",
       "      <th>p_mean</th>\n",
       "    </tr>\n",
       "  </thead>\n",
       "  <tbody>\n",
       "    <tr>\n",
       "      <th>0</th>\n",
       "      <td>Winter</td>\n",
       "      <td>9.600000</td>\n",
       "      <td>47.000000</td>\n",
       "      <td>6.027000</td>\n",
       "      <td>3.197333</td>\n",
       "    </tr>\n",
       "    <tr>\n",
       "      <th>1</th>\n",
       "      <td>Winter</td>\n",
       "      <td>9.687333</td>\n",
       "      <td>44.098167</td>\n",
       "      <td>5.398333</td>\n",
       "      <td>2.697500</td>\n",
       "    </tr>\n",
       "    <tr>\n",
       "      <th>2</th>\n",
       "      <td>Winter</td>\n",
       "      <td>9.711333</td>\n",
       "      <td>40.714333</td>\n",
       "      <td>4.971833</td>\n",
       "      <td>2.655167</td>\n",
       "    </tr>\n",
       "    <tr>\n",
       "      <th>3</th>\n",
       "      <td>Winter</td>\n",
       "      <td>9.723833</td>\n",
       "      <td>37.677833</td>\n",
       "      <td>4.802500</td>\n",
       "      <td>2.630167</td>\n",
       "    </tr>\n",
       "    <tr>\n",
       "      <th>4</th>\n",
       "      <td>Winter</td>\n",
       "      <td>9.734833</td>\n",
       "      <td>35.113500</td>\n",
       "      <td>7.846333</td>\n",
       "      <td>2.601667</td>\n",
       "    </tr>\n",
       "  </tbody>\n",
       "</table>\n",
       "</div>"
      ],
      "text/plain": [
       "   Season    n_mean     c_mean    i_mean    p_mean\n",
       "0  Winter  9.600000  47.000000  6.027000  3.197333\n",
       "1  Winter  9.687333  44.098167  5.398333  2.697500\n",
       "2  Winter  9.711333  40.714333  4.971833  2.655167\n",
       "3  Winter  9.723833  37.677833  4.802500  2.630167\n",
       "4  Winter  9.734833  35.113500  7.846333  2.601667"
      ]
     },
     "execution_count": 22,
     "metadata": {},
     "output_type": "execute_result"
    }
   ],
   "source": [
    "df_final = pd.concat([df[['Season']], df.filter(regex='mean',axis=1)], axis=1)\n",
    "df_final.head()"
   ]
  },
  {
   "cell_type": "code",
   "execution_count": 23,
   "id": "ebc1d248",
   "metadata": {},
   "outputs": [
    {
     "data": {
      "text/html": [
       "<div>\n",
       "<style scoped>\n",
       "    .dataframe tbody tr th:only-of-type {\n",
       "        vertical-align: middle;\n",
       "    }\n",
       "\n",
       "    .dataframe tbody tr th {\n",
       "        vertical-align: top;\n",
       "    }\n",
       "\n",
       "    .dataframe thead th {\n",
       "        text-align: right;\n",
       "    }\n",
       "</style>\n",
       "<table border=\"1\" class=\"dataframe\">\n",
       "  <thead>\n",
       "    <tr style=\"text-align: right;\">\n",
       "      <th></th>\n",
       "      <th>Winter</th>\n",
       "      <th>Summer</th>\n",
       "      <th>Southwest Monsoon</th>\n",
       "      <th>Northeast monsoon</th>\n",
       "    </tr>\n",
       "  </thead>\n",
       "  <tbody>\n",
       "    <tr>\n",
       "      <th>c_mean</th>\n",
       "      <td>0.036749</td>\n",
       "      <td>0.479311</td>\n",
       "      <td>0.467673</td>\n",
       "      <td>-0.182091</td>\n",
       "    </tr>\n",
       "  </tbody>\n",
       "</table>\n",
       "</div>"
      ],
      "text/plain": [
       "          Winter    Summer Southwest Monsoon Northeast monsoon\n",
       "c_mean  0.036749  0.479311          0.467673         -0.182091"
      ]
     },
     "execution_count": 23,
     "metadata": {},
     "output_type": "execute_result"
    }
   ],
   "source": [
    "# Nitrate_mean-Chlorophyll_mean\n",
    "mean_nc = df_corr(col=Season, \n",
    "        lst1=['n_mean'], lst2=['c_mean'],\n",
    "        dataframe=df, seasons=Season)\n",
    "mean_nc"
   ]
  },
  {
   "cell_type": "code",
   "execution_count": 24,
   "id": "11d8fbe4",
   "metadata": {},
   "outputs": [
    {
     "data": {
      "text/html": [
       "<div>\n",
       "<style scoped>\n",
       "    .dataframe tbody tr th:only-of-type {\n",
       "        vertical-align: middle;\n",
       "    }\n",
       "\n",
       "    .dataframe tbody tr th {\n",
       "        vertical-align: top;\n",
       "    }\n",
       "\n",
       "    .dataframe thead th {\n",
       "        text-align: right;\n",
       "    }\n",
       "</style>\n",
       "<table border=\"1\" class=\"dataframe\">\n",
       "  <thead>\n",
       "    <tr style=\"text-align: right;\">\n",
       "      <th></th>\n",
       "      <th>Winter</th>\n",
       "      <th>Summer</th>\n",
       "      <th>Southwest Monsoon</th>\n",
       "      <th>Northeast monsoon</th>\n",
       "    </tr>\n",
       "  </thead>\n",
       "  <tbody>\n",
       "    <tr>\n",
       "      <th>i_mean</th>\n",
       "      <td>0.428045</td>\n",
       "      <td>0.100458</td>\n",
       "      <td>0.159731</td>\n",
       "      <td>0.204795</td>\n",
       "    </tr>\n",
       "  </tbody>\n",
       "</table>\n",
       "</div>"
      ],
      "text/plain": [
       "          Winter    Summer Southwest Monsoon Northeast monsoon\n",
       "i_mean  0.428045  0.100458          0.159731          0.204795"
      ]
     },
     "execution_count": 24,
     "metadata": {},
     "output_type": "execute_result"
    }
   ],
   "source": [
    "# Nitrate_mean-inflow_mean\n",
    "mean_ni = df_corr(col=Season, \n",
    "        lst1=['n_mean'], lst2=['i_mean'],\n",
    "        dataframe=df, seasons=Season)\n",
    "mean_ni"
   ]
  },
  {
   "cell_type": "code",
   "execution_count": 25,
   "id": "5ddc08ed",
   "metadata": {},
   "outputs": [
    {
     "data": {
      "text/html": [
       "<div>\n",
       "<style scoped>\n",
       "    .dataframe tbody tr th:only-of-type {\n",
       "        vertical-align: middle;\n",
       "    }\n",
       "\n",
       "    .dataframe tbody tr th {\n",
       "        vertical-align: top;\n",
       "    }\n",
       "\n",
       "    .dataframe thead th {\n",
       "        text-align: right;\n",
       "    }\n",
       "</style>\n",
       "<table border=\"1\" class=\"dataframe\">\n",
       "  <thead>\n",
       "    <tr style=\"text-align: right;\">\n",
       "      <th></th>\n",
       "      <th>Winter</th>\n",
       "      <th>Summer</th>\n",
       "      <th>Southwest Monsoon</th>\n",
       "      <th>Northeast monsoon</th>\n",
       "    </tr>\n",
       "  </thead>\n",
       "  <tbody>\n",
       "    <tr>\n",
       "      <th>c_mean</th>\n",
       "      <td>0.271701</td>\n",
       "      <td>0.573195</td>\n",
       "      <td>0.723546</td>\n",
       "      <td>0.154205</td>\n",
       "    </tr>\n",
       "  </tbody>\n",
       "</table>\n",
       "</div>"
      ],
      "text/plain": [
       "          Winter    Summer Southwest Monsoon Northeast monsoon\n",
       "c_mean  0.271701  0.573195          0.723546          0.154205"
      ]
     },
     "execution_count": 25,
     "metadata": {},
     "output_type": "execute_result"
    }
   ],
   "source": [
    "# Phosphate_mean-Chlorophyll_mean\n",
    "mean_pc = df_corr(col=Season, \n",
    "        lst1=['p_mean'], lst2=['c_mean'],\n",
    "        dataframe=df, seasons=Season)\n",
    "mean_pc"
   ]
  },
  {
   "cell_type": "code",
   "execution_count": 26,
   "id": "1cbf94f0",
   "metadata": {},
   "outputs": [
    {
     "data": {
      "text/html": [
       "<div>\n",
       "<style scoped>\n",
       "    .dataframe tbody tr th:only-of-type {\n",
       "        vertical-align: middle;\n",
       "    }\n",
       "\n",
       "    .dataframe tbody tr th {\n",
       "        vertical-align: top;\n",
       "    }\n",
       "\n",
       "    .dataframe thead th {\n",
       "        text-align: right;\n",
       "    }\n",
       "</style>\n",
       "<table border=\"1\" class=\"dataframe\">\n",
       "  <thead>\n",
       "    <tr style=\"text-align: right;\">\n",
       "      <th></th>\n",
       "      <th>Winter</th>\n",
       "      <th>Summer</th>\n",
       "      <th>Southwest Monsoon</th>\n",
       "      <th>Northeast monsoon</th>\n",
       "    </tr>\n",
       "  </thead>\n",
       "  <tbody>\n",
       "    <tr>\n",
       "      <th>i_mean</th>\n",
       "      <td>0.309319</td>\n",
       "      <td>0.084617</td>\n",
       "      <td>0.015284</td>\n",
       "      <td>0.198415</td>\n",
       "    </tr>\n",
       "  </tbody>\n",
       "</table>\n",
       "</div>"
      ],
      "text/plain": [
       "          Winter    Summer Southwest Monsoon Northeast monsoon\n",
       "i_mean  0.309319  0.084617          0.015284          0.198415"
      ]
     },
     "execution_count": 26,
     "metadata": {},
     "output_type": "execute_result"
    }
   ],
   "source": [
    "# Phosphate_mean-inflow_mean\n",
    "mean_pi = df_corr(col=Season, \n",
    "        lst1=['p_mean'], lst2=['i_mean'],\n",
    "        dataframe=df, seasons=Season)\n",
    "mean_pi"
   ]
  },
  {
   "cell_type": "code",
   "execution_count": 27,
   "id": "f4b77950",
   "metadata": {},
   "outputs": [
    {
     "data": {
      "text/html": [
       "<div>\n",
       "<style scoped>\n",
       "    .dataframe tbody tr th:only-of-type {\n",
       "        vertical-align: middle;\n",
       "    }\n",
       "\n",
       "    .dataframe tbody tr th {\n",
       "        vertical-align: top;\n",
       "    }\n",
       "\n",
       "    .dataframe thead th {\n",
       "        text-align: right;\n",
       "    }\n",
       "</style>\n",
       "<table border=\"1\" class=\"dataframe\">\n",
       "  <thead>\n",
       "    <tr style=\"text-align: right;\">\n",
       "      <th></th>\n",
       "      <th>Winter</th>\n",
       "      <th>Summer</th>\n",
       "      <th>Southwest Monsoon</th>\n",
       "      <th>Northeast monsoon</th>\n",
       "    </tr>\n",
       "  </thead>\n",
       "  <tbody>\n",
       "    <tr>\n",
       "      <th>c_mean</th>\n",
       "      <td>0.036749</td>\n",
       "      <td>0.479311</td>\n",
       "      <td>0.467673</td>\n",
       "      <td>-0.182091</td>\n",
       "    </tr>\n",
       "    <tr>\n",
       "      <th>i_mean</th>\n",
       "      <td>0.428045</td>\n",
       "      <td>0.100458</td>\n",
       "      <td>0.159731</td>\n",
       "      <td>0.204795</td>\n",
       "    </tr>\n",
       "  </tbody>\n",
       "</table>\n",
       "</div>"
      ],
      "text/plain": [
       "          Winter    Summer Southwest Monsoon Northeast monsoon\n",
       "c_mean  0.036749  0.479311          0.467673         -0.182091\n",
       "i_mean  0.428045  0.100458          0.159731          0.204795"
      ]
     },
     "execution_count": 27,
     "metadata": {},
     "output_type": "execute_result"
    }
   ],
   "source": [
    "n_corr = pd.concat([mean_nc,mean_ni])\n",
    "n_corr"
   ]
  },
  {
   "cell_type": "code",
   "execution_count": 28,
   "id": "d71f5463",
   "metadata": {},
   "outputs": [
    {
     "data": {
      "text/html": [
       "<div>\n",
       "<style scoped>\n",
       "    .dataframe tbody tr th:only-of-type {\n",
       "        vertical-align: middle;\n",
       "    }\n",
       "\n",
       "    .dataframe tbody tr th {\n",
       "        vertical-align: top;\n",
       "    }\n",
       "\n",
       "    .dataframe thead th {\n",
       "        text-align: right;\n",
       "    }\n",
       "</style>\n",
       "<table border=\"1\" class=\"dataframe\">\n",
       "  <thead>\n",
       "    <tr style=\"text-align: right;\">\n",
       "      <th></th>\n",
       "      <th>Winter</th>\n",
       "      <th>Summer</th>\n",
       "      <th>Southwest Monsoon</th>\n",
       "      <th>Northeast monsoon</th>\n",
       "    </tr>\n",
       "  </thead>\n",
       "  <tbody>\n",
       "    <tr>\n",
       "      <th>c_mean</th>\n",
       "      <td>0.271701</td>\n",
       "      <td>0.573195</td>\n",
       "      <td>0.723546</td>\n",
       "      <td>0.154205</td>\n",
       "    </tr>\n",
       "    <tr>\n",
       "      <th>i_mean</th>\n",
       "      <td>0.309319</td>\n",
       "      <td>0.084617</td>\n",
       "      <td>0.015284</td>\n",
       "      <td>0.198415</td>\n",
       "    </tr>\n",
       "  </tbody>\n",
       "</table>\n",
       "</div>"
      ],
      "text/plain": [
       "          Winter    Summer Southwest Monsoon Northeast monsoon\n",
       "c_mean  0.271701  0.573195          0.723546          0.154205\n",
       "i_mean  0.309319  0.084617          0.015284          0.198415"
      ]
     },
     "execution_count": 28,
     "metadata": {},
     "output_type": "execute_result"
    }
   ],
   "source": [
    "p_corr = pd.concat([mean_pc,mean_pi])\n",
    "p_corr"
   ]
  },
  {
   "cell_type": "code",
   "execution_count": 29,
   "id": "2dd0f0b7",
   "metadata": {},
   "outputs": [
    {
     "data": {
      "text/plain": [
       "['Winter', 'Summer', 'Southwest Monsoon', 'Northeast monsoon']"
      ]
     },
     "execution_count": 29,
     "metadata": {},
     "output_type": "execute_result"
    }
   ],
   "source": [
    "Season"
   ]
  },
  {
   "cell_type": "code",
   "execution_count": 30,
   "id": "a22713db",
   "metadata": {},
   "outputs": [],
   "source": [
    "df_Winter = df_final[df_final['Season'] == 'Winter']\n",
    "df_Summer = df_final[df_final['Season'] == 'Summer']\n",
    "df_SW = df_final[df_final['Season'] == 'Southwest Monsoon']\n",
    "df_NE = df_final[df_final['Season'] == 'Northeast monsoon']"
   ]
  },
  {
   "cell_type": "markdown",
   "id": "74bccd8c",
   "metadata": {},
   "source": [
    "# SVR"
   ]
  },
  {
   "cell_type": "code",
   "execution_count": 31,
   "id": "e701a5ff",
   "metadata": {},
   "outputs": [],
   "source": [
    "from sklearn.model_selection import train_test_split\n",
    "from sklearn.pipeline import Pipeline\n",
    "from sklearn.preprocessing import StandardScaler\n",
    "from sklearn.svm import SVR\n",
    "from sklearn.model_selection import GridSearchCV\n",
    "import joblib\n",
    "from sklearn.metrics import r2_score\n",
    "\n",
    "def regression_error (y_test, y_pred):\n",
    "    \n",
    "    from sklearn.metrics import mean_absolute_error, mean_squared_error, r2_score\n",
    "    \n",
    "    MAE = mean_absolute_error(y_test,y_pred)\n",
    "    MSE = mean_squared_error(y_test,y_pred)\n",
    "    RMSE = np.sqrt(mean_squared_error(y_test,y_pred))\n",
    "    r2 = r2_score(y_test,y_pred)\n",
    "    \n",
    "    print(f\"MAE: {MAE}\")\n",
    "    print(f\"MSE: {MSE}\")\n",
    "    print(f\"RMSE: {RMSE}\")\n",
    "    print(f\"r2: {r2}\")\n",
    "\n",
    "def svr (X,y,test_size,file_dir,file_name):\n",
    "    \n",
    "    # Train-test split\n",
    "    X_train, X_test, y_train, y_test = train_test_split(X, y, test_size=test_size, random_state=42)\n",
    "    print(X_train.shape, y_train.shape)\n",
    "    print(X_test.shape, y_test.shape)\n",
    "    \n",
    "    # Creating Pipeline\n",
    "    pipeline = Pipeline([( \"scaler\" , StandardScaler()),\n",
    "                       (\"svr\",SVR())])\n",
    "    \n",
    "    # make lists of different parameters to check\n",
    "    param_grid = {'svr__C':[0.001,0.01,0.1,1,10], \n",
    "                  'svr__kernel':['linear','rbf','poly'], \n",
    "                  'svr__gamma':['scale','auto'], \n",
    "                  'svr__degree':[2,3,4], \n",
    "                  'svr__epsilon':[0,0.1,0.25,0.5]}\n",
    "    \n",
    "    # initialize\n",
    "    grid_model = GridSearchCV(estimator=pipeline,param_grid=param_grid)\n",
    "    \n",
    "    # fit\n",
    "    grid_model.fit(X_train,y_train)\n",
    "    \n",
    "    # model score\n",
    "    print('Training set score: ' + str(grid_model.score(X_train, y_train)))\n",
    "    print('Test set score: ' + str(grid_model.score(X_test, y_test)))\n",
    "    \n",
    "    # Prediction\n",
    "    y_pred = grid_model.predict(X_test)\n",
    "    \n",
    "    # Error metrics\n",
    "    regression_error(y_test,y_pred)\n",
    "    \n",
    "    # Plot\n",
    "    res = pd.DataFrame(y_test)\n",
    "    res['y_pred'] = y_pred\n",
    "    res = res.reset_index(drop=True)\n",
    "    plt.figure(figsize=(6,4),dpi=150)\n",
    "    res.plot()\n",
    "    plt.savefig(os.path.join(file_dir,file_name[:-4]+'.jpeg'))\n",
    "    \n",
    "    # Access the best set of parameters\n",
    "    best_params = grid_model.best_params_\n",
    "    print(best_params)\n",
    "    # Stores the optimum model in best_pipe\n",
    "    best_pipe = grid_model.best_estimator_\n",
    "    print(best_pipe)\n",
    "    \n",
    "#     # Result dataframe\n",
    "#     result_df = pd.DataFrame.from_dict(grid_model.cv_results_, orient='columns')\n",
    "#     print(result_df.columns)\n",
    "#     return result_df\n",
    "\n",
    "    # Outputs\n",
    "    # Save the model\n",
    "    file_path = os.path.join(file_dir,file_name)\n",
    "    joblib.dump(grid_model.best_estimator_, file_path, compress = 1)\n",
    "    \n",
    "    best_params_df = pd.DataFrame(pd.Series(grid_model.best_params_), columns=[file_name[:-4]]).transpose()\n",
    "    best_params_df['r2_score'] = r2_score(y_test,y_pred)\n",
    "    return best_params_df"
   ]
  },
  {
   "cell_type": "markdown",
   "id": "626b6135",
   "metadata": {},
   "source": [
    "# SUMMER Nitrogin-Chlorophyll"
   ]
  },
  {
   "cell_type": "code",
   "execution_count": 32,
   "id": "41957c6d",
   "metadata": {},
   "outputs": [
    {
     "name": "stdout",
     "output_type": "stream",
     "text": [
      "(496, 1) (496,)\n",
      "(56, 1) (56,)\n",
      "Training set score: 0.2828334549778646\n",
      "Test set score: 0.38619112684128487\n",
      "MAE: 5.9458293758790655\n",
      "MSE: 55.448824921163954\n",
      "RMSE: 7.446396774357646\n",
      "r2: 0.38619112684128487\n",
      "{'svr__C': 10, 'svr__degree': 2, 'svr__epsilon': 0.5, 'svr__gamma': 'scale', 'svr__kernel': 'rbf'}\n",
      "Pipeline(steps=[('scaler', StandardScaler()),\n",
      "                ('svr', SVR(C=10, degree=2, epsilon=0.5))])\n"
     ]
    },
    {
     "data": {
      "text/html": [
       "<div>\n",
       "<style scoped>\n",
       "    .dataframe tbody tr th:only-of-type {\n",
       "        vertical-align: middle;\n",
       "    }\n",
       "\n",
       "    .dataframe tbody tr th {\n",
       "        vertical-align: top;\n",
       "    }\n",
       "\n",
       "    .dataframe thead th {\n",
       "        text-align: right;\n",
       "    }\n",
       "</style>\n",
       "<table border=\"1\" class=\"dataframe\">\n",
       "  <thead>\n",
       "    <tr style=\"text-align: right;\">\n",
       "      <th></th>\n",
       "      <th>svr__C</th>\n",
       "      <th>svr__degree</th>\n",
       "      <th>svr__epsilon</th>\n",
       "      <th>svr__gamma</th>\n",
       "      <th>svr__kernel</th>\n",
       "      <th>r2_score</th>\n",
       "    </tr>\n",
       "  </thead>\n",
       "  <tbody>\n",
       "    <tr>\n",
       "      <th>SVR_SUMMER_nc</th>\n",
       "      <td>10</td>\n",
       "      <td>2</td>\n",
       "      <td>0.5</td>\n",
       "      <td>scale</td>\n",
       "      <td>rbf</td>\n",
       "      <td>0.386191</td>\n",
       "    </tr>\n",
       "  </tbody>\n",
       "</table>\n",
       "</div>"
      ],
      "text/plain": [
       "              svr__C svr__degree svr__epsilon svr__gamma svr__kernel  r2_score\n",
       "SVR_SUMMER_nc     10           2          0.5      scale         rbf  0.386191"
      ]
     },
     "execution_count": 32,
     "metadata": {},
     "output_type": "execute_result"
    },
    {
     "data": {
      "text/plain": [
       "<Figure size 900x600 with 0 Axes>"
      ]
     },
     "metadata": {},
     "output_type": "display_data"
    },
    {
     "data": {
      "image/png": "[encoded data removed]",
      "text/plain": [
       "<Figure size 432x288 with 1 Axes>"
      ]
     },
     "metadata": {
      "needs_background": "light"
     },
     "output_type": "display_data"
    }
   ],
   "source": [
    "X = df_Summer[['c_mean']]\n",
    "y = df_Summer['n_mean']\n",
    "\n",
    "file_dir = os.path.join(os.getcwd(), \"SVR_RF_npc\")\n",
    "file_name = \"SVR_SUMMER_nc.pkl\"\n",
    "\n",
    "SVR_SUMMER_nc_best_params_df = svr(X=X,y=y,test_size=0.10,file_dir=file_dir,file_name=file_name)\n",
    "SVR_SUMMER_nc_best_params_df"
   ]
  },
  {
   "cell_type": "markdown",
   "id": "8cc62f52",
   "metadata": {},
   "source": [
    "# SUMMER Phosphate-Chlorophyll"
   ]
  },
  {
   "cell_type": "code",
   "execution_count": 33,
   "id": "ec2ff00c",
   "metadata": {},
   "outputs": [
    {
     "name": "stdout",
     "output_type": "stream",
     "text": [
      "(496, 1) (496,)\n",
      "(56, 1) (56,)\n",
      "Training set score: 0.45429455935633667\n",
      "Test set score: 0.2251960134361063\n",
      "MAE: 0.5569141850865852\n",
      "MSE: 0.44166257123116237\n",
      "RMSE: 0.6645769866848854\n",
      "r2: 0.2251960134361063\n",
      "{'svr__C': 10, 'svr__degree': 2, 'svr__epsilon': 0, 'svr__gamma': 'auto', 'svr__kernel': 'rbf'}\n",
      "Pipeline(steps=[('scaler', StandardScaler()),\n",
      "                ('svr', SVR(C=10, degree=2, epsilon=0, gamma='auto'))])\n"
     ]
    },
    {
     "data": {
      "text/html": [
       "<div>\n",
       "<style scoped>\n",
       "    .dataframe tbody tr th:only-of-type {\n",
       "        vertical-align: middle;\n",
       "    }\n",
       "\n",
       "    .dataframe tbody tr th {\n",
       "        vertical-align: top;\n",
       "    }\n",
       "\n",
       "    .dataframe thead th {\n",
       "        text-align: right;\n",
       "    }\n",
       "</style>\n",
       "<table border=\"1\" class=\"dataframe\">\n",
       "  <thead>\n",
       "    <tr style=\"text-align: right;\">\n",
       "      <th></th>\n",
       "      <th>svr__C</th>\n",
       "      <th>svr__degree</th>\n",
       "      <th>svr__epsilon</th>\n",
       "      <th>svr__gamma</th>\n",
       "      <th>svr__kernel</th>\n",
       "      <th>r2_score</th>\n",
       "    </tr>\n",
       "  </thead>\n",
       "  <tbody>\n",
       "    <tr>\n",
       "      <th>SVR_SUMMER_pc</th>\n",
       "      <td>10</td>\n",
       "      <td>2</td>\n",
       "      <td>0</td>\n",
       "      <td>auto</td>\n",
       "      <td>rbf</td>\n",
       "      <td>0.225196</td>\n",
       "    </tr>\n",
       "  </tbody>\n",
       "</table>\n",
       "</div>"
      ],
      "text/plain": [
       "              svr__C svr__degree svr__epsilon svr__gamma svr__kernel  r2_score\n",
       "SVR_SUMMER_pc     10           2            0       auto         rbf  0.225196"
      ]
     },
     "execution_count": 33,
     "metadata": {},
     "output_type": "execute_result"
    },
    {
     "data": {
      "text/plain": [
       "<Figure size 900x600 with 0 Axes>"
      ]
     },
     "metadata": {},
     "output_type": "display_data"
    },
    {
     "data": {
      "image/png": "[encoded data removed]",
      "text/plain": [
       "<Figure size 432x288 with 1 Axes>"
      ]
     },
     "metadata": {
      "needs_background": "light"
     },
     "output_type": "display_data"
    }
   ],
   "source": [
    "X = df_Summer[['c_mean']]\n",
    "y = df_Summer['p_mean']\n",
    "\n",
    "file_dir = os.path.join(os.getcwd(), \"SVR_RF_npc\")\n",
    "file_name = \"SVR_SUMMER_pc.pkl\"\n",
    "\n",
    "SVR_SUMMER_pc_best_params_df = svr(X=X,y=y,test_size=0.10,file_dir=file_dir,file_name=file_name)\n",
    "SVR_SUMMER_pc_best_params_df"
   ]
  },
  {
   "cell_type": "markdown",
   "id": "8493f806",
   "metadata": {},
   "source": [
    "# WINTER Nitrogin-Chlorophyll"
   ]
  },
  {
   "cell_type": "code",
   "execution_count": 34,
   "id": "56429ccb",
   "metadata": {},
   "outputs": [
    {
     "name": "stdout",
     "output_type": "stream",
     "text": [
      "(320, 1) (320,)\n",
      "(36, 1) (36,)\n",
      "Training set score: 0.33325674461803134\n",
      "Test set score: 0.18873719895699548\n",
      "MAE: 5.656548769678832\n",
      "MSE: 71.2804857592453\n",
      "RMSE: 8.442777135471793\n",
      "r2: 0.18873719895699548\n",
      "{'svr__C': 10, 'svr__degree': 2, 'svr__epsilon': 0.1, 'svr__gamma': 'scale', 'svr__kernel': 'rbf'}\n",
      "Pipeline(steps=[('scaler', StandardScaler()), ('svr', SVR(C=10, degree=2))])\n"
     ]
    },
    {
     "data": {
      "text/html": [
       "<div>\n",
       "<style scoped>\n",
       "    .dataframe tbody tr th:only-of-type {\n",
       "        vertical-align: middle;\n",
       "    }\n",
       "\n",
       "    .dataframe tbody tr th {\n",
       "        vertical-align: top;\n",
       "    }\n",
       "\n",
       "    .dataframe thead th {\n",
       "        text-align: right;\n",
       "    }\n",
       "</style>\n",
       "<table border=\"1\" class=\"dataframe\">\n",
       "  <thead>\n",
       "    <tr style=\"text-align: right;\">\n",
       "      <th></th>\n",
       "      <th>svr__C</th>\n",
       "      <th>svr__degree</th>\n",
       "      <th>svr__epsilon</th>\n",
       "      <th>svr__gamma</th>\n",
       "      <th>svr__kernel</th>\n",
       "      <th>r2_score</th>\n",
       "    </tr>\n",
       "  </thead>\n",
       "  <tbody>\n",
       "    <tr>\n",
       "      <th>SVR_WINTER_nc</th>\n",
       "      <td>10</td>\n",
       "      <td>2</td>\n",
       "      <td>0.1</td>\n",
       "      <td>scale</td>\n",
       "      <td>rbf</td>\n",
       "      <td>0.188737</td>\n",
       "    </tr>\n",
       "  </tbody>\n",
       "</table>\n",
       "</div>"
      ],
      "text/plain": [
       "              svr__C svr__degree svr__epsilon svr__gamma svr__kernel  r2_score\n",
       "SVR_WINTER_nc     10           2          0.1      scale         rbf  0.188737"
      ]
     },
     "execution_count": 34,
     "metadata": {},
     "output_type": "execute_result"
    },
    {
     "data": {
      "text/plain": [
       "<Figure size 900x600 with 0 Axes>"
      ]
     },
     "metadata": {},
     "output_type": "display_data"
    },
    {
     "data": {
      "image/png": "[encoded data removed]",
      "text/plain": [
       "<Figure size 432x288 with 1 Axes>"
      ]
     },
     "metadata": {
      "needs_background": "light"
     },
     "output_type": "display_data"
    }
   ],
   "source": [
    "X = df_Winter[['c_mean']]\n",
    "y = df_Winter['n_mean']\n",
    "\n",
    "file_dir = os.path.join(os.getcwd(), \"SVR_RF_npc\")\n",
    "file_name = \"SVR_WINTER_nc.pkl\"\n",
    "\n",
    "SVR_WINTER_nc_best_params_df = svr(X=X,y=y,test_size=0.10,file_dir=file_dir,file_name=file_name)\n",
    "SVR_WINTER_nc_best_params_df"
   ]
  },
  {
   "cell_type": "markdown",
   "id": "38ae38d9",
   "metadata": {},
   "source": [
    "# WINTER Phosphate-Chlorophyll"
   ]
  },
  {
   "cell_type": "code",
   "execution_count": 35,
   "id": "445f6fd4",
   "metadata": {},
   "outputs": [
    {
     "name": "stdout",
     "output_type": "stream",
     "text": [
      "(320, 1) (320,)\n",
      "(36, 1) (36,)\n",
      "Training set score: 0.23431387733730613\n",
      "Test set score: 0.06084530456001924\n",
      "MAE: 0.41983857933672364\n",
      "MSE: 0.3509297786373653\n",
      "RMSE: 0.5923932634976239\n",
      "r2: 0.06084530456001924\n",
      "{'svr__C': 10, 'svr__degree': 2, 'svr__epsilon': 0.25, 'svr__gamma': 'scale', 'svr__kernel': 'rbf'}\n",
      "Pipeline(steps=[('scaler', StandardScaler()),\n",
      "                ('svr', SVR(C=10, degree=2, epsilon=0.25))])\n"
     ]
    },
    {
     "data": {
      "text/html": [
       "<div>\n",
       "<style scoped>\n",
       "    .dataframe tbody tr th:only-of-type {\n",
       "        vertical-align: middle;\n",
       "    }\n",
       "\n",
       "    .dataframe tbody tr th {\n",
       "        vertical-align: top;\n",
       "    }\n",
       "\n",
       "    .dataframe thead th {\n",
       "        text-align: right;\n",
       "    }\n",
       "</style>\n",
       "<table border=\"1\" class=\"dataframe\">\n",
       "  <thead>\n",
       "    <tr style=\"text-align: right;\">\n",
       "      <th></th>\n",
       "      <th>svr__C</th>\n",
       "      <th>svr__degree</th>\n",
       "      <th>svr__epsilon</th>\n",
       "      <th>svr__gamma</th>\n",
       "      <th>svr__kernel</th>\n",
       "      <th>r2_score</th>\n",
       "    </tr>\n",
       "  </thead>\n",
       "  <tbody>\n",
       "    <tr>\n",
       "      <th>SVR_WINTER_pc</th>\n",
       "      <td>10</td>\n",
       "      <td>2</td>\n",
       "      <td>0.25</td>\n",
       "      <td>scale</td>\n",
       "      <td>rbf</td>\n",
       "      <td>0.060845</td>\n",
       "    </tr>\n",
       "  </tbody>\n",
       "</table>\n",
       "</div>"
      ],
      "text/plain": [
       "              svr__C svr__degree svr__epsilon svr__gamma svr__kernel  r2_score\n",
       "SVR_WINTER_pc     10           2         0.25      scale         rbf  0.060845"
      ]
     },
     "execution_count": 35,
     "metadata": {},
     "output_type": "execute_result"
    },
    {
     "data": {
      "text/plain": [
       "<Figure size 900x600 with 0 Axes>"
      ]
     },
     "metadata": {},
     "output_type": "display_data"
    },
    {
     "data": {
      "image/png": "[encoded data removed]",
      "text/plain": [
       "<Figure size 432x288 with 1 Axes>"
      ]
     },
     "metadata": {
      "needs_background": "light"
     },
     "output_type": "display_data"
    }
   ],
   "source": [
    "X = df_Winter[['c_mean']]\n",
    "y = df_Winter['p_mean']\n",
    "\n",
    "file_dir = os.path.join(os.getcwd(), \"SVR_RF_npc\")\n",
    "file_name = \"SVR_WINTER_pc.pkl\"\n",
    "\n",
    "SVR_WINTER_pc_best_params_df = svr(X=X,y=y,test_size=0.10,file_dir=file_dir,file_name=file_name)\n",
    "SVR_WINTER_pc_best_params_df"
   ]
  },
  {
   "cell_type": "markdown",
   "id": "24f6a760",
   "metadata": {},
   "source": [
    "# SW Nitrogin-Chlorophyll"
   ]
  },
  {
   "cell_type": "code",
   "execution_count": 36,
   "id": "59170e88",
   "metadata": {},
   "outputs": [
    {
     "name": "stdout",
     "output_type": "stream",
     "text": [
      "(658, 1) (658,)\n",
      "(74, 1) (74,)\n",
      "Training set score: 0.4010609532757925\n",
      "Test set score: 0.33001474683790943\n",
      "MAE: 4.058939802795247\n",
      "MSE: 32.800867627434755\n",
      "RMSE: 5.7272041719703655\n",
      "r2: 0.33001474683790943\n",
      "{'svr__C': 10, 'svr__degree': 2, 'svr__epsilon': 0.5, 'svr__gamma': 'scale', 'svr__kernel': 'rbf'}\n",
      "Pipeline(steps=[('scaler', StandardScaler()),\n",
      "                ('svr', SVR(C=10, degree=2, epsilon=0.5))])\n"
     ]
    },
    {
     "data": {
      "text/html": [
       "<div>\n",
       "<style scoped>\n",
       "    .dataframe tbody tr th:only-of-type {\n",
       "        vertical-align: middle;\n",
       "    }\n",
       "\n",
       "    .dataframe tbody tr th {\n",
       "        vertical-align: top;\n",
       "    }\n",
       "\n",
       "    .dataframe thead th {\n",
       "        text-align: right;\n",
       "    }\n",
       "</style>\n",
       "<table border=\"1\" class=\"dataframe\">\n",
       "  <thead>\n",
       "    <tr style=\"text-align: right;\">\n",
       "      <th></th>\n",
       "      <th>svr__C</th>\n",
       "      <th>svr__degree</th>\n",
       "      <th>svr__epsilon</th>\n",
       "      <th>svr__gamma</th>\n",
       "      <th>svr__kernel</th>\n",
       "      <th>r2_score</th>\n",
       "    </tr>\n",
       "  </thead>\n",
       "  <tbody>\n",
       "    <tr>\n",
       "      <th>SVR_SW_nc</th>\n",
       "      <td>10</td>\n",
       "      <td>2</td>\n",
       "      <td>0.5</td>\n",
       "      <td>scale</td>\n",
       "      <td>rbf</td>\n",
       "      <td>0.330015</td>\n",
       "    </tr>\n",
       "  </tbody>\n",
       "</table>\n",
       "</div>"
      ],
      "text/plain": [
       "          svr__C svr__degree svr__epsilon svr__gamma svr__kernel  r2_score\n",
       "SVR_SW_nc     10           2          0.5      scale         rbf  0.330015"
      ]
     },
     "execution_count": 36,
     "metadata": {},
     "output_type": "execute_result"
    },
    {
     "data": {
      "text/plain": [
       "<Figure size 900x600 with 0 Axes>"
      ]
     },
     "metadata": {},
     "output_type": "display_data"
    },
    {
     "data": {
      "image/png": "[encoded data removed]",
      "text/plain": [
       "<Figure size 432x288 with 1 Axes>"
      ]
     },
     "metadata": {
      "needs_background": "light"
     },
     "output_type": "display_data"
    }
   ],
   "source": [
    "X = df_SW[['c_mean']]\n",
    "y = df_SW['n_mean']\n",
    "\n",
    "file_dir = os.path.join(os.getcwd(), \"SVR_RF_npc\")\n",
    "file_name = \"SVR_SW_nc.pkl\"\n",
    "\n",
    "SVR_SW_nc_best_params_df = svr(X=X,y=y,test_size=0.10,file_dir=file_dir,file_name=file_name)\n",
    "SVR_SW_nc_best_params_df"
   ]
  },
  {
   "cell_type": "markdown",
   "id": "42b56566",
   "metadata": {},
   "source": [
    "# SW Phosphate-Chlorophyll"
   ]
  },
  {
   "cell_type": "code",
   "execution_count": 37,
   "id": "d34905ff",
   "metadata": {},
   "outputs": [
    {
     "name": "stdout",
     "output_type": "stream",
     "text": [
      "(658, 1) (658,)\n",
      "(74, 1) (74,)\n",
      "Training set score: 0.7058093160778399\n",
      "Test set score: 0.5718464296539711\n",
      "MAE: 0.324666212497645\n",
      "MSE: 0.17993804822683965\n",
      "RMSE: 0.42419105156384385\n",
      "r2: 0.5718464296539711\n",
      "{'svr__C': 10, 'svr__degree': 2, 'svr__epsilon': 0.25, 'svr__gamma': 'auto', 'svr__kernel': 'rbf'}\n",
      "Pipeline(steps=[('scaler', StandardScaler()),\n",
      "                ('svr', SVR(C=10, degree=2, epsilon=0.25, gamma='auto'))])\n"
     ]
    },
    {
     "data": {
      "text/html": [
       "<div>\n",
       "<style scoped>\n",
       "    .dataframe tbody tr th:only-of-type {\n",
       "        vertical-align: middle;\n",
       "    }\n",
       "\n",
       "    .dataframe tbody tr th {\n",
       "        vertical-align: top;\n",
       "    }\n",
       "\n",
       "    .dataframe thead th {\n",
       "        text-align: right;\n",
       "    }\n",
       "</style>\n",
       "<table border=\"1\" class=\"dataframe\">\n",
       "  <thead>\n",
       "    <tr style=\"text-align: right;\">\n",
       "      <th></th>\n",
       "      <th>svr__C</th>\n",
       "      <th>svr__degree</th>\n",
       "      <th>svr__epsilon</th>\n",
       "      <th>svr__gamma</th>\n",
       "      <th>svr__kernel</th>\n",
       "      <th>r2_score</th>\n",
       "    </tr>\n",
       "  </thead>\n",
       "  <tbody>\n",
       "    <tr>\n",
       "      <th>SVR_SW_pc</th>\n",
       "      <td>10</td>\n",
       "      <td>2</td>\n",
       "      <td>0.25</td>\n",
       "      <td>auto</td>\n",
       "      <td>rbf</td>\n",
       "      <td>0.571846</td>\n",
       "    </tr>\n",
       "  </tbody>\n",
       "</table>\n",
       "</div>"
      ],
      "text/plain": [
       "          svr__C svr__degree svr__epsilon svr__gamma svr__kernel  r2_score\n",
       "SVR_SW_pc     10           2         0.25       auto         rbf  0.571846"
      ]
     },
     "execution_count": 37,
     "metadata": {},
     "output_type": "execute_result"
    },
    {
     "data": {
      "text/plain": [
       "<Figure size 900x600 with 0 Axes>"
      ]
     },
     "metadata": {},
     "output_type": "display_data"
    },
    {
     "data": {
      "image/png": "[encoded data removed]",
      "text/plain": [
       "<Figure size 432x288 with 1 Axes>"
      ]
     },
     "metadata": {
      "needs_background": "light"
     },
     "output_type": "display_data"
    }
   ],
   "source": [
    "X = df_SW[['c_mean']]\n",
    "y = df_SW['p_mean']\n",
    "\n",
    "file_dir = os.path.join(os.getcwd(), \"SVR_RF_npc\")\n",
    "file_name = \"SVR_SW_pc.pkl\"\n",
    "\n",
    "SVR_SW_pc_best_params_df = svr(X=X,y=y,test_size=0.10,file_dir=file_dir,file_name=file_name)\n",
    "SVR_SW_pc_best_params_df"
   ]
  },
  {
   "cell_type": "markdown",
   "id": "348789d7",
   "metadata": {},
   "source": [
    "# NE Nitrogin-Chlorophyll"
   ]
  },
  {
   "cell_type": "code",
   "execution_count": 38,
   "id": "4a0e7ad3",
   "metadata": {},
   "outputs": [
    {
     "name": "stdout",
     "output_type": "stream",
     "text": [
      "(496, 1) (496,)\n",
      "(56, 1) (56,)\n",
      "Training set score: 0.13974127359901978\n",
      "Test set score: 0.21104236033963275\n",
      "MAE: 6.653798931800359\n",
      "MSE: 71.71747920304286\n",
      "RMSE: 8.468617313531345\n",
      "r2: 0.21104236033963275\n",
      "{'svr__C': 10, 'svr__degree': 2, 'svr__epsilon': 0.5, 'svr__gamma': 'scale', 'svr__kernel': 'rbf'}\n",
      "Pipeline(steps=[('scaler', StandardScaler()),\n",
      "                ('svr', SVR(C=10, degree=2, epsilon=0.5))])\n"
     ]
    },
    {
     "data": {
      "text/html": [
       "<div>\n",
       "<style scoped>\n",
       "    .dataframe tbody tr th:only-of-type {\n",
       "        vertical-align: middle;\n",
       "    }\n",
       "\n",
       "    .dataframe tbody tr th {\n",
       "        vertical-align: top;\n",
       "    }\n",
       "\n",
       "    .dataframe thead th {\n",
       "        text-align: right;\n",
       "    }\n",
       "</style>\n",
       "<table border=\"1\" class=\"dataframe\">\n",
       "  <thead>\n",
       "    <tr style=\"text-align: right;\">\n",
       "      <th></th>\n",
       "      <th>svr__C</th>\n",
       "      <th>svr__degree</th>\n",
       "      <th>svr__epsilon</th>\n",
       "      <th>svr__gamma</th>\n",
       "      <th>svr__kernel</th>\n",
       "      <th>r2_score</th>\n",
       "    </tr>\n",
       "  </thead>\n",
       "  <tbody>\n",
       "    <tr>\n",
       "      <th>SVR_NE_nc</th>\n",
       "      <td>10</td>\n",
       "      <td>2</td>\n",
       "      <td>0.5</td>\n",
       "      <td>scale</td>\n",
       "      <td>rbf</td>\n",
       "      <td>0.211042</td>\n",
       "    </tr>\n",
       "  </tbody>\n",
       "</table>\n",
       "</div>"
      ],
      "text/plain": [
       "          svr__C svr__degree svr__epsilon svr__gamma svr__kernel  r2_score\n",
       "SVR_NE_nc     10           2          0.5      scale         rbf  0.211042"
      ]
     },
     "execution_count": 38,
     "metadata": {},
     "output_type": "execute_result"
    },
    {
     "data": {
      "text/plain": [
       "<Figure size 900x600 with 0 Axes>"
      ]
     },
     "metadata": {},
     "output_type": "display_data"
    },
    {
     "data": {
      "image/png": "[encoded data removed]",
      "text/plain": [
       "<Figure size 432x288 with 1 Axes>"
      ]
     },
     "metadata": {
      "needs_background": "light"
     },
     "output_type": "display_data"
    }
   ],
   "source": [
    "X = df_NE[['c_mean']]\n",
    "y = df_NE['n_mean']\n",
    "\n",
    "file_dir = os.path.join(os.getcwd(), \"SVR_RF_npc\")\n",
    "file_name = \"SVR_NE_nc.pkl\"\n",
    "\n",
    "SVR_NE_nc_best_params_df = svr(X=X,y=y,test_size=0.10,file_dir=file_dir,file_name=file_name)\n",
    "SVR_NE_nc_best_params_df"
   ]
  },
  {
   "cell_type": "markdown",
   "id": "fbf4d0af",
   "metadata": {},
   "source": [
    "# NE Phosphate-Chlorophyll"
   ]
  },
  {
   "cell_type": "code",
   "execution_count": 39,
   "id": "c2fcbf2c",
   "metadata": {},
   "outputs": [
    {
     "name": "stdout",
     "output_type": "stream",
     "text": [
      "(496, 1) (496,)\n",
      "(56, 1) (56,)\n",
      "Training set score: 0.18646193058504723\n",
      "Test set score: 0.17011234445651047\n",
      "MAE: 0.4800623136545405\n",
      "MSE: 0.33780448345734143\n",
      "RMSE: 0.5812095004878546\n",
      "r2: 0.17011234445651047\n",
      "{'svr__C': 10, 'svr__degree': 2, 'svr__epsilon': 0.1, 'svr__gamma': 'auto', 'svr__kernel': 'rbf'}\n",
      "Pipeline(steps=[('scaler', StandardScaler()),\n",
      "                ('svr', SVR(C=10, degree=2, gamma='auto'))])\n"
     ]
    },
    {
     "data": {
      "text/html": [
       "<div>\n",
       "<style scoped>\n",
       "    .dataframe tbody tr th:only-of-type {\n",
       "        vertical-align: middle;\n",
       "    }\n",
       "\n",
       "    .dataframe tbody tr th {\n",
       "        vertical-align: top;\n",
       "    }\n",
       "\n",
       "    .dataframe thead th {\n",
       "        text-align: right;\n",
       "    }\n",
       "</style>\n",
       "<table border=\"1\" class=\"dataframe\">\n",
       "  <thead>\n",
       "    <tr style=\"text-align: right;\">\n",
       "      <th></th>\n",
       "      <th>svr__C</th>\n",
       "      <th>svr__degree</th>\n",
       "      <th>svr__epsilon</th>\n",
       "      <th>svr__gamma</th>\n",
       "      <th>svr__kernel</th>\n",
       "      <th>r2_score</th>\n",
       "    </tr>\n",
       "  </thead>\n",
       "  <tbody>\n",
       "    <tr>\n",
       "      <th>SVR_NE_pc</th>\n",
       "      <td>10</td>\n",
       "      <td>2</td>\n",
       "      <td>0.1</td>\n",
       "      <td>auto</td>\n",
       "      <td>rbf</td>\n",
       "      <td>0.170112</td>\n",
       "    </tr>\n",
       "  </tbody>\n",
       "</table>\n",
       "</div>"
      ],
      "text/plain": [
       "          svr__C svr__degree svr__epsilon svr__gamma svr__kernel  r2_score\n",
       "SVR_NE_pc     10           2          0.1       auto         rbf  0.170112"
      ]
     },
     "execution_count": 39,
     "metadata": {},
     "output_type": "execute_result"
    },
    {
     "data": {
      "text/plain": [
       "<Figure size 900x600 with 0 Axes>"
      ]
     },
     "metadata": {},
     "output_type": "display_data"
    },
    {
     "data": {
      "image/png": "[encoded data removed]",
      "text/plain": [
       "<Figure size 432x288 with 1 Axes>"
      ]
     },
     "metadata": {
      "needs_background": "light"
     },
     "output_type": "display_data"
    }
   ],
   "source": [
    "X = df_NE[['c_mean']]\n",
    "y = df_NE['p_mean']\n",
    "\n",
    "file_dir = os.path.join(os.getcwd(), \"SVR_RF_npc\")\n",
    "file_name = \"SVR_NE_pc.pkl\"\n",
    "\n",
    "SVR_NE_pc_best_params_df = svr(X=X,y=y,test_size=0.10,file_dir=file_dir,file_name=file_name)\n",
    "SVR_NE_pc_best_params_df"
   ]
  },
  {
   "cell_type": "markdown",
   "id": "537ef5c5",
   "metadata": {},
   "source": [
    "# SUMMER Nitrogin-Chlorophyll-inflow"
   ]
  },
  {
   "cell_type": "code",
   "execution_count": 40,
   "id": "07e1b604",
   "metadata": {},
   "outputs": [
    {
     "name": "stdout",
     "output_type": "stream",
     "text": [
      "(496, 2) (496,)\n",
      "(56, 2) (56,)\n",
      "Training set score: 0.3323010388945252\n",
      "Test set score: 0.3858647465619469\n",
      "MAE: 4.375773480361533\n",
      "MSE: 55.47830869658349\n",
      "RMSE: 7.448376245637937\n",
      "r2: 0.3858647465619469\n",
      "{'svr__C': 10, 'svr__degree': 2, 'svr__epsilon': 0.5, 'svr__gamma': 'auto', 'svr__kernel': 'rbf'}\n",
      "Pipeline(steps=[('scaler', StandardScaler()),\n",
      "                ('svr', SVR(C=10, degree=2, epsilon=0.5, gamma='auto'))])\n"
     ]
    },
    {
     "data": {
      "text/html": [
       "<div>\n",
       "<style scoped>\n",
       "    .dataframe tbody tr th:only-of-type {\n",
       "        vertical-align: middle;\n",
       "    }\n",
       "\n",
       "    .dataframe tbody tr th {\n",
       "        vertical-align: top;\n",
       "    }\n",
       "\n",
       "    .dataframe thead th {\n",
       "        text-align: right;\n",
       "    }\n",
       "</style>\n",
       "<table border=\"1\" class=\"dataframe\">\n",
       "  <thead>\n",
       "    <tr style=\"text-align: right;\">\n",
       "      <th></th>\n",
       "      <th>svr__C</th>\n",
       "      <th>svr__degree</th>\n",
       "      <th>svr__epsilon</th>\n",
       "      <th>svr__gamma</th>\n",
       "      <th>svr__kernel</th>\n",
       "      <th>r2_score</th>\n",
       "    </tr>\n",
       "  </thead>\n",
       "  <tbody>\n",
       "    <tr>\n",
       "      <th>SVR_SUMMER_nci</th>\n",
       "      <td>10</td>\n",
       "      <td>2</td>\n",
       "      <td>0.5</td>\n",
       "      <td>auto</td>\n",
       "      <td>rbf</td>\n",
       "      <td>0.385865</td>\n",
       "    </tr>\n",
       "  </tbody>\n",
       "</table>\n",
       "</div>"
      ],
      "text/plain": [
       "               svr__C svr__degree svr__epsilon svr__gamma svr__kernel  \\\n",
       "SVR_SUMMER_nci     10           2          0.5       auto         rbf   \n",
       "\n",
       "                r2_score  \n",
       "SVR_SUMMER_nci  0.385865  "
      ]
     },
     "execution_count": 40,
     "metadata": {},
     "output_type": "execute_result"
    },
    {
     "data": {
      "text/plain": [
       "<Figure size 900x600 with 0 Axes>"
      ]
     },
     "metadata": {},
     "output_type": "display_data"
    },
    {
     "data": {
      "image/png": "[encoded data removed]",
      "text/plain": [
       "<Figure size 432x288 with 1 Axes>"
      ]
     },
     "metadata": {
      "needs_background": "light"
     },
     "output_type": "display_data"
    }
   ],
   "source": [
    "X = df_Summer[['c_mean','i_mean']]\n",
    "y = df_Summer['n_mean']\n",
    "\n",
    "file_dir = os.path.join(os.getcwd(), \"SVR_RF_npci\")\n",
    "file_name = \"SVR_SUMMER_nci.pkl\"\n",
    "\n",
    "SVR_SUMMER_nci_best_params_df = svr(X=X,y=y,test_size=0.10,file_dir=file_dir,file_name=file_name)\n",
    "SVR_SUMMER_nci_best_params_df"
   ]
  },
  {
   "cell_type": "markdown",
   "id": "eec6d1a8",
   "metadata": {},
   "source": [
    "# SUMMER Phosphate-Chlorophyll-inflow"
   ]
  },
  {
   "cell_type": "code",
   "execution_count": 41,
   "id": "019db451",
   "metadata": {},
   "outputs": [
    {
     "name": "stdout",
     "output_type": "stream",
     "text": [
      "(496, 2) (496,)\n",
      "(56, 2) (56,)\n",
      "Training set score: 0.7073532562427409\n",
      "Test set score: 0.7326519091240796\n",
      "MAE: 0.2842394864231776\n",
      "MSE: 0.15239679619312888\n",
      "RMSE: 0.39038032249734217\n",
      "r2: 0.7326519091240796\n",
      "{'svr__C': 10, 'svr__degree': 2, 'svr__epsilon': 0.1, 'svr__gamma': 'scale', 'svr__kernel': 'rbf'}\n",
      "Pipeline(steps=[('scaler', StandardScaler()), ('svr', SVR(C=10, degree=2))])\n"
     ]
    },
    {
     "data": {
      "text/html": [
       "<div>\n",
       "<style scoped>\n",
       "    .dataframe tbody tr th:only-of-type {\n",
       "        vertical-align: middle;\n",
       "    }\n",
       "\n",
       "    .dataframe tbody tr th {\n",
       "        vertical-align: top;\n",
       "    }\n",
       "\n",
       "    .dataframe thead th {\n",
       "        text-align: right;\n",
       "    }\n",
       "</style>\n",
       "<table border=\"1\" class=\"dataframe\">\n",
       "  <thead>\n",
       "    <tr style=\"text-align: right;\">\n",
       "      <th></th>\n",
       "      <th>svr__C</th>\n",
       "      <th>svr__degree</th>\n",
       "      <th>svr__epsilon</th>\n",
       "      <th>svr__gamma</th>\n",
       "      <th>svr__kernel</th>\n",
       "      <th>r2_score</th>\n",
       "    </tr>\n",
       "  </thead>\n",
       "  <tbody>\n",
       "    <tr>\n",
       "      <th>SVR_SUMMER_pci</th>\n",
       "      <td>10</td>\n",
       "      <td>2</td>\n",
       "      <td>0.1</td>\n",
       "      <td>scale</td>\n",
       "      <td>rbf</td>\n",
       "      <td>0.732652</td>\n",
       "    </tr>\n",
       "  </tbody>\n",
       "</table>\n",
       "</div>"
      ],
      "text/plain": [
       "               svr__C svr__degree svr__epsilon svr__gamma svr__kernel  \\\n",
       "SVR_SUMMER_pci     10           2          0.1      scale         rbf   \n",
       "\n",
       "                r2_score  \n",
       "SVR_SUMMER_pci  0.732652  "
      ]
     },
     "execution_count": 41,
     "metadata": {},
     "output_type": "execute_result"
    },
    {
     "data": {
      "text/plain": [
       "<Figure size 900x600 with 0 Axes>"
      ]
     },
     "metadata": {},
     "output_type": "display_data"
    },
    {
     "data": {
      "image/png": "[encoded data removed]",
      "text/plain": [
       "<Figure size 432x288 with 1 Axes>"
      ]
     },
     "metadata": {
      "needs_background": "light"
     },
     "output_type": "display_data"
    }
   ],
   "source": [
    "X = df_Summer[['c_mean','i_mean']]\n",
    "y = df_Summer['p_mean']\n",
    "\n",
    "file_dir = os.path.join(os.getcwd(), \"SVR_RF_npci\")\n",
    "file_name = \"SVR_SUMMER_pci.pkl\"\n",
    "\n",
    "SVR_SUMMER_pci_best_params_df = svr(X=X,y=y,test_size=0.10,file_dir=file_dir,file_name=file_name)\n",
    "SVR_SUMMER_pci_best_params_df"
   ]
  },
  {
   "cell_type": "markdown",
   "id": "facad81b",
   "metadata": {},
   "source": [
    "# WINTER Nitrogin-Chlorophyll-inflow"
   ]
  },
  {
   "cell_type": "code",
   "execution_count": 42,
   "id": "fa290583",
   "metadata": {},
   "outputs": [
    {
     "name": "stdout",
     "output_type": "stream",
     "text": [
      "(320, 2) (320,)\n",
      "(36, 2) (36,)\n",
      "Training set score: 0.5461411368345965\n",
      "Test set score: 0.44863537742420845\n",
      "MAE: 4.015131089899209\n",
      "MSE: 48.44489119572243\n",
      "RMSE: 6.960236432458486\n",
      "r2: 0.44863537742420845\n",
      "{'svr__C': 10, 'svr__degree': 2, 'svr__epsilon': 0.5, 'svr__gamma': 'scale', 'svr__kernel': 'rbf'}\n",
      "Pipeline(steps=[('scaler', StandardScaler()),\n",
      "                ('svr', SVR(C=10, degree=2, epsilon=0.5))])\n"
     ]
    },
    {
     "data": {
      "text/html": [
       "<div>\n",
       "<style scoped>\n",
       "    .dataframe tbody tr th:only-of-type {\n",
       "        vertical-align: middle;\n",
       "    }\n",
       "\n",
       "    .dataframe tbody tr th {\n",
       "        vertical-align: top;\n",
       "    }\n",
       "\n",
       "    .dataframe thead th {\n",
       "        text-align: right;\n",
       "    }\n",
       "</style>\n",
       "<table border=\"1\" class=\"dataframe\">\n",
       "  <thead>\n",
       "    <tr style=\"text-align: right;\">\n",
       "      <th></th>\n",
       "      <th>svr__C</th>\n",
       "      <th>svr__degree</th>\n",
       "      <th>svr__epsilon</th>\n",
       "      <th>svr__gamma</th>\n",
       "      <th>svr__kernel</th>\n",
       "      <th>r2_score</th>\n",
       "    </tr>\n",
       "  </thead>\n",
       "  <tbody>\n",
       "    <tr>\n",
       "      <th>SVR_WINTER_nci</th>\n",
       "      <td>10</td>\n",
       "      <td>2</td>\n",
       "      <td>0.5</td>\n",
       "      <td>scale</td>\n",
       "      <td>rbf</td>\n",
       "      <td>0.448635</td>\n",
       "    </tr>\n",
       "  </tbody>\n",
       "</table>\n",
       "</div>"
      ],
      "text/plain": [
       "               svr__C svr__degree svr__epsilon svr__gamma svr__kernel  \\\n",
       "SVR_WINTER_nci     10           2          0.5      scale         rbf   \n",
       "\n",
       "                r2_score  \n",
       "SVR_WINTER_nci  0.448635  "
      ]
     },
     "execution_count": 42,
     "metadata": {},
     "output_type": "execute_result"
    },
    {
     "data": {
      "text/plain": [
       "<Figure size 900x600 with 0 Axes>"
      ]
     },
     "metadata": {},
     "output_type": "display_data"
    },
    {
     "data": {
      "image/png": "[encoded data removed]",
      "text/plain": [
       "<Figure size 432x288 with 1 Axes>"
      ]
     },
     "metadata": {
      "needs_background": "light"
     },
     "output_type": "display_data"
    }
   ],
   "source": [
    "X = df_Winter[['c_mean','i_mean']]\n",
    "y = df_Winter['n_mean']\n",
    "\n",
    "file_dir = os.path.join(os.getcwd(), \"SVR_RF_npci\")\n",
    "file_name = \"SVR_WINTER_nci.pkl\"\n",
    "\n",
    "SVR_WINTER_nci_best_params_df = svr(X=X,y=y,test_size=0.10,file_dir=file_dir,file_name=file_name)\n",
    "SVR_WINTER_nci_best_params_df"
   ]
  },
  {
   "cell_type": "markdown",
   "id": "e6181c3d",
   "metadata": {},
   "source": [
    "# WINTER Phosphate-Chlorophyll-inflow"
   ]
  },
  {
   "cell_type": "code",
   "execution_count": 43,
   "id": "dc68d51e",
   "metadata": {},
   "outputs": [
    {
     "name": "stdout",
     "output_type": "stream",
     "text": [
      "(320, 2) (320,)\n",
      "(36, 2) (36,)\n",
      "Training set score: 0.5473042818358949\n",
      "Test set score: 0.3480328454895605\n",
      "MAE: 0.422087622221174\n",
      "MSE: 0.24361768122129698\n",
      "RMSE: 0.49357641882620057\n",
      "r2: 0.3480328454895605\n",
      "{'svr__C': 10, 'svr__degree': 2, 'svr__epsilon': 0.5, 'svr__gamma': 'scale', 'svr__kernel': 'rbf'}\n",
      "Pipeline(steps=[('scaler', StandardScaler()),\n",
      "                ('svr', SVR(C=10, degree=2, epsilon=0.5))])\n"
     ]
    },
    {
     "data": {
      "text/html": [
       "<div>\n",
       "<style scoped>\n",
       "    .dataframe tbody tr th:only-of-type {\n",
       "        vertical-align: middle;\n",
       "    }\n",
       "\n",
       "    .dataframe tbody tr th {\n",
       "        vertical-align: top;\n",
       "    }\n",
       "\n",
       "    .dataframe thead th {\n",
       "        text-align: right;\n",
       "    }\n",
       "</style>\n",
       "<table border=\"1\" class=\"dataframe\">\n",
       "  <thead>\n",
       "    <tr style=\"text-align: right;\">\n",
       "      <th></th>\n",
       "      <th>svr__C</th>\n",
       "      <th>svr__degree</th>\n",
       "      <th>svr__epsilon</th>\n",
       "      <th>svr__gamma</th>\n",
       "      <th>svr__kernel</th>\n",
       "      <th>r2_score</th>\n",
       "    </tr>\n",
       "  </thead>\n",
       "  <tbody>\n",
       "    <tr>\n",
       "      <th>SVR_WINTER_pci</th>\n",
       "      <td>10</td>\n",
       "      <td>2</td>\n",
       "      <td>0.5</td>\n",
       "      <td>scale</td>\n",
       "      <td>rbf</td>\n",
       "      <td>0.348033</td>\n",
       "    </tr>\n",
       "  </tbody>\n",
       "</table>\n",
       "</div>"
      ],
      "text/plain": [
       "               svr__C svr__degree svr__epsilon svr__gamma svr__kernel  \\\n",
       "SVR_WINTER_pci     10           2          0.5      scale         rbf   \n",
       "\n",
       "                r2_score  \n",
       "SVR_WINTER_pci  0.348033  "
      ]
     },
     "execution_count": 43,
     "metadata": {},
     "output_type": "execute_result"
    },
    {
     "data": {
      "text/plain": [
       "<Figure size 900x600 with 0 Axes>"
      ]
     },
     "metadata": {},
     "output_type": "display_data"
    },
    {
     "data": {
      "image/png": "[encoded data removed]",
      "text/plain": [
       "<Figure size 432x288 with 1 Axes>"
      ]
     },
     "metadata": {
      "needs_background": "light"
     },
     "output_type": "display_data"
    }
   ],
   "source": [
    "X = df_Winter[['c_mean','i_mean']]\n",
    "y = df_Winter['p_mean']\n",
    "\n",
    "file_dir = os.path.join(os.getcwd(), \"SVR_RF_npci\")\n",
    "file_name = \"SVR_WINTER_pci.pkl\"\n",
    "\n",
    "SVR_WINTER_pci_best_params_df = svr(X=X,y=y,test_size=0.10,file_dir=file_dir,file_name=file_name)\n",
    "SVR_WINTER_pci_best_params_df"
   ]
  },
  {
   "cell_type": "markdown",
   "id": "c61f51f9",
   "metadata": {},
   "source": [
    "# SW Nitrogin-Chlorophyll-inflow"
   ]
  },
  {
   "cell_type": "code",
   "execution_count": 44,
   "id": "9f374742",
   "metadata": {},
   "outputs": [
    {
     "name": "stdout",
     "output_type": "stream",
     "text": [
      "(658, 2) (658,)\n",
      "(74, 2) (74,)\n",
      "Training set score: 0.36931432058675684\n",
      "Test set score: 0.2299934742432912\n",
      "MAE: 4.099995214286415\n",
      "MSE: 37.69766872390593\n",
      "RMSE: 6.139842727945556\n",
      "r2: 0.2299934742432912\n",
      "{'svr__C': 10, 'svr__degree': 2, 'svr__epsilon': 0.5, 'svr__gamma': 'scale', 'svr__kernel': 'rbf'}\n",
      "Pipeline(steps=[('scaler', StandardScaler()),\n",
      "                ('svr', SVR(C=10, degree=2, epsilon=0.5))])\n"
     ]
    },
    {
     "data": {
      "text/html": [
       "<div>\n",
       "<style scoped>\n",
       "    .dataframe tbody tr th:only-of-type {\n",
       "        vertical-align: middle;\n",
       "    }\n",
       "\n",
       "    .dataframe tbody tr th {\n",
       "        vertical-align: top;\n",
       "    }\n",
       "\n",
       "    .dataframe thead th {\n",
       "        text-align: right;\n",
       "    }\n",
       "</style>\n",
       "<table border=\"1\" class=\"dataframe\">\n",
       "  <thead>\n",
       "    <tr style=\"text-align: right;\">\n",
       "      <th></th>\n",
       "      <th>svr__C</th>\n",
       "      <th>svr__degree</th>\n",
       "      <th>svr__epsilon</th>\n",
       "      <th>svr__gamma</th>\n",
       "      <th>svr__kernel</th>\n",
       "      <th>r2_score</th>\n",
       "    </tr>\n",
       "  </thead>\n",
       "  <tbody>\n",
       "    <tr>\n",
       "      <th>SVR_SW_nci</th>\n",
       "      <td>10</td>\n",
       "      <td>2</td>\n",
       "      <td>0.5</td>\n",
       "      <td>scale</td>\n",
       "      <td>rbf</td>\n",
       "      <td>0.229993</td>\n",
       "    </tr>\n",
       "  </tbody>\n",
       "</table>\n",
       "</div>"
      ],
      "text/plain": [
       "           svr__C svr__degree svr__epsilon svr__gamma svr__kernel  r2_score\n",
       "SVR_SW_nci     10           2          0.5      scale         rbf  0.229993"
      ]
     },
     "execution_count": 44,
     "metadata": {},
     "output_type": "execute_result"
    },
    {
     "data": {
      "text/plain": [
       "<Figure size 900x600 with 0 Axes>"
      ]
     },
     "metadata": {},
     "output_type": "display_data"
    },
    {
     "data": {
      "image/png": "[encoded data removed]",
      "text/plain": [
       "<Figure size 432x288 with 1 Axes>"
      ]
     },
     "metadata": {
      "needs_background": "light"
     },
     "output_type": "display_data"
    }
   ],
   "source": [
    "X = df_SW[['c_mean','i_mean']]\n",
    "y = df_SW['n_mean']\n",
    "\n",
    "file_dir = os.path.join(os.getcwd(), \"SVR_RF_npci\")\n",
    "file_name = \"SVR_SW_nci.pkl\"\n",
    "\n",
    "SVR_SW_nci_best_params_df = svr(X=X,y=y,test_size=0.10,file_dir=file_dir,file_name=file_name)\n",
    "SVR_SW_nci_best_params_df"
   ]
  },
  {
   "cell_type": "markdown",
   "id": "3eb1b412",
   "metadata": {},
   "source": [
    "# SW Phosphate-Chlorophyll-inflow"
   ]
  },
  {
   "cell_type": "code",
   "execution_count": 45,
   "id": "bc1bed87",
   "metadata": {},
   "outputs": [
    {
     "name": "stdout",
     "output_type": "stream",
     "text": [
      "(658, 2) (658,)\n",
      "(74, 2) (74,)\n",
      "Training set score: 0.7848498802840516\n",
      "Test set score: 0.5368769285736192\n",
      "MAE: 0.2893889366780058\n",
      "MSE: 0.1946345127845905\n",
      "RMSE: 0.441174016443161\n",
      "r2: 0.5368769285736192\n",
      "{'svr__C': 10, 'svr__degree': 2, 'svr__epsilon': 0.25, 'svr__gamma': 'scale', 'svr__kernel': 'rbf'}\n",
      "Pipeline(steps=[('scaler', StandardScaler()),\n",
      "                ('svr', SVR(C=10, degree=2, epsilon=0.25))])\n"
     ]
    },
    {
     "data": {
      "text/html": [
       "<div>\n",
       "<style scoped>\n",
       "    .dataframe tbody tr th:only-of-type {\n",
       "        vertical-align: middle;\n",
       "    }\n",
       "\n",
       "    .dataframe tbody tr th {\n",
       "        vertical-align: top;\n",
       "    }\n",
       "\n",
       "    .dataframe thead th {\n",
       "        text-align: right;\n",
       "    }\n",
       "</style>\n",
       "<table border=\"1\" class=\"dataframe\">\n",
       "  <thead>\n",
       "    <tr style=\"text-align: right;\">\n",
       "      <th></th>\n",
       "      <th>svr__C</th>\n",
       "      <th>svr__degree</th>\n",
       "      <th>svr__epsilon</th>\n",
       "      <th>svr__gamma</th>\n",
       "      <th>svr__kernel</th>\n",
       "      <th>r2_score</th>\n",
       "    </tr>\n",
       "  </thead>\n",
       "  <tbody>\n",
       "    <tr>\n",
       "      <th>SVR_SW_pci</th>\n",
       "      <td>10</td>\n",
       "      <td>2</td>\n",
       "      <td>0.25</td>\n",
       "      <td>scale</td>\n",
       "      <td>rbf</td>\n",
       "      <td>0.536877</td>\n",
       "    </tr>\n",
       "  </tbody>\n",
       "</table>\n",
       "</div>"
      ],
      "text/plain": [
       "           svr__C svr__degree svr__epsilon svr__gamma svr__kernel  r2_score\n",
       "SVR_SW_pci     10           2         0.25      scale         rbf  0.536877"
      ]
     },
     "execution_count": 45,
     "metadata": {},
     "output_type": "execute_result"
    },
    {
     "data": {
      "text/plain": [
       "<Figure size 900x600 with 0 Axes>"
      ]
     },
     "metadata": {},
     "output_type": "display_data"
    },
    {
     "data": {
      "image/png": "[encoded data removed]",
      "text/plain": [
       "<Figure size 432x288 with 1 Axes>"
      ]
     },
     "metadata": {
      "needs_background": "light"
     },
     "output_type": "display_data"
    }
   ],
   "source": [
    "X = df_SW[['c_mean','i_mean']]\n",
    "y = df_SW['p_mean']\n",
    "\n",
    "file_dir = os.path.join(os.getcwd(), \"SVR_RF_npci\")\n",
    "file_name = \"SVR_SW_pci.pkl\"\n",
    "\n",
    "SVR_SW_pci_best_params_df = svr(X=X,y=y,test_size=0.10,file_dir=file_dir,file_name=file_name)\n",
    "SVR_SW_pci_best_params_df"
   ]
  },
  {
   "cell_type": "markdown",
   "id": "2f46b20b",
   "metadata": {},
   "source": [
    "# NE Nitrogin-Chlorophyll-inflow"
   ]
  },
  {
   "cell_type": "code",
   "execution_count": 46,
   "id": "499f1aff",
   "metadata": {},
   "outputs": [
    {
     "name": "stdout",
     "output_type": "stream",
     "text": [
      "(496, 2) (496,)\n",
      "(56, 2) (56,)\n",
      "Training set score: 0.3114603942838323\n",
      "Test set score: 0.291385443212579\n",
      "MAE: 6.0898085856973125\n",
      "MSE: 64.41416773814682\n",
      "RMSE: 8.025843739953253\n",
      "r2: 0.291385443212579\n",
      "{'svr__C': 10, 'svr__degree': 2, 'svr__epsilon': 0.5, 'svr__gamma': 'scale', 'svr__kernel': 'rbf'}\n",
      "Pipeline(steps=[('scaler', StandardScaler()),\n",
      "                ('svr', SVR(C=10, degree=2, epsilon=0.5))])\n"
     ]
    },
    {
     "data": {
      "text/html": [
       "<div>\n",
       "<style scoped>\n",
       "    .dataframe tbody tr th:only-of-type {\n",
       "        vertical-align: middle;\n",
       "    }\n",
       "\n",
       "    .dataframe tbody tr th {\n",
       "        vertical-align: top;\n",
       "    }\n",
       "\n",
       "    .dataframe thead th {\n",
       "        text-align: right;\n",
       "    }\n",
       "</style>\n",
       "<table border=\"1\" class=\"dataframe\">\n",
       "  <thead>\n",
       "    <tr style=\"text-align: right;\">\n",
       "      <th></th>\n",
       "      <th>svr__C</th>\n",
       "      <th>svr__degree</th>\n",
       "      <th>svr__epsilon</th>\n",
       "      <th>svr__gamma</th>\n",
       "      <th>svr__kernel</th>\n",
       "      <th>r2_score</th>\n",
       "    </tr>\n",
       "  </thead>\n",
       "  <tbody>\n",
       "    <tr>\n",
       "      <th>SVR_NE_nci</th>\n",
       "      <td>10</td>\n",
       "      <td>2</td>\n",
       "      <td>0.5</td>\n",
       "      <td>scale</td>\n",
       "      <td>rbf</td>\n",
       "      <td>0.291385</td>\n",
       "    </tr>\n",
       "  </tbody>\n",
       "</table>\n",
       "</div>"
      ],
      "text/plain": [
       "           svr__C svr__degree svr__epsilon svr__gamma svr__kernel  r2_score\n",
       "SVR_NE_nci     10           2          0.5      scale         rbf  0.291385"
      ]
     },
     "execution_count": 46,
     "metadata": {},
     "output_type": "execute_result"
    },
    {
     "data": {
      "text/plain": [
       "<Figure size 900x600 with 0 Axes>"
      ]
     },
     "metadata": {},
     "output_type": "display_data"
    },
    {
     "data": {
      "image/png": "[encoded data removed]",
      "text/plain": [
       "<Figure size 432x288 with 1 Axes>"
      ]
     },
     "metadata": {
      "needs_background": "light"
     },
     "output_type": "display_data"
    }
   ],
   "source": [
    "X = df_NE[['c_mean','i_mean']]\n",
    "y = df_NE['n_mean']\n",
    "\n",
    "file_dir = os.path.join(os.getcwd(), \"SVR_RF_npci\")\n",
    "file_name = \"SVR_NE_nci.pkl\"\n",
    "\n",
    "SVR_NE_nci_best_params_df = svr(X=X,y=y,test_size=0.10,file_dir=file_dir,file_name=file_name)\n",
    "SVR_NE_nci_best_params_df"
   ]
  },
  {
   "cell_type": "markdown",
   "id": "8113b701",
   "metadata": {},
   "source": [
    "# NE Phosphate-Chlorophyll-inflow"
   ]
  },
  {
   "cell_type": "code",
   "execution_count": 47,
   "id": "4c64fe1d",
   "metadata": {},
   "outputs": [
    {
     "name": "stdout",
     "output_type": "stream",
     "text": [
      "(496, 2) (496,)\n",
      "(56, 2) (56,)\n",
      "Training set score: 0.3197425934335101\n",
      "Test set score: 0.25315202050693353\n",
      "MAE: 0.4571637819607624\n",
      "MSE: 0.3040033120731165\n",
      "RMSE: 0.5513649536134089\n",
      "r2: 0.25315202050693353\n",
      "{'svr__C': 10, 'svr__degree': 2, 'svr__epsilon': 0.25, 'svr__gamma': 'scale', 'svr__kernel': 'rbf'}\n",
      "Pipeline(steps=[('scaler', StandardScaler()),\n",
      "                ('svr', SVR(C=10, degree=2, epsilon=0.25))])\n"
     ]
    },
    {
     "data": {
      "text/html": [
       "<div>\n",
       "<style scoped>\n",
       "    .dataframe tbody tr th:only-of-type {\n",
       "        vertical-align: middle;\n",
       "    }\n",
       "\n",
       "    .dataframe tbody tr th {\n",
       "        vertical-align: top;\n",
       "    }\n",
       "\n",
       "    .dataframe thead th {\n",
       "        text-align: right;\n",
       "    }\n",
       "</style>\n",
       "<table border=\"1\" class=\"dataframe\">\n",
       "  <thead>\n",
       "    <tr style=\"text-align: right;\">\n",
       "      <th></th>\n",
       "      <th>svr__C</th>\n",
       "      <th>svr__degree</th>\n",
       "      <th>svr__epsilon</th>\n",
       "      <th>svr__gamma</th>\n",
       "      <th>svr__kernel</th>\n",
       "      <th>r2_score</th>\n",
       "    </tr>\n",
       "  </thead>\n",
       "  <tbody>\n",
       "    <tr>\n",
       "      <th>SVR_NE_pci</th>\n",
       "      <td>10</td>\n",
       "      <td>2</td>\n",
       "      <td>0.25</td>\n",
       "      <td>scale</td>\n",
       "      <td>rbf</td>\n",
       "      <td>0.253152</td>\n",
       "    </tr>\n",
       "  </tbody>\n",
       "</table>\n",
       "</div>"
      ],
      "text/plain": [
       "           svr__C svr__degree svr__epsilon svr__gamma svr__kernel  r2_score\n",
       "SVR_NE_pci     10           2         0.25      scale         rbf  0.253152"
      ]
     },
     "execution_count": 47,
     "metadata": {},
     "output_type": "execute_result"
    },
    {
     "data": {
      "text/plain": [
       "<Figure size 900x600 with 0 Axes>"
      ]
     },
     "metadata": {},
     "output_type": "display_data"
    },
    {
     "data": {
      "image/png": "[encoded data removed]",
      "text/plain": [
       "<Figure size 432x288 with 1 Axes>"
      ]
     },
     "metadata": {
      "needs_background": "light"
     },
     "output_type": "display_data"
    }
   ],
   "source": [
    "X = df_NE[['c_mean','i_mean']]\n",
    "y = df_NE['p_mean']\n",
    "\n",
    "file_dir = os.path.join(os.getcwd(), \"SVR_RF_npci\")\n",
    "file_name = \"SVR_NE_pci.pkl\"\n",
    "\n",
    "SVR_NE_pci_best_params_df = svr(X=X,y=y,test_size=0.10,file_dir=file_dir,file_name=file_name)\n",
    "SVR_NE_pci_best_params_df"
   ]
  },
  {
   "cell_type": "code",
   "execution_count": 48,
   "id": "47114497",
   "metadata": {},
   "outputs": [
    {
     "data": {
      "text/html": [
       "<div>\n",
       "<style scoped>\n",
       "    .dataframe tbody tr th:only-of-type {\n",
       "        vertical-align: middle;\n",
       "    }\n",
       "\n",
       "    .dataframe tbody tr th {\n",
       "        vertical-align: top;\n",
       "    }\n",
       "\n",
       "    .dataframe thead th {\n",
       "        text-align: right;\n",
       "    }\n",
       "</style>\n",
       "<table border=\"1\" class=\"dataframe\">\n",
       "  <thead>\n",
       "    <tr style=\"text-align: right;\">\n",
       "      <th></th>\n",
       "      <th>svr__C</th>\n",
       "      <th>svr__degree</th>\n",
       "      <th>svr__epsilon</th>\n",
       "      <th>svr__gamma</th>\n",
       "      <th>svr__kernel</th>\n",
       "      <th>r2_score</th>\n",
       "    </tr>\n",
       "  </thead>\n",
       "  <tbody>\n",
       "    <tr>\n",
       "      <th>SVR_SUMMER_nc</th>\n",
       "      <td>10</td>\n",
       "      <td>2</td>\n",
       "      <td>0.5</td>\n",
       "      <td>scale</td>\n",
       "      <td>rbf</td>\n",
       "      <td>0.386191</td>\n",
       "    </tr>\n",
       "    <tr>\n",
       "      <th>SVR_SUMMER_pc</th>\n",
       "      <td>10</td>\n",
       "      <td>2</td>\n",
       "      <td>0</td>\n",
       "      <td>auto</td>\n",
       "      <td>rbf</td>\n",
       "      <td>0.225196</td>\n",
       "    </tr>\n",
       "    <tr>\n",
       "      <th>SVR_WINTER_nc</th>\n",
       "      <td>10</td>\n",
       "      <td>2</td>\n",
       "      <td>0.1</td>\n",
       "      <td>scale</td>\n",
       "      <td>rbf</td>\n",
       "      <td>0.188737</td>\n",
       "    </tr>\n",
       "    <tr>\n",
       "      <th>SVR_WINTER_pc</th>\n",
       "      <td>10</td>\n",
       "      <td>2</td>\n",
       "      <td>0.25</td>\n",
       "      <td>scale</td>\n",
       "      <td>rbf</td>\n",
       "      <td>0.060845</td>\n",
       "    </tr>\n",
       "    <tr>\n",
       "      <th>SVR_SW_nc</th>\n",
       "      <td>10</td>\n",
       "      <td>2</td>\n",
       "      <td>0.5</td>\n",
       "      <td>scale</td>\n",
       "      <td>rbf</td>\n",
       "      <td>0.330015</td>\n",
       "    </tr>\n",
       "    <tr>\n",
       "      <th>SVR_SW_pc</th>\n",
       "      <td>10</td>\n",
       "      <td>2</td>\n",
       "      <td>0.25</td>\n",
       "      <td>auto</td>\n",
       "      <td>rbf</td>\n",
       "      <td>0.571846</td>\n",
       "    </tr>\n",
       "    <tr>\n",
       "      <th>SVR_NE_nc</th>\n",
       "      <td>10</td>\n",
       "      <td>2</td>\n",
       "      <td>0.5</td>\n",
       "      <td>scale</td>\n",
       "      <td>rbf</td>\n",
       "      <td>0.211042</td>\n",
       "    </tr>\n",
       "    <tr>\n",
       "      <th>SVR_NE_pc</th>\n",
       "      <td>10</td>\n",
       "      <td>2</td>\n",
       "      <td>0.1</td>\n",
       "      <td>auto</td>\n",
       "      <td>rbf</td>\n",
       "      <td>0.170112</td>\n",
       "    </tr>\n",
       "    <tr>\n",
       "      <th>SVR_SUMMER_nci</th>\n",
       "      <td>10</td>\n",
       "      <td>2</td>\n",
       "      <td>0.5</td>\n",
       "      <td>auto</td>\n",
       "      <td>rbf</td>\n",
       "      <td>0.385865</td>\n",
       "    </tr>\n",
       "    <tr>\n",
       "      <th>SVR_SUMMER_pci</th>\n",
       "      <td>10</td>\n",
       "      <td>2</td>\n",
       "      <td>0.1</td>\n",
       "      <td>scale</td>\n",
       "      <td>rbf</td>\n",
       "      <td>0.732652</td>\n",
       "    </tr>\n",
       "    <tr>\n",
       "      <th>SVR_WINTER_nci</th>\n",
       "      <td>10</td>\n",
       "      <td>2</td>\n",
       "      <td>0.5</td>\n",
       "      <td>scale</td>\n",
       "      <td>rbf</td>\n",
       "      <td>0.448635</td>\n",
       "    </tr>\n",
       "    <tr>\n",
       "      <th>SVR_WINTER_pci</th>\n",
       "      <td>10</td>\n",
       "      <td>2</td>\n",
       "      <td>0.5</td>\n",
       "      <td>scale</td>\n",
       "      <td>rbf</td>\n",
       "      <td>0.348033</td>\n",
       "    </tr>\n",
       "    <tr>\n",
       "      <th>SVR_SW_nci</th>\n",
       "      <td>10</td>\n",
       "      <td>2</td>\n",
       "      <td>0.5</td>\n",
       "      <td>scale</td>\n",
       "      <td>rbf</td>\n",
       "      <td>0.229993</td>\n",
       "    </tr>\n",
       "    <tr>\n",
       "      <th>SVR_SW_pci</th>\n",
       "      <td>10</td>\n",
       "      <td>2</td>\n",
       "      <td>0.25</td>\n",
       "      <td>scale</td>\n",
       "      <td>rbf</td>\n",
       "      <td>0.536877</td>\n",
       "    </tr>\n",
       "    <tr>\n",
       "      <th>SVR_NE_nci</th>\n",
       "      <td>10</td>\n",
       "      <td>2</td>\n",
       "      <td>0.5</td>\n",
       "      <td>scale</td>\n",
       "      <td>rbf</td>\n",
       "      <td>0.291385</td>\n",
       "    </tr>\n",
       "    <tr>\n",
       "      <th>SVR_NE_pci</th>\n",
       "      <td>10</td>\n",
       "      <td>2</td>\n",
       "      <td>0.25</td>\n",
       "      <td>scale</td>\n",
       "      <td>rbf</td>\n",
       "      <td>0.253152</td>\n",
       "    </tr>\n",
       "  </tbody>\n",
       "</table>\n",
       "</div>"
      ],
      "text/plain": [
       "               svr__C svr__degree svr__epsilon svr__gamma svr__kernel  \\\n",
       "SVR_SUMMER_nc      10           2          0.5      scale         rbf   \n",
       "SVR_SUMMER_pc      10           2            0       auto         rbf   \n",
       "SVR_WINTER_nc      10           2          0.1      scale         rbf   \n",
       "SVR_WINTER_pc      10           2         0.25      scale         rbf   \n",
       "SVR_SW_nc          10           2          0.5      scale         rbf   \n",
       "SVR_SW_pc          10           2         0.25       auto         rbf   \n",
       "SVR_NE_nc          10           2          0.5      scale         rbf   \n",
       "SVR_NE_pc          10           2          0.1       auto         rbf   \n",
       "SVR_SUMMER_nci     10           2          0.5       auto         rbf   \n",
       "SVR_SUMMER_pci     10           2          0.1      scale         rbf   \n",
       "SVR_WINTER_nci     10           2          0.5      scale         rbf   \n",
       "SVR_WINTER_pci     10           2          0.5      scale         rbf   \n",
       "SVR_SW_nci         10           2          0.5      scale         rbf   \n",
       "SVR_SW_pci         10           2         0.25      scale         rbf   \n",
       "SVR_NE_nci         10           2          0.5      scale         rbf   \n",
       "SVR_NE_pci         10           2         0.25      scale         rbf   \n",
       "\n",
       "                r2_score  \n",
       "SVR_SUMMER_nc   0.386191  \n",
       "SVR_SUMMER_pc   0.225196  \n",
       "SVR_WINTER_nc   0.188737  \n",
       "SVR_WINTER_pc   0.060845  \n",
       "SVR_SW_nc       0.330015  \n",
       "SVR_SW_pc       0.571846  \n",
       "SVR_NE_nc       0.211042  \n",
       "SVR_NE_pc       0.170112  \n",
       "SVR_SUMMER_nci  0.385865  \n",
       "SVR_SUMMER_pci  0.732652  \n",
       "SVR_WINTER_nci  0.448635  \n",
       "SVR_WINTER_pci  0.348033  \n",
       "SVR_SW_nci      0.229993  \n",
       "SVR_SW_pci      0.536877  \n",
       "SVR_NE_nci      0.291385  \n",
       "SVR_NE_pci      0.253152  "
      ]
     },
     "execution_count": 48,
     "metadata": {},
     "output_type": "execute_result"
    }
   ],
   "source": [
    "result_df = pd.concat([SVR_SUMMER_nc_best_params_df, \n",
    "                       SVR_SUMMER_pc_best_params_df, \n",
    "                       SVR_WINTER_nc_best_params_df,\n",
    "                       SVR_WINTER_pc_best_params_df, \n",
    "                       SVR_SW_nc_best_params_df, \n",
    "                       SVR_SW_pc_best_params_df, \n",
    "                       SVR_NE_nc_best_params_df, \n",
    "                       SVR_NE_pc_best_params_df,\n",
    "                       SVR_SUMMER_nci_best_params_df, \n",
    "                       SVR_SUMMER_pci_best_params_df,\n",
    "                       SVR_WINTER_nci_best_params_df, \n",
    "                       SVR_WINTER_pci_best_params_df, \n",
    "                       SVR_SW_nci_best_params_df,\n",
    "                       SVR_SW_pci_best_params_df,\n",
    "                       SVR_NE_nci_best_params_df,\n",
    "                       SVR_NE_pci_best_params_df])\n",
    "\n",
    "result_df"
   ]
  },
  {
   "cell_type": "code",
   "execution_count": 49,
   "id": "5c44fef1",
   "metadata": {},
   "outputs": [],
   "source": [
    "result_df.to_csv(\"SVM_result.csv\")"
   ]
  },
  {
   "cell_type": "code",
   "execution_count": 50,
   "id": "487476c9",
   "metadata": {},
   "outputs": [],
   "source": [
    "# Load the model\n",
    "# file_path = \n",
    "# loaded_model = joblib.load(file_path)"
   ]
  },
  {
   "cell_type": "code",
   "execution_count": 51,
   "id": "681bc8d7",
   "metadata": {},
   "outputs": [],
   "source": [
    "# X_train, X_test, y_train, y_test = train_test_split(X, y, test_size=0.10,random_state=42)"
   ]
  },
  {
   "cell_type": "code",
   "execution_count": 52,
   "id": "e7e023d3",
   "metadata": {},
   "outputs": [],
   "source": [
    "# loaded_model.predict(X_test)"
   ]
  },
  {
   "cell_type": "code",
   "execution_count": 53,
   "id": "03e44274",
   "metadata": {},
   "outputs": [],
   "source": [
    "# param = loaded_model.get_params"
   ]
  },
  {
   "cell_type": "code",
   "execution_count": 54,
   "id": "b0307b01",
   "metadata": {},
   "outputs": [],
   "source": [
    "# print(loaded_model.get_params)"
   ]
  },
  {
   "cell_type": "code",
   "execution_count": null,
   "id": "2ae2d245",
   "metadata": {},
   "outputs": [],
   "source": []
  }
 ],
 "metadata": {
  "kernelspec": {
   "display_name": "Python 3 (ipykernel)",
   "language": "python",
   "name": "python3"
  },
  "language_info": {
   "codemirror_mode": {
    "name": "ipython",
    "version": 3
   },
   "file_extension": ".py",
   "mimetype": "text/x-python",
   "name": "python",
   "nbconvert_exporter": "python",
   "pygments_lexer": "ipython3",
   "version": "3.9.12"
  }
 },
 "nbformat": 4,
 "nbformat_minor": 5
}
