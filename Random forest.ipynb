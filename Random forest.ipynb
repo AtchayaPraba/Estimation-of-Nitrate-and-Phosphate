{
 "cells": [
  {
   "cell_type": "code",
   "execution_count": 1,
   "id": "1e87478a",
   "metadata": {},
   "outputs": [],
   "source": [
    "import os\n",
    "\n",
    "import numpy as np\n",
    "import pandas as pd\n",
    "\n",
    "import matplotlib.pyplot as plt\n",
    "%matplotlib inline\n",
    "import seaborn as sns\n",
    "\n",
    "from scipy.stats import pearsonr\n",
    "\n",
    "import joblib"
   ]
  },
  {
   "cell_type": "code",
   "execution_count": 2,
   "id": "b9727cf0",
   "metadata": {},
   "outputs": [],
   "source": [
    "def regression_error (y_test, y_pred):\n",
    "    \n",
    "    from sklearn.metrics import mean_absolute_error, mean_squared_error, r2_score\n",
    "    \n",
    "    MAE = mean_absolute_error(y_test,y_pred)\n",
    "    MSE = mean_squared_error(y_test,y_pred)\n",
    "    RMSE = np.sqrt(mean_squared_error(y_test,y_pred))\n",
    "    r2 = r2_score(y_test,y_pred)\n",
    "    \n",
    "    print(f\"MAE: {MAE}\")\n",
    "    print(f\"MSE: {MSE}\")\n",
    "    print(f\"RMSE: {RMSE}\")\n",
    "    print(f\"r2: {r2}\")"
   ]
  },
  {
   "cell_type": "code",
   "execution_count": 3,
   "id": "67b768c8",
   "metadata": {},
   "outputs": [],
   "source": [
    "n_df = pd.read_excel(\"nitrate phosphate chlorophyll a inflow.xlsx\",sheet_name='Nitrate')\n",
    "p_df = pd.read_excel(\"nitrate phosphate chlorophyll a inflow.xlsx\",sheet_name='Phosphate')\n",
    "c_df = pd.read_excel(\"nitrate phosphate chlorophyll a inflow.xlsx\",sheet_name='Chlorophyll a')\n",
    "i_df = pd.read_excel(\"nitrate phosphate chlorophyll a inflow.xlsx\",sheet_name='inflow')"
   ]
  },
  {
   "cell_type": "code",
   "execution_count": 4,
   "id": "abc10a5d",
   "metadata": {},
   "outputs": [
    {
     "data": {
      "text/html": [
       "<div>\n",
       "<style scoped>\n",
       "    .dataframe tbody tr th:only-of-type {\n",
       "        vertical-align: middle;\n",
       "    }\n",
       "\n",
       "    .dataframe tbody tr th {\n",
       "        vertical-align: top;\n",
       "    }\n",
       "\n",
       "    .dataframe thead th {\n",
       "        text-align: right;\n",
       "    }\n",
       "</style>\n",
       "<table border=\"1\" class=\"dataframe\">\n",
       "  <thead>\n",
       "    <tr style=\"text-align: right;\">\n",
       "      <th></th>\n",
       "      <th>Dates</th>\n",
       "      <th>Year</th>\n",
       "      <th>Month</th>\n",
       "      <th>Season</th>\n",
       "      <th>SEG 6</th>\n",
       "      <th>SEG 5</th>\n",
       "      <th>SEG 4</th>\n",
       "      <th>SEG 3</th>\n",
       "      <th>SEG 2</th>\n",
       "      <th>SEG 1</th>\n",
       "    </tr>\n",
       "  </thead>\n",
       "  <tbody>\n",
       "    <tr>\n",
       "      <th>0</th>\n",
       "      <td>2015-01-01 05:00:00</td>\n",
       "      <td>2015</td>\n",
       "      <td>Jan</td>\n",
       "      <td>Winter</td>\n",
       "      <td>9.600</td>\n",
       "      <td>9.000</td>\n",
       "      <td>9.500</td>\n",
       "      <td>9.400</td>\n",
       "      <td>10.500</td>\n",
       "      <td>9.600</td>\n",
       "    </tr>\n",
       "    <tr>\n",
       "      <th>1</th>\n",
       "      <td>2015-01-02 05:00:00</td>\n",
       "      <td>2015</td>\n",
       "      <td>Jan</td>\n",
       "      <td>Winter</td>\n",
       "      <td>9.610</td>\n",
       "      <td>9.149</td>\n",
       "      <td>9.454</td>\n",
       "      <td>9.405</td>\n",
       "      <td>10.429</td>\n",
       "      <td>10.077</td>\n",
       "    </tr>\n",
       "    <tr>\n",
       "      <th>2</th>\n",
       "      <td>2015-01-03 04:59:00</td>\n",
       "      <td>2015</td>\n",
       "      <td>Jan</td>\n",
       "      <td>Winter</td>\n",
       "      <td>9.627</td>\n",
       "      <td>9.252</td>\n",
       "      <td>9.430</td>\n",
       "      <td>9.407</td>\n",
       "      <td>10.370</td>\n",
       "      <td>10.182</td>\n",
       "    </tr>\n",
       "    <tr>\n",
       "      <th>3</th>\n",
       "      <td>2015-01-04 05:00:00</td>\n",
       "      <td>2015</td>\n",
       "      <td>Jan</td>\n",
       "      <td>Winter</td>\n",
       "      <td>9.644</td>\n",
       "      <td>9.335</td>\n",
       "      <td>9.417</td>\n",
       "      <td>9.408</td>\n",
       "      <td>10.318</td>\n",
       "      <td>10.221</td>\n",
       "    </tr>\n",
       "    <tr>\n",
       "      <th>4</th>\n",
       "      <td>2015-01-05 05:01:00</td>\n",
       "      <td>2015</td>\n",
       "      <td>Jan</td>\n",
       "      <td>Winter</td>\n",
       "      <td>9.665</td>\n",
       "      <td>9.422</td>\n",
       "      <td>9.413</td>\n",
       "      <td>9.409</td>\n",
       "      <td>10.265</td>\n",
       "      <td>10.235</td>\n",
       "    </tr>\n",
       "  </tbody>\n",
       "</table>\n",
       "</div>"
      ],
      "text/plain": [
       "                Dates  Year Month  Season  SEG 6  SEG 5  SEG 4  SEG 3   SEG 2  \\\n",
       "0 2015-01-01 05:00:00  2015   Jan  Winter  9.600  9.000  9.500  9.400  10.500   \n",
       "1 2015-01-02 05:00:00  2015   Jan  Winter  9.610  9.149  9.454  9.405  10.429   \n",
       "2 2015-01-03 04:59:00  2015   Jan  Winter  9.627  9.252  9.430  9.407  10.370   \n",
       "3 2015-01-04 05:00:00  2015   Jan  Winter  9.644  9.335  9.417  9.408  10.318   \n",
       "4 2015-01-05 05:01:00  2015   Jan  Winter  9.665  9.422  9.413  9.409  10.265   \n",
       "\n",
       "    SEG 1  \n",
       "0   9.600  \n",
       "1  10.077  \n",
       "2  10.182  \n",
       "3  10.221  \n",
       "4  10.235  "
      ]
     },
     "execution_count": 4,
     "metadata": {},
     "output_type": "execute_result"
    }
   ],
   "source": [
    "n_df.head()"
   ]
  },
  {
   "cell_type": "code",
   "execution_count": 5,
   "id": "31fa7a68",
   "metadata": {},
   "outputs": [
    {
     "data": {
      "text/html": [
       "<div>\n",
       "<style scoped>\n",
       "    .dataframe tbody tr th:only-of-type {\n",
       "        vertical-align: middle;\n",
       "    }\n",
       "\n",
       "    .dataframe tbody tr th {\n",
       "        vertical-align: top;\n",
       "    }\n",
       "\n",
       "    .dataframe thead th {\n",
       "        text-align: right;\n",
       "    }\n",
       "</style>\n",
       "<table border=\"1\" class=\"dataframe\">\n",
       "  <thead>\n",
       "    <tr style=\"text-align: right;\">\n",
       "      <th></th>\n",
       "      <th>Dates</th>\n",
       "      <th>Year</th>\n",
       "      <th>Month</th>\n",
       "      <th>Season</th>\n",
       "      <th>SEG 6</th>\n",
       "      <th>SEG 5</th>\n",
       "      <th>SEG 4</th>\n",
       "      <th>SEG 3</th>\n",
       "      <th>SEG 2</th>\n",
       "      <th>SEG 1</th>\n",
       "    </tr>\n",
       "  </thead>\n",
       "  <tbody>\n",
       "    <tr>\n",
       "      <th>0</th>\n",
       "      <td>2015-01-01 05:00:00</td>\n",
       "      <td>2015</td>\n",
       "      <td>Jan</td>\n",
       "      <td>Winter</td>\n",
       "      <td>5.068</td>\n",
       "      <td>3.875</td>\n",
       "      <td>2.083</td>\n",
       "      <td>4.165</td>\n",
       "      <td>2.243</td>\n",
       "      <td>1.750</td>\n",
       "    </tr>\n",
       "    <tr>\n",
       "      <th>1</th>\n",
       "      <td>2015-01-02 05:00:00</td>\n",
       "      <td>2015</td>\n",
       "      <td>Jan</td>\n",
       "      <td>Winter</td>\n",
       "      <td>1.917</td>\n",
       "      <td>3.571</td>\n",
       "      <td>2.262</td>\n",
       "      <td>4.023</td>\n",
       "      <td>2.359</td>\n",
       "      <td>2.053</td>\n",
       "    </tr>\n",
       "    <tr>\n",
       "      <th>2</th>\n",
       "      <td>2015-01-03 04:59:00</td>\n",
       "      <td>2015</td>\n",
       "      <td>Jan</td>\n",
       "      <td>Winter</td>\n",
       "      <td>1.849</td>\n",
       "      <td>3.190</td>\n",
       "      <td>2.363</td>\n",
       "      <td>3.915</td>\n",
       "      <td>2.448</td>\n",
       "      <td>2.166</td>\n",
       "    </tr>\n",
       "    <tr>\n",
       "      <th>3</th>\n",
       "      <td>2015-01-04 05:00:00</td>\n",
       "      <td>2015</td>\n",
       "      <td>Jan</td>\n",
       "      <td>Winter</td>\n",
       "      <td>1.876</td>\n",
       "      <td>2.898</td>\n",
       "      <td>2.422</td>\n",
       "      <td>3.822</td>\n",
       "      <td>2.523</td>\n",
       "      <td>2.240</td>\n",
       "    </tr>\n",
       "    <tr>\n",
       "      <th>4</th>\n",
       "      <td>2015-01-05 05:01:00</td>\n",
       "      <td>2015</td>\n",
       "      <td>Jan</td>\n",
       "      <td>Winter</td>\n",
       "      <td>1.910</td>\n",
       "      <td>2.624</td>\n",
       "      <td>2.453</td>\n",
       "      <td>3.729</td>\n",
       "      <td>2.593</td>\n",
       "      <td>2.301</td>\n",
       "    </tr>\n",
       "  </tbody>\n",
       "</table>\n",
       "</div>"
      ],
      "text/plain": [
       "                Dates  Year Month  Season  SEG 6  SEG 5  SEG 4  SEG 3  SEG 2  \\\n",
       "0 2015-01-01 05:00:00  2015   Jan  Winter  5.068  3.875  2.083  4.165  2.243   \n",
       "1 2015-01-02 05:00:00  2015   Jan  Winter  1.917  3.571  2.262  4.023  2.359   \n",
       "2 2015-01-03 04:59:00  2015   Jan  Winter  1.849  3.190  2.363  3.915  2.448   \n",
       "3 2015-01-04 05:00:00  2015   Jan  Winter  1.876  2.898  2.422  3.822  2.523   \n",
       "4 2015-01-05 05:01:00  2015   Jan  Winter  1.910  2.624  2.453  3.729  2.593   \n",
       "\n",
       "   SEG 1  \n",
       "0  1.750  \n",
       "1  2.053  \n",
       "2  2.166  \n",
       "3  2.240  \n",
       "4  2.301  "
      ]
     },
     "execution_count": 5,
     "metadata": {},
     "output_type": "execute_result"
    }
   ],
   "source": [
    "p_df.head()"
   ]
  },
  {
   "cell_type": "code",
   "execution_count": 6,
   "id": "b0ce87ed",
   "metadata": {},
   "outputs": [
    {
     "data": {
      "text/html": [
       "<div>\n",
       "<style scoped>\n",
       "    .dataframe tbody tr th:only-of-type {\n",
       "        vertical-align: middle;\n",
       "    }\n",
       "\n",
       "    .dataframe tbody tr th {\n",
       "        vertical-align: top;\n",
       "    }\n",
       "\n",
       "    .dataframe thead th {\n",
       "        text-align: right;\n",
       "    }\n",
       "</style>\n",
       "<table border=\"1\" class=\"dataframe\">\n",
       "  <thead>\n",
       "    <tr style=\"text-align: right;\">\n",
       "      <th></th>\n",
       "      <th>Dates</th>\n",
       "      <th>Year</th>\n",
       "      <th>Month</th>\n",
       "      <th>Season</th>\n",
       "      <th>SEG 6</th>\n",
       "      <th>SEG 5</th>\n",
       "      <th>SEG 4</th>\n",
       "      <th>SEG 3</th>\n",
       "      <th>SEG 2</th>\n",
       "      <th>SEG 1</th>\n",
       "    </tr>\n",
       "  </thead>\n",
       "  <tbody>\n",
       "    <tr>\n",
       "      <th>0</th>\n",
       "      <td>2015-01-01 05:00:00</td>\n",
       "      <td>2015</td>\n",
       "      <td>Jan</td>\n",
       "      <td>Winter</td>\n",
       "      <td>54.000</td>\n",
       "      <td>60.000</td>\n",
       "      <td>66.000</td>\n",
       "      <td>52.000</td>\n",
       "      <td>34.000</td>\n",
       "      <td>16.000</td>\n",
       "    </tr>\n",
       "    <tr>\n",
       "      <th>1</th>\n",
       "      <td>2015-01-02 05:00:00</td>\n",
       "      <td>2015</td>\n",
       "      <td>Jan</td>\n",
       "      <td>Winter</td>\n",
       "      <td>52.820</td>\n",
       "      <td>49.383</td>\n",
       "      <td>58.869</td>\n",
       "      <td>47.901</td>\n",
       "      <td>31.847</td>\n",
       "      <td>23.769</td>\n",
       "    </tr>\n",
       "    <tr>\n",
       "      <th>2</th>\n",
       "      <td>2015-01-03 04:59:00</td>\n",
       "      <td>2015</td>\n",
       "      <td>Jan</td>\n",
       "      <td>Winter</td>\n",
       "      <td>53.170</td>\n",
       "      <td>41.204</td>\n",
       "      <td>52.266</td>\n",
       "      <td>43.943</td>\n",
       "      <td>29.665</td>\n",
       "      <td>24.038</td>\n",
       "    </tr>\n",
       "    <tr>\n",
       "      <th>3</th>\n",
       "      <td>2015-01-04 05:00:00</td>\n",
       "      <td>2015</td>\n",
       "      <td>Jan</td>\n",
       "      <td>Winter</td>\n",
       "      <td>53.585</td>\n",
       "      <td>35.411</td>\n",
       "      <td>46.252</td>\n",
       "      <td>40.225</td>\n",
       "      <td>27.555</td>\n",
       "      <td>23.039</td>\n",
       "    </tr>\n",
       "    <tr>\n",
       "      <th>4</th>\n",
       "      <td>2015-01-05 05:01:00</td>\n",
       "      <td>2015</td>\n",
       "      <td>Jan</td>\n",
       "      <td>Winter</td>\n",
       "      <td>54.600</td>\n",
       "      <td>31.216</td>\n",
       "      <td>40.719</td>\n",
       "      <td>36.822</td>\n",
       "      <td>25.602</td>\n",
       "      <td>21.722</td>\n",
       "    </tr>\n",
       "  </tbody>\n",
       "</table>\n",
       "</div>"
      ],
      "text/plain": [
       "                Dates  Year Month  Season   SEG 6   SEG 5   SEG 4   SEG 3  \\\n",
       "0 2015-01-01 05:00:00  2015   Jan  Winter  54.000  60.000  66.000  52.000   \n",
       "1 2015-01-02 05:00:00  2015   Jan  Winter  52.820  49.383  58.869  47.901   \n",
       "2 2015-01-03 04:59:00  2015   Jan  Winter  53.170  41.204  52.266  43.943   \n",
       "3 2015-01-04 05:00:00  2015   Jan  Winter  53.585  35.411  46.252  40.225   \n",
       "4 2015-01-05 05:01:00  2015   Jan  Winter  54.600  31.216  40.719  36.822   \n",
       "\n",
       "    SEG 2   SEG 1  \n",
       "0  34.000  16.000  \n",
       "1  31.847  23.769  \n",
       "2  29.665  24.038  \n",
       "3  27.555  23.039  \n",
       "4  25.602  21.722  "
      ]
     },
     "execution_count": 6,
     "metadata": {},
     "output_type": "execute_result"
    }
   ],
   "source": [
    "c_df.head()"
   ]
  },
  {
   "cell_type": "code",
   "execution_count": 7,
   "id": "e78a33ae",
   "metadata": {},
   "outputs": [
    {
     "data": {
      "text/html": [
       "<div>\n",
       "<style scoped>\n",
       "    .dataframe tbody tr th:only-of-type {\n",
       "        vertical-align: middle;\n",
       "    }\n",
       "\n",
       "    .dataframe tbody tr th {\n",
       "        vertical-align: top;\n",
       "    }\n",
       "\n",
       "    .dataframe thead th {\n",
       "        text-align: right;\n",
       "    }\n",
       "</style>\n",
       "<table border=\"1\" class=\"dataframe\">\n",
       "  <thead>\n",
       "    <tr style=\"text-align: right;\">\n",
       "      <th></th>\n",
       "      <th>Dates</th>\n",
       "      <th>Year</th>\n",
       "      <th>Month</th>\n",
       "      <th>Season</th>\n",
       "      <th>SEG 6</th>\n",
       "      <th>SEG 5</th>\n",
       "      <th>SEG 4</th>\n",
       "      <th>SEG 3</th>\n",
       "      <th>SEG 2</th>\n",
       "      <th>SEG 1</th>\n",
       "    </tr>\n",
       "  </thead>\n",
       "  <tbody>\n",
       "    <tr>\n",
       "      <th>0</th>\n",
       "      <td>2015-01-01 05:00:00</td>\n",
       "      <td>2015</td>\n",
       "      <td>Jan</td>\n",
       "      <td>Winter</td>\n",
       "      <td>6.027</td>\n",
       "      <td>6.027</td>\n",
       "      <td>6.027</td>\n",
       "      <td>6.027</td>\n",
       "      <td>6.027</td>\n",
       "      <td>6.027</td>\n",
       "    </tr>\n",
       "    <tr>\n",
       "      <th>1</th>\n",
       "      <td>2015-01-02 05:00:00</td>\n",
       "      <td>2015</td>\n",
       "      <td>Jan</td>\n",
       "      <td>Winter</td>\n",
       "      <td>5.066</td>\n",
       "      <td>5.183</td>\n",
       "      <td>5.372</td>\n",
       "      <td>5.510</td>\n",
       "      <td>5.600</td>\n",
       "      <td>5.659</td>\n",
       "    </tr>\n",
       "    <tr>\n",
       "      <th>2</th>\n",
       "      <td>2015-01-03 04:59:00</td>\n",
       "      <td>2015</td>\n",
       "      <td>Jan</td>\n",
       "      <td>Winter</td>\n",
       "      <td>4.977</td>\n",
       "      <td>4.971</td>\n",
       "      <td>4.964</td>\n",
       "      <td>4.966</td>\n",
       "      <td>4.973</td>\n",
       "      <td>4.980</td>\n",
       "    </tr>\n",
       "    <tr>\n",
       "      <th>3</th>\n",
       "      <td>2015-01-04 05:00:00</td>\n",
       "      <td>2015</td>\n",
       "      <td>Jan</td>\n",
       "      <td>Winter</td>\n",
       "      <td>4.700</td>\n",
       "      <td>4.736</td>\n",
       "      <td>4.795</td>\n",
       "      <td>4.837</td>\n",
       "      <td>4.865</td>\n",
       "      <td>4.882</td>\n",
       "    </tr>\n",
       "    <tr>\n",
       "      <th>4</th>\n",
       "      <td>2015-01-05 05:01:00</td>\n",
       "      <td>2015</td>\n",
       "      <td>Jan</td>\n",
       "      <td>Winter</td>\n",
       "      <td>9.381</td>\n",
       "      <td>8.902</td>\n",
       "      <td>8.036</td>\n",
       "      <td>7.342</td>\n",
       "      <td>6.870</td>\n",
       "      <td>6.547</td>\n",
       "    </tr>\n",
       "  </tbody>\n",
       "</table>\n",
       "</div>"
      ],
      "text/plain": [
       "                Dates  Year Month  Season  SEG 6  SEG 5  SEG 4  SEG 3  SEG 2  \\\n",
       "0 2015-01-01 05:00:00  2015   Jan  Winter  6.027  6.027  6.027  6.027  6.027   \n",
       "1 2015-01-02 05:00:00  2015   Jan  Winter  5.066  5.183  5.372  5.510  5.600   \n",
       "2 2015-01-03 04:59:00  2015   Jan  Winter  4.977  4.971  4.964  4.966  4.973   \n",
       "3 2015-01-04 05:00:00  2015   Jan  Winter  4.700  4.736  4.795  4.837  4.865   \n",
       "4 2015-01-05 05:01:00  2015   Jan  Winter  9.381  8.902  8.036  7.342  6.870   \n",
       "\n",
       "   SEG 1  \n",
       "0  6.027  \n",
       "1  5.659  \n",
       "2  4.980  \n",
       "3  4.882  \n",
       "4  6.547  "
      ]
     },
     "execution_count": 7,
     "metadata": {},
     "output_type": "execute_result"
    }
   ],
   "source": [
    "i_df.head()"
   ]
  },
  {
   "cell_type": "code",
   "execution_count": 8,
   "id": "42c70fd4",
   "metadata": {},
   "outputs": [
    {
     "name": "stdout",
     "output_type": "stream",
     "text": [
      "Index(['n_Dates', 'n_Year', 'n_Month', 'n_Season', 'n_SEG 6', 'n_SEG 5',\n",
      "       'n_SEG 4', 'n_SEG 3', 'n_SEG 2', 'n_SEG 1'],\n",
      "      dtype='object')\n",
      "Index(['c_Dates', 'c_Year', 'c_Month', 'c_Season', 'c_SEG 6', 'c_SEG 5',\n",
      "       'c_SEG 4', 'c_SEG 3', 'c_SEG 2', 'c_SEG 1'],\n",
      "      dtype='object')\n",
      "Index(['p_Dates', 'p_Year', 'p_Month', 'p_Season', 'p_SEG 6', 'p_SEG 5',\n",
      "       'p_SEG 4', 'p_SEG 3', 'p_SEG 2', 'p_SEG 1'],\n",
      "      dtype='object')\n",
      "Index(['i_Dates', 'i_Year', 'i_Month', 'i_Season', 'i_SEG 6', 'i_SEG 5',\n",
      "       'i_SEG 4', 'i_SEG 3', 'i_SEG 2', 'i_SEG 1'],\n",
      "      dtype='object')\n"
     ]
    }
   ],
   "source": [
    "n_df = n_df.add_prefix('n_')\n",
    "c_df = c_df.add_prefix('c_')\n",
    "p_df = p_df.add_prefix('p_')\n",
    "i_df = i_df.add_prefix('i_')\n",
    "\n",
    "print(n_df.columns)\n",
    "print(c_df.columns)\n",
    "print(p_df.columns)\n",
    "print(i_df.columns)"
   ]
  },
  {
   "cell_type": "code",
   "execution_count": 9,
   "id": "db6f6b18",
   "metadata": {},
   "outputs": [
    {
     "name": "stdout",
     "output_type": "stream",
     "text": [
      "['n_SEG 6', 'n_SEG 5', 'n_SEG 4', 'n_SEG 3', 'n_SEG 2', 'n_SEG 1']\n",
      "['c_SEG 6', 'c_SEG 5', 'c_SEG 4', 'c_SEG 3', 'c_SEG 2', 'c_SEG 1']\n",
      "['p_SEG 6', 'p_SEG 5', 'p_SEG 4', 'p_SEG 3', 'p_SEG 2', 'p_SEG 1']\n",
      "['i_SEG 6', 'i_SEG 5', 'i_SEG 4', 'i_SEG 3', 'i_SEG 2', 'i_SEG 1']\n"
     ]
    }
   ],
   "source": [
    "n_seg = n_df.drop(columns=['n_Dates','n_Year','n_Month','n_Season']).columns.to_list()\n",
    "c_seg = c_df.drop(columns=['c_Dates','c_Year','c_Month','c_Season']).columns.to_list()\n",
    "p_seg = p_df.drop(columns=['p_Dates','p_Year','p_Month','p_Season']).columns.to_list()\n",
    "i_seg = i_df.drop(columns=['i_Dates','i_Year','i_Month','i_Season']).columns.to_list()\n",
    "\n",
    "print(n_seg)\n",
    "print(c_seg)\n",
    "print(p_seg)\n",
    "print(i_seg)"
   ]
  },
  {
   "cell_type": "code",
   "execution_count": 10,
   "id": "b895235f",
   "metadata": {},
   "outputs": [
    {
     "name": "stdout",
     "output_type": "stream",
     "text": [
      "2192 2192 2192 2192\n"
     ]
    }
   ],
   "source": [
    "print(len(n_df), len(c_df), len(p_df), len(i_df))"
   ]
  },
  {
   "cell_type": "code",
   "execution_count": 11,
   "id": "2989dc50",
   "metadata": {},
   "outputs": [
    {
     "data": {
      "text/html": [
       "<div>\n",
       "<style scoped>\n",
       "    .dataframe tbody tr th:only-of-type {\n",
       "        vertical-align: middle;\n",
       "    }\n",
       "\n",
       "    .dataframe tbody tr th {\n",
       "        vertical-align: top;\n",
       "    }\n",
       "\n",
       "    .dataframe thead th {\n",
       "        text-align: right;\n",
       "    }\n",
       "</style>\n",
       "<table border=\"1\" class=\"dataframe\">\n",
       "  <thead>\n",
       "    <tr style=\"text-align: right;\">\n",
       "      <th></th>\n",
       "      <th>n_Season</th>\n",
       "      <th>n_SEG 6</th>\n",
       "      <th>n_SEG 5</th>\n",
       "      <th>n_SEG 4</th>\n",
       "      <th>n_SEG 3</th>\n",
       "      <th>n_SEG 2</th>\n",
       "      <th>n_SEG 1</th>\n",
       "      <th>p_SEG 6</th>\n",
       "      <th>p_SEG 5</th>\n",
       "      <th>p_SEG 4</th>\n",
       "      <th>...</th>\n",
       "      <th>c_SEG 4</th>\n",
       "      <th>c_SEG 3</th>\n",
       "      <th>c_SEG 2</th>\n",
       "      <th>c_SEG 1</th>\n",
       "      <th>i_SEG 6</th>\n",
       "      <th>i_SEG 5</th>\n",
       "      <th>i_SEG 4</th>\n",
       "      <th>i_SEG 3</th>\n",
       "      <th>i_SEG 2</th>\n",
       "      <th>i_SEG 1</th>\n",
       "    </tr>\n",
       "  </thead>\n",
       "  <tbody>\n",
       "    <tr>\n",
       "      <th>0</th>\n",
       "      <td>Winter</td>\n",
       "      <td>9.600</td>\n",
       "      <td>9.000</td>\n",
       "      <td>9.500</td>\n",
       "      <td>9.400</td>\n",
       "      <td>10.500</td>\n",
       "      <td>9.600</td>\n",
       "      <td>5.068</td>\n",
       "      <td>3.875</td>\n",
       "      <td>2.083</td>\n",
       "      <td>...</td>\n",
       "      <td>66.000</td>\n",
       "      <td>52.000</td>\n",
       "      <td>34.000</td>\n",
       "      <td>16.000</td>\n",
       "      <td>6.027</td>\n",
       "      <td>6.027</td>\n",
       "      <td>6.027</td>\n",
       "      <td>6.027</td>\n",
       "      <td>6.027</td>\n",
       "      <td>6.027</td>\n",
       "    </tr>\n",
       "    <tr>\n",
       "      <th>1</th>\n",
       "      <td>Winter</td>\n",
       "      <td>9.610</td>\n",
       "      <td>9.149</td>\n",
       "      <td>9.454</td>\n",
       "      <td>9.405</td>\n",
       "      <td>10.429</td>\n",
       "      <td>10.077</td>\n",
       "      <td>1.917</td>\n",
       "      <td>3.571</td>\n",
       "      <td>2.262</td>\n",
       "      <td>...</td>\n",
       "      <td>58.869</td>\n",
       "      <td>47.901</td>\n",
       "      <td>31.847</td>\n",
       "      <td>23.769</td>\n",
       "      <td>5.066</td>\n",
       "      <td>5.183</td>\n",
       "      <td>5.372</td>\n",
       "      <td>5.510</td>\n",
       "      <td>5.600</td>\n",
       "      <td>5.659</td>\n",
       "    </tr>\n",
       "    <tr>\n",
       "      <th>2</th>\n",
       "      <td>Winter</td>\n",
       "      <td>9.627</td>\n",
       "      <td>9.252</td>\n",
       "      <td>9.430</td>\n",
       "      <td>9.407</td>\n",
       "      <td>10.370</td>\n",
       "      <td>10.182</td>\n",
       "      <td>1.849</td>\n",
       "      <td>3.190</td>\n",
       "      <td>2.363</td>\n",
       "      <td>...</td>\n",
       "      <td>52.266</td>\n",
       "      <td>43.943</td>\n",
       "      <td>29.665</td>\n",
       "      <td>24.038</td>\n",
       "      <td>4.977</td>\n",
       "      <td>4.971</td>\n",
       "      <td>4.964</td>\n",
       "      <td>4.966</td>\n",
       "      <td>4.973</td>\n",
       "      <td>4.980</td>\n",
       "    </tr>\n",
       "    <tr>\n",
       "      <th>3</th>\n",
       "      <td>Winter</td>\n",
       "      <td>9.644</td>\n",
       "      <td>9.335</td>\n",
       "      <td>9.417</td>\n",
       "      <td>9.408</td>\n",
       "      <td>10.318</td>\n",
       "      <td>10.221</td>\n",
       "      <td>1.876</td>\n",
       "      <td>2.898</td>\n",
       "      <td>2.422</td>\n",
       "      <td>...</td>\n",
       "      <td>46.252</td>\n",
       "      <td>40.225</td>\n",
       "      <td>27.555</td>\n",
       "      <td>23.039</td>\n",
       "      <td>4.700</td>\n",
       "      <td>4.736</td>\n",
       "      <td>4.795</td>\n",
       "      <td>4.837</td>\n",
       "      <td>4.865</td>\n",
       "      <td>4.882</td>\n",
       "    </tr>\n",
       "    <tr>\n",
       "      <th>4</th>\n",
       "      <td>Winter</td>\n",
       "      <td>9.665</td>\n",
       "      <td>9.422</td>\n",
       "      <td>9.413</td>\n",
       "      <td>9.409</td>\n",
       "      <td>10.265</td>\n",
       "      <td>10.235</td>\n",
       "      <td>1.910</td>\n",
       "      <td>2.624</td>\n",
       "      <td>2.453</td>\n",
       "      <td>...</td>\n",
       "      <td>40.719</td>\n",
       "      <td>36.822</td>\n",
       "      <td>25.602</td>\n",
       "      <td>21.722</td>\n",
       "      <td>9.381</td>\n",
       "      <td>8.902</td>\n",
       "      <td>8.036</td>\n",
       "      <td>7.342</td>\n",
       "      <td>6.870</td>\n",
       "      <td>6.547</td>\n",
       "    </tr>\n",
       "  </tbody>\n",
       "</table>\n",
       "<p>5 rows × 25 columns</p>\n",
       "</div>"
      ],
      "text/plain": [
       "  n_Season  n_SEG 6  n_SEG 5  n_SEG 4  n_SEG 3  n_SEG 2  n_SEG 1  p_SEG 6  \\\n",
       "0   Winter    9.600    9.000    9.500    9.400   10.500    9.600    5.068   \n",
       "1   Winter    9.610    9.149    9.454    9.405   10.429   10.077    1.917   \n",
       "2   Winter    9.627    9.252    9.430    9.407   10.370   10.182    1.849   \n",
       "3   Winter    9.644    9.335    9.417    9.408   10.318   10.221    1.876   \n",
       "4   Winter    9.665    9.422    9.413    9.409   10.265   10.235    1.910   \n",
       "\n",
       "   p_SEG 5  p_SEG 4  ...  c_SEG 4  c_SEG 3  c_SEG 2  c_SEG 1  i_SEG 6  \\\n",
       "0    3.875    2.083  ...   66.000   52.000   34.000   16.000    6.027   \n",
       "1    3.571    2.262  ...   58.869   47.901   31.847   23.769    5.066   \n",
       "2    3.190    2.363  ...   52.266   43.943   29.665   24.038    4.977   \n",
       "3    2.898    2.422  ...   46.252   40.225   27.555   23.039    4.700   \n",
       "4    2.624    2.453  ...   40.719   36.822   25.602   21.722    9.381   \n",
       "\n",
       "   i_SEG 5  i_SEG 4  i_SEG 3  i_SEG 2  i_SEG 1  \n",
       "0    6.027    6.027    6.027    6.027    6.027  \n",
       "1    5.183    5.372    5.510    5.600    5.659  \n",
       "2    4.971    4.964    4.966    4.973    4.980  \n",
       "3    4.736    4.795    4.837    4.865    4.882  \n",
       "4    8.902    8.036    7.342    6.870    6.547  \n",
       "\n",
       "[5 rows x 25 columns]"
      ]
     },
     "execution_count": 11,
     "metadata": {},
     "output_type": "execute_result"
    }
   ],
   "source": [
    "df = pd.concat([n_df[['n_Season']], \n",
    "                n_df[n_seg], \n",
    "                p_df[p_seg], \n",
    "                c_df[c_seg], \n",
    "                i_df[i_seg]], axis=1)\n",
    "df.head()"
   ]
  },
  {
   "cell_type": "code",
   "execution_count": 12,
   "id": "9e423510",
   "metadata": {},
   "outputs": [
    {
     "data": {
      "text/plain": [
       "Index(['Season', 'n_SEG 6', 'n_SEG 5', 'n_SEG 4', 'n_SEG 3', 'n_SEG 2',\n",
       "       'n_SEG 1', 'p_SEG 6', 'p_SEG 5', 'p_SEG 4', 'p_SEG 3', 'p_SEG 2',\n",
       "       'p_SEG 1', 'c_SEG 6', 'c_SEG 5', 'c_SEG 4', 'c_SEG 3', 'c_SEG 2',\n",
       "       'c_SEG 1', 'i_SEG 6', 'i_SEG 5', 'i_SEG 4', 'i_SEG 3', 'i_SEG 2',\n",
       "       'i_SEG 1'],\n",
       "      dtype='object')"
      ]
     },
     "execution_count": 12,
     "metadata": {},
     "output_type": "execute_result"
    }
   ],
   "source": [
    "df.rename(columns = {'n_Season':'Season'}, inplace = True)\n",
    "df.columns"
   ]
  },
  {
   "cell_type": "code",
   "execution_count": 13,
   "id": "1514a9c1",
   "metadata": {},
   "outputs": [
    {
     "data": {
      "text/plain": [
       "['Winter', 'Summer', 'Southwest Monsoon', 'Northeast monsoon']"
      ]
     },
     "execution_count": 13,
     "metadata": {},
     "output_type": "execute_result"
    }
   ],
   "source": [
    "Season = list(df['Season'].unique())\n",
    "Season"
   ]
  },
  {
   "cell_type": "code",
   "execution_count": 14,
   "id": "82677496",
   "metadata": {},
   "outputs": [],
   "source": [
    "def df_corr (col,lst1,lst2,dataframe,seasons):\n",
    "    \n",
    "    df_temp = pd.DataFrame(columns=col, index=lst2)\n",
    "    \n",
    "    for S in seasons:\n",
    "        dataframe_seasonal = dataframe[dataframe['Season'] == S]\n",
    "        for i in lst1:\n",
    "            for j in lst2:\n",
    "                if i[-1] == j[-1]:\n",
    "                    # Convert dataframe into series\n",
    "                    list1 = dataframe_seasonal[i] \n",
    "                    list2 = dataframe_seasonal[j]\n",
    "                    # Apply the pearsonr()\n",
    "                    corr, _ = pearsonr(list1, list2)\n",
    "                    df_temp[S].loc[j] = corr\n",
    "    return df_temp"
   ]
  },
  {
   "cell_type": "code",
   "execution_count": 15,
   "id": "a85ee5a6",
   "metadata": {},
   "outputs": [
    {
     "data": {
      "text/html": [
       "<div>\n",
       "<style scoped>\n",
       "    .dataframe tbody tr th:only-of-type {\n",
       "        vertical-align: middle;\n",
       "    }\n",
       "\n",
       "    .dataframe tbody tr th {\n",
       "        vertical-align: top;\n",
       "    }\n",
       "\n",
       "    .dataframe thead th {\n",
       "        text-align: right;\n",
       "    }\n",
       "</style>\n",
       "<table border=\"1\" class=\"dataframe\">\n",
       "  <thead>\n",
       "    <tr style=\"text-align: right;\">\n",
       "      <th></th>\n",
       "      <th>Winter</th>\n",
       "      <th>Summer</th>\n",
       "      <th>Southwest Monsoon</th>\n",
       "      <th>Northeast monsoon</th>\n",
       "    </tr>\n",
       "  </thead>\n",
       "  <tbody>\n",
       "    <tr>\n",
       "      <th>c_SEG 6</th>\n",
       "      <td>-0.124005</td>\n",
       "      <td>0.553337</td>\n",
       "      <td>0.253103</td>\n",
       "      <td>-0.679176</td>\n",
       "    </tr>\n",
       "    <tr>\n",
       "      <th>c_SEG 5</th>\n",
       "      <td>0.205077</td>\n",
       "      <td>0.616249</td>\n",
       "      <td>0.596581</td>\n",
       "      <td>0.474238</td>\n",
       "    </tr>\n",
       "    <tr>\n",
       "      <th>c_SEG 4</th>\n",
       "      <td>0.222734</td>\n",
       "      <td>0.51898</td>\n",
       "      <td>0.622239</td>\n",
       "      <td>0.59605</td>\n",
       "    </tr>\n",
       "    <tr>\n",
       "      <th>c_SEG 3</th>\n",
       "      <td>-0.050709</td>\n",
       "      <td>0.276268</td>\n",
       "      <td>0.346679</td>\n",
       "      <td>-0.32123</td>\n",
       "    </tr>\n",
       "    <tr>\n",
       "      <th>c_SEG 2</th>\n",
       "      <td>0.24303</td>\n",
       "      <td>0.300765</td>\n",
       "      <td>0.536144</td>\n",
       "      <td>0.526022</td>\n",
       "    </tr>\n",
       "    <tr>\n",
       "      <th>c_SEG 1</th>\n",
       "      <td>-0.055177</td>\n",
       "      <td>0.104143</td>\n",
       "      <td>0.275294</td>\n",
       "      <td>-0.232497</td>\n",
       "    </tr>\n",
       "  </tbody>\n",
       "</table>\n",
       "</div>"
      ],
      "text/plain": [
       "           Winter    Summer Southwest Monsoon Northeast monsoon\n",
       "c_SEG 6 -0.124005  0.553337          0.253103         -0.679176\n",
       "c_SEG 5  0.205077  0.616249          0.596581          0.474238\n",
       "c_SEG 4  0.222734   0.51898          0.622239           0.59605\n",
       "c_SEG 3 -0.050709  0.276268          0.346679          -0.32123\n",
       "c_SEG 2   0.24303  0.300765          0.536144          0.526022\n",
       "c_SEG 1 -0.055177  0.104143          0.275294         -0.232497"
      ]
     },
     "execution_count": 15,
     "metadata": {},
     "output_type": "execute_result"
    }
   ],
   "source": [
    "# Nitrate-Chlorophyll\n",
    "nc = df_corr(col=Season, \n",
    "        lst1=n_seg, lst2=c_seg,\n",
    "        dataframe=df, seasons=Season)\n",
    "nc"
   ]
  },
  {
   "cell_type": "code",
   "execution_count": 16,
   "id": "8a0b6f8a",
   "metadata": {},
   "outputs": [
    {
     "data": {
      "text/html": [
       "<div>\n",
       "<style scoped>\n",
       "    .dataframe tbody tr th:only-of-type {\n",
       "        vertical-align: middle;\n",
       "    }\n",
       "\n",
       "    .dataframe tbody tr th {\n",
       "        vertical-align: top;\n",
       "    }\n",
       "\n",
       "    .dataframe thead th {\n",
       "        text-align: right;\n",
       "    }\n",
       "</style>\n",
       "<table border=\"1\" class=\"dataframe\">\n",
       "  <thead>\n",
       "    <tr style=\"text-align: right;\">\n",
       "      <th></th>\n",
       "      <th>Winter</th>\n",
       "      <th>Summer</th>\n",
       "      <th>Southwest Monsoon</th>\n",
       "      <th>Northeast monsoon</th>\n",
       "    </tr>\n",
       "  </thead>\n",
       "  <tbody>\n",
       "    <tr>\n",
       "      <th>i_SEG 6</th>\n",
       "      <td>0.534995</td>\n",
       "      <td>0.537901</td>\n",
       "      <td>0.471824</td>\n",
       "      <td>0.259737</td>\n",
       "    </tr>\n",
       "    <tr>\n",
       "      <th>i_SEG 5</th>\n",
       "      <td>0.436473</td>\n",
       "      <td>0.342846</td>\n",
       "      <td>0.344435</td>\n",
       "      <td>0.240972</td>\n",
       "    </tr>\n",
       "    <tr>\n",
       "      <th>i_SEG 4</th>\n",
       "      <td>0.391862</td>\n",
       "      <td>0.120561</td>\n",
       "      <td>0.182156</td>\n",
       "      <td>0.207824</td>\n",
       "    </tr>\n",
       "    <tr>\n",
       "      <th>i_SEG 3</th>\n",
       "      <td>0.375892</td>\n",
       "      <td>-0.08592</td>\n",
       "      <td>0.037743</td>\n",
       "      <td>0.174318</td>\n",
       "    </tr>\n",
       "    <tr>\n",
       "      <th>i_SEG 2</th>\n",
       "      <td>0.375245</td>\n",
       "      <td>-0.214769</td>\n",
       "      <td>-0.063937</td>\n",
       "      <td>0.146425</td>\n",
       "    </tr>\n",
       "    <tr>\n",
       "      <th>i_SEG 1</th>\n",
       "      <td>0.386291</td>\n",
       "      <td>-0.245764</td>\n",
       "      <td>-0.079775</td>\n",
       "      <td>0.146753</td>\n",
       "    </tr>\n",
       "  </tbody>\n",
       "</table>\n",
       "</div>"
      ],
      "text/plain": [
       "           Winter    Summer Southwest Monsoon Northeast monsoon\n",
       "i_SEG 6  0.534995  0.537901          0.471824          0.259737\n",
       "i_SEG 5  0.436473  0.342846          0.344435          0.240972\n",
       "i_SEG 4  0.391862  0.120561          0.182156          0.207824\n",
       "i_SEG 3  0.375892  -0.08592          0.037743          0.174318\n",
       "i_SEG 2  0.375245 -0.214769         -0.063937          0.146425\n",
       "i_SEG 1  0.386291 -0.245764         -0.079775          0.146753"
      ]
     },
     "execution_count": 16,
     "metadata": {},
     "output_type": "execute_result"
    }
   ],
   "source": [
    "# Nitrate-inflow\n",
    "ni = df_corr(col=Season, \n",
    "        lst1=n_seg, lst2=i_seg,\n",
    "        dataframe=df, seasons=Season)\n",
    "ni"
   ]
  },
  {
   "cell_type": "code",
   "execution_count": 17,
   "id": "b6d2eef6",
   "metadata": {},
   "outputs": [
    {
     "data": {
      "text/html": [
       "<div>\n",
       "<style scoped>\n",
       "    .dataframe tbody tr th:only-of-type {\n",
       "        vertical-align: middle;\n",
       "    }\n",
       "\n",
       "    .dataframe tbody tr th {\n",
       "        vertical-align: top;\n",
       "    }\n",
       "\n",
       "    .dataframe thead th {\n",
       "        text-align: right;\n",
       "    }\n",
       "</style>\n",
       "<table border=\"1\" class=\"dataframe\">\n",
       "  <thead>\n",
       "    <tr style=\"text-align: right;\">\n",
       "      <th></th>\n",
       "      <th>Winter</th>\n",
       "      <th>Summer</th>\n",
       "      <th>Southwest Monsoon</th>\n",
       "      <th>Northeast monsoon</th>\n",
       "    </tr>\n",
       "  </thead>\n",
       "  <tbody>\n",
       "    <tr>\n",
       "      <th>c_SEG 6</th>\n",
       "      <td>0.240433</td>\n",
       "      <td>0.709625</td>\n",
       "      <td>0.459581</td>\n",
       "      <td>-0.520989</td>\n",
       "    </tr>\n",
       "    <tr>\n",
       "      <th>c_SEG 5</th>\n",
       "      <td>0.369061</td>\n",
       "      <td>0.671352</td>\n",
       "      <td>0.915006</td>\n",
       "      <td>0.675174</td>\n",
       "    </tr>\n",
       "    <tr>\n",
       "      <th>c_SEG 4</th>\n",
       "      <td>0.435358</td>\n",
       "      <td>0.556569</td>\n",
       "      <td>0.89521</td>\n",
       "      <td>0.756504</td>\n",
       "    </tr>\n",
       "    <tr>\n",
       "      <th>c_SEG 3</th>\n",
       "      <td>0.26163</td>\n",
       "      <td>0.215116</td>\n",
       "      <td>0.469515</td>\n",
       "      <td>-0.116113</td>\n",
       "    </tr>\n",
       "    <tr>\n",
       "      <th>c_SEG 2</th>\n",
       "      <td>0.430823</td>\n",
       "      <td>0.307613</td>\n",
       "      <td>0.708307</td>\n",
       "      <td>0.598912</td>\n",
       "    </tr>\n",
       "    <tr>\n",
       "      <th>c_SEG 1</th>\n",
       "      <td>0.047434</td>\n",
       "      <td>-0.029546</td>\n",
       "      <td>0.351601</td>\n",
       "      <td>-0.063294</td>\n",
       "    </tr>\n",
       "  </tbody>\n",
       "</table>\n",
       "</div>"
      ],
      "text/plain": [
       "           Winter    Summer Southwest Monsoon Northeast monsoon\n",
       "c_SEG 6  0.240433  0.709625          0.459581         -0.520989\n",
       "c_SEG 5  0.369061  0.671352          0.915006          0.675174\n",
       "c_SEG 4  0.435358  0.556569           0.89521          0.756504\n",
       "c_SEG 3   0.26163  0.215116          0.469515         -0.116113\n",
       "c_SEG 2  0.430823  0.307613          0.708307          0.598912\n",
       "c_SEG 1  0.047434 -0.029546          0.351601         -0.063294"
      ]
     },
     "execution_count": 17,
     "metadata": {},
     "output_type": "execute_result"
    }
   ],
   "source": [
    "# Phosphorus-Chlorophyll\n",
    "pc = df_corr(col=Season, \n",
    "        lst1=p_seg, lst2=c_seg,\n",
    "        dataframe=df, seasons=Season)\n",
    "pc"
   ]
  },
  {
   "cell_type": "code",
   "execution_count": 18,
   "id": "cc3ee0db",
   "metadata": {},
   "outputs": [
    {
     "data": {
      "text/html": [
       "<div>\n",
       "<style scoped>\n",
       "    .dataframe tbody tr th:only-of-type {\n",
       "        vertical-align: middle;\n",
       "    }\n",
       "\n",
       "    .dataframe tbody tr th {\n",
       "        vertical-align: top;\n",
       "    }\n",
       "\n",
       "    .dataframe thead th {\n",
       "        text-align: right;\n",
       "    }\n",
       "</style>\n",
       "<table border=\"1\" class=\"dataframe\">\n",
       "  <thead>\n",
       "    <tr style=\"text-align: right;\">\n",
       "      <th></th>\n",
       "      <th>Winter</th>\n",
       "      <th>Summer</th>\n",
       "      <th>Southwest Monsoon</th>\n",
       "      <th>Northeast monsoon</th>\n",
       "    </tr>\n",
       "  </thead>\n",
       "  <tbody>\n",
       "    <tr>\n",
       "      <th>i_SEG 6</th>\n",
       "      <td>0.358199</td>\n",
       "      <td>0.559658</td>\n",
       "      <td>0.414163</td>\n",
       "      <td>0.290628</td>\n",
       "    </tr>\n",
       "    <tr>\n",
       "      <th>i_SEG 5</th>\n",
       "      <td>0.419515</td>\n",
       "      <td>0.379914</td>\n",
       "      <td>0.235513</td>\n",
       "      <td>0.25711</td>\n",
       "    </tr>\n",
       "    <tr>\n",
       "      <th>i_SEG 4</th>\n",
       "      <td>0.399327</td>\n",
       "      <td>0.149196</td>\n",
       "      <td>0.058005</td>\n",
       "      <td>0.208486</td>\n",
       "    </tr>\n",
       "    <tr>\n",
       "      <th>i_SEG 3</th>\n",
       "      <td>0.096643</td>\n",
       "      <td>-0.222591</td>\n",
       "      <td>-0.130567</td>\n",
       "      <td>0.12344</td>\n",
       "    </tr>\n",
       "    <tr>\n",
       "      <th>i_SEG 2</th>\n",
       "      <td>0.279264</td>\n",
       "      <td>-0.23442</td>\n",
       "      <td>-0.20548</td>\n",
       "      <td>0.11093</td>\n",
       "    </tr>\n",
       "    <tr>\n",
       "      <th>i_SEG 1</th>\n",
       "      <td>0.064819</td>\n",
       "      <td>-0.433735</td>\n",
       "      <td>-0.269512</td>\n",
       "      <td>0.057029</td>\n",
       "    </tr>\n",
       "  </tbody>\n",
       "</table>\n",
       "</div>"
      ],
      "text/plain": [
       "           Winter    Summer Southwest Monsoon Northeast monsoon\n",
       "i_SEG 6  0.358199  0.559658          0.414163          0.290628\n",
       "i_SEG 5  0.419515  0.379914          0.235513           0.25711\n",
       "i_SEG 4  0.399327  0.149196          0.058005          0.208486\n",
       "i_SEG 3  0.096643 -0.222591         -0.130567           0.12344\n",
       "i_SEG 2  0.279264  -0.23442          -0.20548           0.11093\n",
       "i_SEG 1  0.064819 -0.433735         -0.269512          0.057029"
      ]
     },
     "execution_count": 18,
     "metadata": {},
     "output_type": "execute_result"
    }
   ],
   "source": [
    "# Phosphorus-inflow\n",
    "pi = df_corr(col=Season,\n",
    "        lst1=p_seg, lst2=i_seg,\n",
    "        dataframe=df, seasons=Season)\n",
    "pi"
   ]
  },
  {
   "cell_type": "code",
   "execution_count": 19,
   "id": "431e4dee",
   "metadata": {},
   "outputs": [
    {
     "data": {
      "text/plain": [
       "Text(0.5, 1.0, 'Phosphorus-Inflow')"
      ]
     },
     "execution_count": 19,
     "metadata": {},
     "output_type": "execute_result"
    },
    {
     "data": {
      "image/png": "[encoded data removed]",
      "text/plain": [
       "<Figure size 1008x720 with 8 Axes>"
      ]
     },
     "metadata": {
      "needs_background": "light"
     },
     "output_type": "display_data"
    }
   ],
   "source": [
    "fig, axes = plt.subplots(2, 2, sharex=True, figsize=(14,10))\n",
    "sns.heatmap(ax=axes[0,0], data=nc>=0.5, annot=True, cmap='viridis',linewidths=1)\n",
    "axes[0,0].set_title('Nitrate-Chlorophyll')\n",
    "sns.heatmap(ax=axes[0,1], data=ni>=0.5, annot=True, cmap='viridis',linewidths=1)\n",
    "axes[0,1].set_title('Nitrate-Inflow')\n",
    "sns.heatmap(ax=axes[1,0], data=pc>=0.5, annot=True, cmap='viridis',linewidths=1)\n",
    "axes[1,0].set_title('Phosphorus-Chlorophyll')\n",
    "sns.heatmap(ax=axes[1,1], data=pi>=0.5, annot=True, cmap='viridis',linewidths=1)\n",
    "axes[1,1].set_title('Phosphorus-Inflow')"
   ]
  },
  {
   "cell_type": "code",
   "execution_count": 20,
   "id": "52502aae",
   "metadata": {},
   "outputs": [],
   "source": [
    "df['n_mean'] = df.filter(regex='n_',axis=1).mean(axis=1)\n",
    "df['c_mean'] = df.filter(regex='c_',axis=1).mean(axis=1)\n",
    "df['i_mean'] = df.filter(regex='i_',axis=1).mean(axis=1)\n",
    "df['p_mean'] = df.filter(regex='p_',axis=1).mean(axis=1)"
   ]
  },
  {
   "cell_type": "code",
   "execution_count": 21,
   "id": "96c451e0",
   "metadata": {},
   "outputs": [
    {
     "data": {
      "text/html": [
       "<div>\n",
       "<style scoped>\n",
       "    .dataframe tbody tr th:only-of-type {\n",
       "        vertical-align: middle;\n",
       "    }\n",
       "\n",
       "    .dataframe tbody tr th {\n",
       "        vertical-align: top;\n",
       "    }\n",
       "\n",
       "    .dataframe thead th {\n",
       "        text-align: right;\n",
       "    }\n",
       "</style>\n",
       "<table border=\"1\" class=\"dataframe\">\n",
       "  <thead>\n",
       "    <tr style=\"text-align: right;\">\n",
       "      <th></th>\n",
       "      <th>n_mean</th>\n",
       "      <th>c_mean</th>\n",
       "      <th>i_mean</th>\n",
       "      <th>p_mean</th>\n",
       "    </tr>\n",
       "  </thead>\n",
       "  <tbody>\n",
       "    <tr>\n",
       "      <th>0</th>\n",
       "      <td>9.600000</td>\n",
       "      <td>47.000000</td>\n",
       "      <td>6.027000</td>\n",
       "      <td>3.197333</td>\n",
       "    </tr>\n",
       "    <tr>\n",
       "      <th>1</th>\n",
       "      <td>9.687333</td>\n",
       "      <td>44.098167</td>\n",
       "      <td>5.398333</td>\n",
       "      <td>2.697500</td>\n",
       "    </tr>\n",
       "    <tr>\n",
       "      <th>2</th>\n",
       "      <td>9.711333</td>\n",
       "      <td>40.714333</td>\n",
       "      <td>4.971833</td>\n",
       "      <td>2.655167</td>\n",
       "    </tr>\n",
       "    <tr>\n",
       "      <th>3</th>\n",
       "      <td>9.723833</td>\n",
       "      <td>37.677833</td>\n",
       "      <td>4.802500</td>\n",
       "      <td>2.630167</td>\n",
       "    </tr>\n",
       "    <tr>\n",
       "      <th>4</th>\n",
       "      <td>9.734833</td>\n",
       "      <td>35.113500</td>\n",
       "      <td>7.846333</td>\n",
       "      <td>2.601667</td>\n",
       "    </tr>\n",
       "    <tr>\n",
       "      <th>...</th>\n",
       "      <td>...</td>\n",
       "      <td>...</td>\n",
       "      <td>...</td>\n",
       "      <td>...</td>\n",
       "    </tr>\n",
       "    <tr>\n",
       "      <th>2187</th>\n",
       "      <td>10.849500</td>\n",
       "      <td>16.188167</td>\n",
       "      <td>11.269667</td>\n",
       "      <td>1.336333</td>\n",
       "    </tr>\n",
       "    <tr>\n",
       "      <th>2188</th>\n",
       "      <td>10.697333</td>\n",
       "      <td>15.817833</td>\n",
       "      <td>10.001833</td>\n",
       "      <td>1.310667</td>\n",
       "    </tr>\n",
       "    <tr>\n",
       "      <th>2189</th>\n",
       "      <td>10.253333</td>\n",
       "      <td>14.352000</td>\n",
       "      <td>7.616000</td>\n",
       "      <td>1.243333</td>\n",
       "    </tr>\n",
       "    <tr>\n",
       "      <th>2190</th>\n",
       "      <td>9.719000</td>\n",
       "      <td>12.601500</td>\n",
       "      <td>6.374333</td>\n",
       "      <td>1.167167</td>\n",
       "    </tr>\n",
       "    <tr>\n",
       "      <th>2191</th>\n",
       "      <td>9.450500</td>\n",
       "      <td>11.924833</td>\n",
       "      <td>6.333000</td>\n",
       "      <td>1.141333</td>\n",
       "    </tr>\n",
       "  </tbody>\n",
       "</table>\n",
       "<p>2192 rows × 4 columns</p>\n",
       "</div>"
      ],
      "text/plain": [
       "         n_mean     c_mean     i_mean    p_mean\n",
       "0      9.600000  47.000000   6.027000  3.197333\n",
       "1      9.687333  44.098167   5.398333  2.697500\n",
       "2      9.711333  40.714333   4.971833  2.655167\n",
       "3      9.723833  37.677833   4.802500  2.630167\n",
       "4      9.734833  35.113500   7.846333  2.601667\n",
       "...         ...        ...        ...       ...\n",
       "2187  10.849500  16.188167  11.269667  1.336333\n",
       "2188  10.697333  15.817833  10.001833  1.310667\n",
       "2189  10.253333  14.352000   7.616000  1.243333\n",
       "2190   9.719000  12.601500   6.374333  1.167167\n",
       "2191   9.450500  11.924833   6.333000  1.141333\n",
       "\n",
       "[2192 rows x 4 columns]"
      ]
     },
     "execution_count": 21,
     "metadata": {},
     "output_type": "execute_result"
    }
   ],
   "source": [
    "df.filter(regex='mean',axis=1)"
   ]
  },
  {
   "cell_type": "code",
   "execution_count": 22,
   "id": "09683ea6",
   "metadata": {},
   "outputs": [
    {
     "data": {
      "text/html": [
       "<div>\n",
       "<style scoped>\n",
       "    .dataframe tbody tr th:only-of-type {\n",
       "        vertical-align: middle;\n",
       "    }\n",
       "\n",
       "    .dataframe tbody tr th {\n",
       "        vertical-align: top;\n",
       "    }\n",
       "\n",
       "    .dataframe thead th {\n",
       "        text-align: right;\n",
       "    }\n",
       "</style>\n",
       "<table border=\"1\" class=\"dataframe\">\n",
       "  <thead>\n",
       "    <tr style=\"text-align: right;\">\n",
       "      <th></th>\n",
       "      <th>Season</th>\n",
       "      <th>n_mean</th>\n",
       "      <th>c_mean</th>\n",
       "      <th>i_mean</th>\n",
       "      <th>p_mean</th>\n",
       "    </tr>\n",
       "  </thead>\n",
       "  <tbody>\n",
       "    <tr>\n",
       "      <th>0</th>\n",
       "      <td>Winter</td>\n",
       "      <td>9.600000</td>\n",
       "      <td>47.000000</td>\n",
       "      <td>6.027000</td>\n",
       "      <td>3.197333</td>\n",
       "    </tr>\n",
       "    <tr>\n",
       "      <th>1</th>\n",
       "      <td>Winter</td>\n",
       "      <td>9.687333</td>\n",
       "      <td>44.098167</td>\n",
       "      <td>5.398333</td>\n",
       "      <td>2.697500</td>\n",
       "    </tr>\n",
       "    <tr>\n",
       "      <th>2</th>\n",
       "      <td>Winter</td>\n",
       "      <td>9.711333</td>\n",
       "      <td>40.714333</td>\n",
       "      <td>4.971833</td>\n",
       "      <td>2.655167</td>\n",
       "    </tr>\n",
       "    <tr>\n",
       "      <th>3</th>\n",
       "      <td>Winter</td>\n",
       "      <td>9.723833</td>\n",
       "      <td>37.677833</td>\n",
       "      <td>4.802500</td>\n",
       "      <td>2.630167</td>\n",
       "    </tr>\n",
       "    <tr>\n",
       "      <th>4</th>\n",
       "      <td>Winter</td>\n",
       "      <td>9.734833</td>\n",
       "      <td>35.113500</td>\n",
       "      <td>7.846333</td>\n",
       "      <td>2.601667</td>\n",
       "    </tr>\n",
       "  </tbody>\n",
       "</table>\n",
       "</div>"
      ],
      "text/plain": [
       "   Season    n_mean     c_mean    i_mean    p_mean\n",
       "0  Winter  9.600000  47.000000  6.027000  3.197333\n",
       "1  Winter  9.687333  44.098167  5.398333  2.697500\n",
       "2  Winter  9.711333  40.714333  4.971833  2.655167\n",
       "3  Winter  9.723833  37.677833  4.802500  2.630167\n",
       "4  Winter  9.734833  35.113500  7.846333  2.601667"
      ]
     },
     "execution_count": 22,
     "metadata": {},
     "output_type": "execute_result"
    }
   ],
   "source": [
    "df_final = pd.concat([df[['Season']], df.filter(regex='mean',axis=1)], axis=1)\n",
    "df_final.head()"
   ]
  },
  {
   "cell_type": "code",
   "execution_count": 23,
   "id": "447f1781",
   "metadata": {},
   "outputs": [
    {
     "data": {
      "text/html": [
       "<div>\n",
       "<style scoped>\n",
       "    .dataframe tbody tr th:only-of-type {\n",
       "        vertical-align: middle;\n",
       "    }\n",
       "\n",
       "    .dataframe tbody tr th {\n",
       "        vertical-align: top;\n",
       "    }\n",
       "\n",
       "    .dataframe thead th {\n",
       "        text-align: right;\n",
       "    }\n",
       "</style>\n",
       "<table border=\"1\" class=\"dataframe\">\n",
       "  <thead>\n",
       "    <tr style=\"text-align: right;\">\n",
       "      <th></th>\n",
       "      <th>Winter</th>\n",
       "      <th>Summer</th>\n",
       "      <th>Southwest Monsoon</th>\n",
       "      <th>Northeast monsoon</th>\n",
       "    </tr>\n",
       "  </thead>\n",
       "  <tbody>\n",
       "    <tr>\n",
       "      <th>c_mean</th>\n",
       "      <td>0.036749</td>\n",
       "      <td>0.479311</td>\n",
       "      <td>0.467673</td>\n",
       "      <td>-0.182091</td>\n",
       "    </tr>\n",
       "  </tbody>\n",
       "</table>\n",
       "</div>"
      ],
      "text/plain": [
       "          Winter    Summer Southwest Monsoon Northeast monsoon\n",
       "c_mean  0.036749  0.479311          0.467673         -0.182091"
      ]
     },
     "execution_count": 23,
     "metadata": {},
     "output_type": "execute_result"
    }
   ],
   "source": [
    "# Nitrate_mean-Chlorophyll_mean\n",
    "mean_nc = df_corr(col=Season, \n",
    "        lst1=['n_mean'], lst2=['c_mean'],\n",
    "        dataframe=df, seasons=Season)\n",
    "mean_nc"
   ]
  },
  {
   "cell_type": "code",
   "execution_count": 24,
   "id": "d0e59329",
   "metadata": {},
   "outputs": [
    {
     "data": {
      "text/html": [
       "<div>\n",
       "<style scoped>\n",
       "    .dataframe tbody tr th:only-of-type {\n",
       "        vertical-align: middle;\n",
       "    }\n",
       "\n",
       "    .dataframe tbody tr th {\n",
       "        vertical-align: top;\n",
       "    }\n",
       "\n",
       "    .dataframe thead th {\n",
       "        text-align: right;\n",
       "    }\n",
       "</style>\n",
       "<table border=\"1\" class=\"dataframe\">\n",
       "  <thead>\n",
       "    <tr style=\"text-align: right;\">\n",
       "      <th></th>\n",
       "      <th>Winter</th>\n",
       "      <th>Summer</th>\n",
       "      <th>Southwest Monsoon</th>\n",
       "      <th>Northeast monsoon</th>\n",
       "    </tr>\n",
       "  </thead>\n",
       "  <tbody>\n",
       "    <tr>\n",
       "      <th>i_mean</th>\n",
       "      <td>0.428045</td>\n",
       "      <td>0.100458</td>\n",
       "      <td>0.159731</td>\n",
       "      <td>0.204795</td>\n",
       "    </tr>\n",
       "  </tbody>\n",
       "</table>\n",
       "</div>"
      ],
      "text/plain": [
       "          Winter    Summer Southwest Monsoon Northeast monsoon\n",
       "i_mean  0.428045  0.100458          0.159731          0.204795"
      ]
     },
     "execution_count": 24,
     "metadata": {},
     "output_type": "execute_result"
    }
   ],
   "source": [
    "# Nitrate_mean-inflow_mean\n",
    "mean_ni = df_corr(col=Season, \n",
    "        lst1=['n_mean'], lst2=['i_mean'],\n",
    "        dataframe=df, seasons=Season)\n",
    "mean_ni"
   ]
  },
  {
   "cell_type": "code",
   "execution_count": 25,
   "id": "e7fc0dbb",
   "metadata": {},
   "outputs": [
    {
     "data": {
      "text/html": [
       "<div>\n",
       "<style scoped>\n",
       "    .dataframe tbody tr th:only-of-type {\n",
       "        vertical-align: middle;\n",
       "    }\n",
       "\n",
       "    .dataframe tbody tr th {\n",
       "        vertical-align: top;\n",
       "    }\n",
       "\n",
       "    .dataframe thead th {\n",
       "        text-align: right;\n",
       "    }\n",
       "</style>\n",
       "<table border=\"1\" class=\"dataframe\">\n",
       "  <thead>\n",
       "    <tr style=\"text-align: right;\">\n",
       "      <th></th>\n",
       "      <th>Winter</th>\n",
       "      <th>Summer</th>\n",
       "      <th>Southwest Monsoon</th>\n",
       "      <th>Northeast monsoon</th>\n",
       "    </tr>\n",
       "  </thead>\n",
       "  <tbody>\n",
       "    <tr>\n",
       "      <th>c_mean</th>\n",
       "      <td>0.271701</td>\n",
       "      <td>0.573195</td>\n",
       "      <td>0.723546</td>\n",
       "      <td>0.154205</td>\n",
       "    </tr>\n",
       "  </tbody>\n",
       "</table>\n",
       "</div>"
      ],
      "text/plain": [
       "          Winter    Summer Southwest Monsoon Northeast monsoon\n",
       "c_mean  0.271701  0.573195          0.723546          0.154205"
      ]
     },
     "execution_count": 25,
     "metadata": {},
     "output_type": "execute_result"
    }
   ],
   "source": [
    "# Phosphate_mean-Chlorophyll_mean\n",
    "mean_pc = df_corr(col=Season, \n",
    "        lst1=['p_mean'], lst2=['c_mean'],\n",
    "        dataframe=df, seasons=Season)\n",
    "mean_pc"
   ]
  },
  {
   "cell_type": "code",
   "execution_count": 26,
   "id": "56d941c1",
   "metadata": {},
   "outputs": [
    {
     "data": {
      "text/html": [
       "<div>\n",
       "<style scoped>\n",
       "    .dataframe tbody tr th:only-of-type {\n",
       "        vertical-align: middle;\n",
       "    }\n",
       "\n",
       "    .dataframe tbody tr th {\n",
       "        vertical-align: top;\n",
       "    }\n",
       "\n",
       "    .dataframe thead th {\n",
       "        text-align: right;\n",
       "    }\n",
       "</style>\n",
       "<table border=\"1\" class=\"dataframe\">\n",
       "  <thead>\n",
       "    <tr style=\"text-align: right;\">\n",
       "      <th></th>\n",
       "      <th>Winter</th>\n",
       "      <th>Summer</th>\n",
       "      <th>Southwest Monsoon</th>\n",
       "      <th>Northeast monsoon</th>\n",
       "    </tr>\n",
       "  </thead>\n",
       "  <tbody>\n",
       "    <tr>\n",
       "      <th>i_mean</th>\n",
       "      <td>0.309319</td>\n",
       "      <td>0.084617</td>\n",
       "      <td>0.015284</td>\n",
       "      <td>0.198415</td>\n",
       "    </tr>\n",
       "  </tbody>\n",
       "</table>\n",
       "</div>"
      ],
      "text/plain": [
       "          Winter    Summer Southwest Monsoon Northeast monsoon\n",
       "i_mean  0.309319  0.084617          0.015284          0.198415"
      ]
     },
     "execution_count": 26,
     "metadata": {},
     "output_type": "execute_result"
    }
   ],
   "source": [
    "# Phosphate_mean-inflow_mean\n",
    "mean_pi = df_corr(col=Season, \n",
    "        lst1=['p_mean'], lst2=['i_mean'],\n",
    "        dataframe=df, seasons=Season)\n",
    "mean_pi"
   ]
  },
  {
   "cell_type": "code",
   "execution_count": 27,
   "id": "a14c716c",
   "metadata": {},
   "outputs": [
    {
     "data": {
      "text/html": [
       "<div>\n",
       "<style scoped>\n",
       "    .dataframe tbody tr th:only-of-type {\n",
       "        vertical-align: middle;\n",
       "    }\n",
       "\n",
       "    .dataframe tbody tr th {\n",
       "        vertical-align: top;\n",
       "    }\n",
       "\n",
       "    .dataframe thead th {\n",
       "        text-align: right;\n",
       "    }\n",
       "</style>\n",
       "<table border=\"1\" class=\"dataframe\">\n",
       "  <thead>\n",
       "    <tr style=\"text-align: right;\">\n",
       "      <th></th>\n",
       "      <th>Winter</th>\n",
       "      <th>Summer</th>\n",
       "      <th>Southwest Monsoon</th>\n",
       "      <th>Northeast monsoon</th>\n",
       "    </tr>\n",
       "  </thead>\n",
       "  <tbody>\n",
       "    <tr>\n",
       "      <th>c_mean</th>\n",
       "      <td>0.036749</td>\n",
       "      <td>0.479311</td>\n",
       "      <td>0.467673</td>\n",
       "      <td>-0.182091</td>\n",
       "    </tr>\n",
       "    <tr>\n",
       "      <th>i_mean</th>\n",
       "      <td>0.428045</td>\n",
       "      <td>0.100458</td>\n",
       "      <td>0.159731</td>\n",
       "      <td>0.204795</td>\n",
       "    </tr>\n",
       "  </tbody>\n",
       "</table>\n",
       "</div>"
      ],
      "text/plain": [
       "          Winter    Summer Southwest Monsoon Northeast monsoon\n",
       "c_mean  0.036749  0.479311          0.467673         -0.182091\n",
       "i_mean  0.428045  0.100458          0.159731          0.204795"
      ]
     },
     "execution_count": 27,
     "metadata": {},
     "output_type": "execute_result"
    }
   ],
   "source": [
    "n_corr = pd.concat([mean_nc,mean_ni])\n",
    "n_corr"
   ]
  },
  {
   "cell_type": "code",
   "execution_count": 28,
   "id": "69b31e4f",
   "metadata": {},
   "outputs": [
    {
     "data": {
      "text/html": [
       "<div>\n",
       "<style scoped>\n",
       "    .dataframe tbody tr th:only-of-type {\n",
       "        vertical-align: middle;\n",
       "    }\n",
       "\n",
       "    .dataframe tbody tr th {\n",
       "        vertical-align: top;\n",
       "    }\n",
       "\n",
       "    .dataframe thead th {\n",
       "        text-align: right;\n",
       "    }\n",
       "</style>\n",
       "<table border=\"1\" class=\"dataframe\">\n",
       "  <thead>\n",
       "    <tr style=\"text-align: right;\">\n",
       "      <th></th>\n",
       "      <th>Winter</th>\n",
       "      <th>Summer</th>\n",
       "      <th>Southwest Monsoon</th>\n",
       "      <th>Northeast monsoon</th>\n",
       "    </tr>\n",
       "  </thead>\n",
       "  <tbody>\n",
       "    <tr>\n",
       "      <th>c_mean</th>\n",
       "      <td>0.271701</td>\n",
       "      <td>0.573195</td>\n",
       "      <td>0.723546</td>\n",
       "      <td>0.154205</td>\n",
       "    </tr>\n",
       "    <tr>\n",
       "      <th>i_mean</th>\n",
       "      <td>0.309319</td>\n",
       "      <td>0.084617</td>\n",
       "      <td>0.015284</td>\n",
       "      <td>0.198415</td>\n",
       "    </tr>\n",
       "  </tbody>\n",
       "</table>\n",
       "</div>"
      ],
      "text/plain": [
       "          Winter    Summer Southwest Monsoon Northeast monsoon\n",
       "c_mean  0.271701  0.573195          0.723546          0.154205\n",
       "i_mean  0.309319  0.084617          0.015284          0.198415"
      ]
     },
     "execution_count": 28,
     "metadata": {},
     "output_type": "execute_result"
    }
   ],
   "source": [
    "p_corr = pd.concat([mean_pc,mean_pi])\n",
    "p_corr"
   ]
  },
  {
   "cell_type": "code",
   "execution_count": 29,
   "id": "cf7089db",
   "metadata": {},
   "outputs": [
    {
     "data": {
      "text/plain": [
       "['Winter', 'Summer', 'Southwest Monsoon', 'Northeast monsoon']"
      ]
     },
     "execution_count": 29,
     "metadata": {},
     "output_type": "execute_result"
    }
   ],
   "source": [
    "Season"
   ]
  },
  {
   "cell_type": "code",
   "execution_count": 30,
   "id": "644d7904",
   "metadata": {},
   "outputs": [],
   "source": [
    "df_Winter = df_final[df_final['Season'] == 'Winter']\n",
    "df_Summer = df_final[df_final['Season'] == 'Summer']\n",
    "df_SW = df_final[df_final['Season'] == 'Southwest Monsoon']\n",
    "df_NE = df_final[df_final['Season'] == 'Northeast monsoon']"
   ]
  },
  {
   "cell_type": "markdown",
   "id": "0b307c88",
   "metadata": {},
   "source": [
    "# RF"
   ]
  },
  {
   "cell_type": "code",
   "execution_count": 31,
   "id": "a29af475",
   "metadata": {},
   "outputs": [],
   "source": [
    "from sklearn.model_selection import train_test_split\n",
    "from sklearn.pipeline import Pipeline\n",
    "from sklearn.preprocessing import StandardScaler, MinMaxScaler, Normalizer, MaxAbsScaler\n",
    "from sklearn.ensemble import RandomForestRegressor\n",
    "from sklearn.model_selection import GridSearchCV\n",
    "import joblib\n",
    "from sklearn.metrics import r2_score\n",
    "\n",
    "def regression_error (y_test, y_pred):\n",
    "    \n",
    "    from sklearn.metrics import mean_absolute_error, mean_squared_error, r2_score\n",
    "    \n",
    "    MAE = mean_absolute_error(y_test,y_pred)\n",
    "    MSE = mean_squared_error(y_test,y_pred)\n",
    "    RMSE = np.sqrt(mean_squared_error(y_test,y_pred))\n",
    "    r2 = r2_score(y_test,y_pred)\n",
    "    \n",
    "    print(f\"MAE: {MAE}\")\n",
    "    print(f\"MSE: {MSE}\")\n",
    "    print(f\"RMSE: {RMSE}\")\n",
    "    print(f\"r2: {r2}\")\n",
    "\n",
    "def rf (X,y,test_size,file_dir,file_name):\n",
    "    \n",
    "    # Train-test split\n",
    "    X_train, X_test, y_train, y_test = train_test_split(X, y, test_size=test_size, random_state=42)\n",
    "    print(X_train.shape, y_train.shape)\n",
    "    print(X_test.shape, y_test.shape)\n",
    "    \n",
    "    # Creating Pipeline\n",
    "    pipeline = Pipeline([( \"scaler\" , StandardScaler()),\n",
    "                       (\"rf\",RandomForestRegressor())])\n",
    "    \n",
    "    # make lists of different parameters to check    \n",
    "    param_grid = {'rf__n_estimators':[64,100,128,200],\n",
    "                  'rf__max_features':[1,2], \n",
    "                  'rf__bootstrap':[True, False],\n",
    "                  'rf__oob_score':[True]}\n",
    "    \n",
    "    # initialize\n",
    "    grid_model = GridSearchCV(estimator=pipeline,param_grid=param_grid)\n",
    "    \n",
    "    # fit\n",
    "    grid_model.fit(X_train,y_train)\n",
    "    \n",
    "    # model score\n",
    "    print('Training set score: ' + str(grid_model.score(X_train, y_train)))\n",
    "    print('Test set score: ' + str(grid_model.score(X_test, y_test)))\n",
    "    \n",
    "    # Prediction\n",
    "    y_pred = grid_model.predict(X_test)\n",
    "    \n",
    "    # Error metrics\n",
    "    regression_error(y_test,y_pred)\n",
    "    \n",
    "    # Plot\n",
    "    res = pd.DataFrame(y_test)\n",
    "    res['y_pred'] = y_pred\n",
    "    res = res.reset_index(drop=True)\n",
    "    plt.figure(figsize=(6,4),dpi=150)\n",
    "    res.plot()\n",
    "    plt.savefig(os.path.join(file_dir,file_name[:-4]+'.jpeg'))\n",
    "    \n",
    "    # Access the best set of parameters\n",
    "    best_params = grid_model.best_params_\n",
    "    print(best_params)\n",
    "    # Stores the optimum model in best_pipe\n",
    "    best_pipe = grid_model.best_estimator_\n",
    "    print(best_pipe)\n",
    "    \n",
    "#     # Result dataframe\n",
    "#     result_df = pd.DataFrame.from_dict(grid_model.cv_results_, orient='columns')\n",
    "#     print(result_df.columns)\n",
    "#     return result_df\n",
    "\n",
    "    # Outputs\n",
    "    # Save the model\n",
    "    file_path = os.path.join(file_dir,file_name)\n",
    "    joblib.dump(grid_model.best_estimator_, file_path, compress = 1)\n",
    "    \n",
    "    best_params_df = pd.DataFrame(pd.Series(grid_model.best_params_), columns=[file_name[:-4]]).transpose()\n",
    "    best_params_df['r2_score'] = r2_score(y_test,y_pred)\n",
    "    return best_params_df"
   ]
  },
  {
   "cell_type": "markdown",
   "id": "a1c5ac9a",
   "metadata": {},
   "source": [
    "# SUMMER Nitrogin-Chlorophyll"
   ]
  },
  {
   "cell_type": "code",
   "execution_count": 32,
   "id": "4433aa9e",
   "metadata": {},
   "outputs": [
    {
     "name": "stdout",
     "output_type": "stream",
     "text": [
      "(496, 1) (496,)\n",
      "(56, 1) (56,)\n"
     ]
    },
    {
     "name": "stderr",
     "output_type": "stream",
     "text": [
      "C:\\Users\\AKSHAYA\\Anaconda3\\lib\\site-packages\\sklearn\\model_selection\\_validation.py:372: FitFailedWarning: \n",
      "60 fits failed out of a total of 80.\n",
      "The score on these train-test partitions for these parameters will be set to nan.\n",
      "If these failures are not expected, you can try to debug them by setting error_score='raise'.\n",
      "\n",
      "Below are more details about the failures:\n",
      "--------------------------------------------------------------------------------\n",
      "20 fits failed with the following error:\n",
      "Traceback (most recent call last):\n",
      "  File \"C:\\Users\\AKSHAYA\\Anaconda3\\lib\\site-packages\\sklearn\\model_selection\\_validation.py\", line 680, in _fit_and_score\n",
      "    estimator.fit(X_train, y_train, **fit_params)\n",
      "  File \"C:\\Users\\AKSHAYA\\Anaconda3\\lib\\site-packages\\sklearn\\pipeline.py\", line 394, in fit\n",
      "    self._final_estimator.fit(Xt, y, **fit_params_last_step)\n",
      "  File \"C:\\Users\\AKSHAYA\\Anaconda3\\lib\\site-packages\\sklearn\\ensemble\\_forest.py\", line 450, in fit\n",
      "    trees = Parallel(\n",
      "  File \"C:\\Users\\AKSHAYA\\Anaconda3\\lib\\site-packages\\joblib\\parallel.py\", line 1043, in __call__\n",
      "    if self.dispatch_one_batch(iterator):\n",
      "  File \"C:\\Users\\AKSHAYA\\Anaconda3\\lib\\site-packages\\joblib\\parallel.py\", line 861, in dispatch_one_batch\n",
      "    self._dispatch(tasks)\n",
      "  File \"C:\\Users\\AKSHAYA\\Anaconda3\\lib\\site-packages\\joblib\\parallel.py\", line 779, in _dispatch\n",
      "    job = self._backend.apply_async(batch, callback=cb)\n",
      "  File \"C:\\Users\\AKSHAYA\\Anaconda3\\lib\\site-packages\\joblib\\_parallel_backends.py\", line 208, in apply_async\n",
      "    result = ImmediateResult(func)\n",
      "  File \"C:\\Users\\AKSHAYA\\Anaconda3\\lib\\site-packages\\joblib\\_parallel_backends.py\", line 572, in __init__\n",
      "    self.results = batch()\n",
      "  File \"C:\\Users\\AKSHAYA\\Anaconda3\\lib\\site-packages\\joblib\\parallel.py\", line 262, in __call__\n",
      "    return [func(*args, **kwargs)\n",
      "  File \"C:\\Users\\AKSHAYA\\Anaconda3\\lib\\site-packages\\joblib\\parallel.py\", line 262, in <listcomp>\n",
      "    return [func(*args, **kwargs)\n",
      "  File \"C:\\Users\\AKSHAYA\\Anaconda3\\lib\\site-packages\\sklearn\\utils\\fixes.py\", line 216, in __call__\n",
      "    return self.function(*args, **kwargs)\n",
      "  File \"C:\\Users\\AKSHAYA\\Anaconda3\\lib\\site-packages\\sklearn\\ensemble\\_forest.py\", line 185, in _parallel_build_trees\n",
      "    tree.fit(X, y, sample_weight=curr_sample_weight, check_input=False)\n",
      "  File \"C:\\Users\\AKSHAYA\\Anaconda3\\lib\\site-packages\\sklearn\\tree\\_classes.py\", line 1315, in fit\n",
      "    super().fit(\n",
      "  File \"C:\\Users\\AKSHAYA\\Anaconda3\\lib\\site-packages\\sklearn\\tree\\_classes.py\", line 308, in fit\n",
      "    raise ValueError(\"max_features must be in (0, n_features]\")\n",
      "ValueError: max_features must be in (0, n_features]\n",
      "\n",
      "--------------------------------------------------------------------------------\n",
      "40 fits failed with the following error:\n",
      "Traceback (most recent call last):\n",
      "  File \"C:\\Users\\AKSHAYA\\Anaconda3\\lib\\site-packages\\sklearn\\model_selection\\_validation.py\", line 680, in _fit_and_score\n",
      "    estimator.fit(X_train, y_train, **fit_params)\n",
      "  File \"C:\\Users\\AKSHAYA\\Anaconda3\\lib\\site-packages\\sklearn\\pipeline.py\", line 394, in fit\n",
      "    self._final_estimator.fit(Xt, y, **fit_params_last_step)\n",
      "  File \"C:\\Users\\AKSHAYA\\Anaconda3\\lib\\site-packages\\sklearn\\ensemble\\_forest.py\", line 411, in fit\n",
      "    raise ValueError(\"Out of bag estimation only available if bootstrap=True\")\n",
      "ValueError: Out of bag estimation only available if bootstrap=True\n",
      "\n",
      "  warnings.warn(some_fits_failed_message, FitFailedWarning)\n",
      "C:\\Users\\AKSHAYA\\Anaconda3\\lib\\site-packages\\sklearn\\model_selection\\_search.py:969: UserWarning: One or more of the test scores are non-finite: [0.06738656 0.06514886 0.06218192 0.06900422        nan        nan\n",
      "        nan        nan        nan        nan        nan        nan\n",
      "        nan        nan        nan        nan]\n",
      "  warnings.warn(\n"
     ]
    },
    {
     "name": "stdout",
     "output_type": "stream",
     "text": [
      "Training set score: 0.8812503341403625\n",
      "Test set score: 0.16384347561223855\n",
      "MAE: 6.128569868276903\n",
      "MSE: 75.53474502392446\n",
      "RMSE: 8.691072719976773\n",
      "r2: 0.16384347561223855\n",
      "{'rf__bootstrap': True, 'rf__max_features': 1, 'rf__n_estimators': 200, 'rf__oob_score': True}\n",
      "Pipeline(steps=[('scaler', StandardScaler()),\n",
      "                ('rf',\n",
      "                 RandomForestRegressor(max_features=1, n_estimators=200,\n",
      "                                       oob_score=True))])\n"
     ]
    },
    {
     "data": {
      "text/html": [
       "<div>\n",
       "<style scoped>\n",
       "    .dataframe tbody tr th:only-of-type {\n",
       "        vertical-align: middle;\n",
       "    }\n",
       "\n",
       "    .dataframe tbody tr th {\n",
       "        vertical-align: top;\n",
       "    }\n",
       "\n",
       "    .dataframe thead th {\n",
       "        text-align: right;\n",
       "    }\n",
       "</style>\n",
       "<table border=\"1\" class=\"dataframe\">\n",
       "  <thead>\n",
       "    <tr style=\"text-align: right;\">\n",
       "      <th></th>\n",
       "      <th>rf__bootstrap</th>\n",
       "      <th>rf__max_features</th>\n",
       "      <th>rf__n_estimators</th>\n",
       "      <th>rf__oob_score</th>\n",
       "      <th>r2_score</th>\n",
       "    </tr>\n",
       "  </thead>\n",
       "  <tbody>\n",
       "    <tr>\n",
       "      <th>RF_SUMMER_nc</th>\n",
       "      <td>True</td>\n",
       "      <td>1</td>\n",
       "      <td>200</td>\n",
       "      <td>True</td>\n",
       "      <td>0.163843</td>\n",
       "    </tr>\n",
       "  </tbody>\n",
       "</table>\n",
       "</div>"
      ],
      "text/plain": [
       "             rf__bootstrap rf__max_features rf__n_estimators rf__oob_score  \\\n",
       "RF_SUMMER_nc          True                1              200          True   \n",
       "\n",
       "              r2_score  \n",
       "RF_SUMMER_nc  0.163843  "
      ]
     },
     "execution_count": 32,
     "metadata": {},
     "output_type": "execute_result"
    },
    {
     "data": {
      "text/plain": [
       "<Figure size 900x600 with 0 Axes>"
      ]
     },
     "metadata": {},
     "output_type": "display_data"
    },
    {
     "data": {
      "image/png": "[encoded data removed]",
      "text/plain": [
       "<Figure size 432x288 with 1 Axes>"
      ]
     },
     "metadata": {
      "needs_background": "light"
     },
     "output_type": "display_data"
    }
   ],
   "source": [
    "X = df_Summer[['c_mean']]\n",
    "y = df_Summer['n_mean']\n",
    "\n",
    "file_dir = os.path.join(os.getcwd(), \"SVR_RF_npc\")\n",
    "file_name = \"RF_SUMMER_nc.pkl\"\n",
    "\n",
    "RF_SUMMER_nc_best_params_df = rf(X=X,y=y,test_size=0.10,file_dir=file_dir,file_name=file_name)\n",
    "RF_SUMMER_nc_best_params_df"
   ]
  },
  {
   "cell_type": "markdown",
   "id": "6c80daa3",
   "metadata": {},
   "source": [
    "# SUMMER Phosphate-Chlorophyll"
   ]
  },
  {
   "cell_type": "code",
   "execution_count": 33,
   "id": "bfe9aa9b",
   "metadata": {},
   "outputs": [
    {
     "name": "stdout",
     "output_type": "stream",
     "text": [
      "(496, 1) (496,)\n",
      "(56, 1) (56,)\n"
     ]
    },
    {
     "name": "stderr",
     "output_type": "stream",
     "text": [
      "C:\\Users\\AKSHAYA\\Anaconda3\\lib\\site-packages\\sklearn\\model_selection\\_validation.py:372: FitFailedWarning: \n",
      "60 fits failed out of a total of 80.\n",
      "The score on these train-test partitions for these parameters will be set to nan.\n",
      "If these failures are not expected, you can try to debug them by setting error_score='raise'.\n",
      "\n",
      "Below are more details about the failures:\n",
      "--------------------------------------------------------------------------------\n",
      "20 fits failed with the following error:\n",
      "Traceback (most recent call last):\n",
      "  File \"C:\\Users\\AKSHAYA\\Anaconda3\\lib\\site-packages\\sklearn\\model_selection\\_validation.py\", line 680, in _fit_and_score\n",
      "    estimator.fit(X_train, y_train, **fit_params)\n",
      "  File \"C:\\Users\\AKSHAYA\\Anaconda3\\lib\\site-packages\\sklearn\\pipeline.py\", line 394, in fit\n",
      "    self._final_estimator.fit(Xt, y, **fit_params_last_step)\n",
      "  File \"C:\\Users\\AKSHAYA\\Anaconda3\\lib\\site-packages\\sklearn\\ensemble\\_forest.py\", line 450, in fit\n",
      "    trees = Parallel(\n",
      "  File \"C:\\Users\\AKSHAYA\\Anaconda3\\lib\\site-packages\\joblib\\parallel.py\", line 1043, in __call__\n",
      "    if self.dispatch_one_batch(iterator):\n",
      "  File \"C:\\Users\\AKSHAYA\\Anaconda3\\lib\\site-packages\\joblib\\parallel.py\", line 861, in dispatch_one_batch\n",
      "    self._dispatch(tasks)\n",
      "  File \"C:\\Users\\AKSHAYA\\Anaconda3\\lib\\site-packages\\joblib\\parallel.py\", line 779, in _dispatch\n",
      "    job = self._backend.apply_async(batch, callback=cb)\n",
      "  File \"C:\\Users\\AKSHAYA\\Anaconda3\\lib\\site-packages\\joblib\\_parallel_backends.py\", line 208, in apply_async\n",
      "    result = ImmediateResult(func)\n",
      "  File \"C:\\Users\\AKSHAYA\\Anaconda3\\lib\\site-packages\\joblib\\_parallel_backends.py\", line 572, in __init__\n",
      "    self.results = batch()\n",
      "  File \"C:\\Users\\AKSHAYA\\Anaconda3\\lib\\site-packages\\joblib\\parallel.py\", line 262, in __call__\n",
      "    return [func(*args, **kwargs)\n",
      "  File \"C:\\Users\\AKSHAYA\\Anaconda3\\lib\\site-packages\\joblib\\parallel.py\", line 262, in <listcomp>\n",
      "    return [func(*args, **kwargs)\n",
      "  File \"C:\\Users\\AKSHAYA\\Anaconda3\\lib\\site-packages\\sklearn\\utils\\fixes.py\", line 216, in __call__\n",
      "    return self.function(*args, **kwargs)\n",
      "  File \"C:\\Users\\AKSHAYA\\Anaconda3\\lib\\site-packages\\sklearn\\ensemble\\_forest.py\", line 185, in _parallel_build_trees\n",
      "    tree.fit(X, y, sample_weight=curr_sample_weight, check_input=False)\n",
      "  File \"C:\\Users\\AKSHAYA\\Anaconda3\\lib\\site-packages\\sklearn\\tree\\_classes.py\", line 1315, in fit\n",
      "    super().fit(\n",
      "  File \"C:\\Users\\AKSHAYA\\Anaconda3\\lib\\site-packages\\sklearn\\tree\\_classes.py\", line 308, in fit\n",
      "    raise ValueError(\"max_features must be in (0, n_features]\")\n",
      "ValueError: max_features must be in (0, n_features]\n",
      "\n",
      "--------------------------------------------------------------------------------\n",
      "40 fits failed with the following error:\n",
      "Traceback (most recent call last):\n",
      "  File \"C:\\Users\\AKSHAYA\\Anaconda3\\lib\\site-packages\\sklearn\\model_selection\\_validation.py\", line 680, in _fit_and_score\n",
      "    estimator.fit(X_train, y_train, **fit_params)\n",
      "  File \"C:\\Users\\AKSHAYA\\Anaconda3\\lib\\site-packages\\sklearn\\pipeline.py\", line 394, in fit\n",
      "    self._final_estimator.fit(Xt, y, **fit_params_last_step)\n",
      "  File \"C:\\Users\\AKSHAYA\\Anaconda3\\lib\\site-packages\\sklearn\\ensemble\\_forest.py\", line 411, in fit\n",
      "    raise ValueError(\"Out of bag estimation only available if bootstrap=True\")\n",
      "ValueError: Out of bag estimation only available if bootstrap=True\n",
      "\n",
      "  warnings.warn(some_fits_failed_message, FitFailedWarning)\n",
      "C:\\Users\\AKSHAYA\\Anaconda3\\lib\\site-packages\\sklearn\\model_selection\\_search.py:969: UserWarning: One or more of the test scores are non-finite: [0.2534907  0.25532879 0.25489775 0.25445274        nan        nan\n",
      "        nan        nan        nan        nan        nan        nan\n",
      "        nan        nan        nan        nan]\n",
      "  warnings.warn(\n"
     ]
    },
    {
     "name": "stdout",
     "output_type": "stream",
     "text": [
      "Training set score: 0.8982089972819403\n",
      "Test set score: -0.028043618971073547\n",
      "MAE: 0.5971871460761405\n",
      "MSE: 0.5860171036369738\n",
      "RMSE: 0.7655175397317646\n",
      "r2: -0.028043618971073547\n",
      "{'rf__bootstrap': True, 'rf__max_features': 1, 'rf__n_estimators': 100, 'rf__oob_score': True}\n",
      "Pipeline(steps=[('scaler', StandardScaler()),\n",
      "                ('rf', RandomForestRegressor(max_features=1, oob_score=True))])\n"
     ]
    },
    {
     "data": {
      "text/html": [
       "<div>\n",
       "<style scoped>\n",
       "    .dataframe tbody tr th:only-of-type {\n",
       "        vertical-align: middle;\n",
       "    }\n",
       "\n",
       "    .dataframe tbody tr th {\n",
       "        vertical-align: top;\n",
       "    }\n",
       "\n",
       "    .dataframe thead th {\n",
       "        text-align: right;\n",
       "    }\n",
       "</style>\n",
       "<table border=\"1\" class=\"dataframe\">\n",
       "  <thead>\n",
       "    <tr style=\"text-align: right;\">\n",
       "      <th></th>\n",
       "      <th>rf__bootstrap</th>\n",
       "      <th>rf__max_features</th>\n",
       "      <th>rf__n_estimators</th>\n",
       "      <th>rf__oob_score</th>\n",
       "      <th>r2_score</th>\n",
       "    </tr>\n",
       "  </thead>\n",
       "  <tbody>\n",
       "    <tr>\n",
       "      <th>RF_SUMMER_pc</th>\n",
       "      <td>True</td>\n",
       "      <td>1</td>\n",
       "      <td>100</td>\n",
       "      <td>True</td>\n",
       "      <td>-0.028044</td>\n",
       "    </tr>\n",
       "  </tbody>\n",
       "</table>\n",
       "</div>"
      ],
      "text/plain": [
       "             rf__bootstrap rf__max_features rf__n_estimators rf__oob_score  \\\n",
       "RF_SUMMER_pc          True                1              100          True   \n",
       "\n",
       "              r2_score  \n",
       "RF_SUMMER_pc -0.028044  "
      ]
     },
     "execution_count": 33,
     "metadata": {},
     "output_type": "execute_result"
    },
    {
     "data": {
      "text/plain": [
       "<Figure size 900x600 with 0 Axes>"
      ]
     },
     "metadata": {},
     "output_type": "display_data"
    },
    {
     "data": {
      "image/png": "[encoded data removed]",
      "text/plain": [
       "<Figure size 432x288 with 1 Axes>"
      ]
     },
     "metadata": {
      "needs_background": "light"
     },
     "output_type": "display_data"
    }
   ],
   "source": [
    "X = df_Summer[['c_mean']]\n",
    "y = df_Summer['p_mean']\n",
    "\n",
    "file_dir = os.path.join(os.getcwd(), \"SVR_RF_npc\")\n",
    "file_name = \"RF_SUMMER_pc.pkl\"\n",
    "\n",
    "RF_SUMMER_pc_best_params_df = rf(X=X,y=y,test_size=0.10,file_dir=file_dir,file_name=file_name)\n",
    "RF_SUMMER_pc_best_params_df"
   ]
  },
  {
   "cell_type": "markdown",
   "id": "e30969ec",
   "metadata": {},
   "source": [
    "# WINTER Nitrogin-Chlorophyll"
   ]
  },
  {
   "cell_type": "code",
   "execution_count": 34,
   "id": "bc99de1b",
   "metadata": {},
   "outputs": [
    {
     "name": "stdout",
     "output_type": "stream",
     "text": [
      "(320, 1) (320,)\n",
      "(36, 1) (36,)\n"
     ]
    },
    {
     "name": "stderr",
     "output_type": "stream",
     "text": [
      "C:\\Users\\AKSHAYA\\Anaconda3\\lib\\site-packages\\sklearn\\model_selection\\_validation.py:372: FitFailedWarning: \n",
      "60 fits failed out of a total of 80.\n",
      "The score on these train-test partitions for these parameters will be set to nan.\n",
      "If these failures are not expected, you can try to debug them by setting error_score='raise'.\n",
      "\n",
      "Below are more details about the failures:\n",
      "--------------------------------------------------------------------------------\n",
      "20 fits failed with the following error:\n",
      "Traceback (most recent call last):\n",
      "  File \"C:\\Users\\AKSHAYA\\Anaconda3\\lib\\site-packages\\sklearn\\model_selection\\_validation.py\", line 680, in _fit_and_score\n",
      "    estimator.fit(X_train, y_train, **fit_params)\n",
      "  File \"C:\\Users\\AKSHAYA\\Anaconda3\\lib\\site-packages\\sklearn\\pipeline.py\", line 394, in fit\n",
      "    self._final_estimator.fit(Xt, y, **fit_params_last_step)\n",
      "  File \"C:\\Users\\AKSHAYA\\Anaconda3\\lib\\site-packages\\sklearn\\ensemble\\_forest.py\", line 450, in fit\n",
      "    trees = Parallel(\n",
      "  File \"C:\\Users\\AKSHAYA\\Anaconda3\\lib\\site-packages\\joblib\\parallel.py\", line 1043, in __call__\n",
      "    if self.dispatch_one_batch(iterator):\n",
      "  File \"C:\\Users\\AKSHAYA\\Anaconda3\\lib\\site-packages\\joblib\\parallel.py\", line 861, in dispatch_one_batch\n",
      "    self._dispatch(tasks)\n",
      "  File \"C:\\Users\\AKSHAYA\\Anaconda3\\lib\\site-packages\\joblib\\parallel.py\", line 779, in _dispatch\n",
      "    job = self._backend.apply_async(batch, callback=cb)\n",
      "  File \"C:\\Users\\AKSHAYA\\Anaconda3\\lib\\site-packages\\joblib\\_parallel_backends.py\", line 208, in apply_async\n",
      "    result = ImmediateResult(func)\n",
      "  File \"C:\\Users\\AKSHAYA\\Anaconda3\\lib\\site-packages\\joblib\\_parallel_backends.py\", line 572, in __init__\n",
      "    self.results = batch()\n",
      "  File \"C:\\Users\\AKSHAYA\\Anaconda3\\lib\\site-packages\\joblib\\parallel.py\", line 262, in __call__\n",
      "    return [func(*args, **kwargs)\n",
      "  File \"C:\\Users\\AKSHAYA\\Anaconda3\\lib\\site-packages\\joblib\\parallel.py\", line 262, in <listcomp>\n",
      "    return [func(*args, **kwargs)\n",
      "  File \"C:\\Users\\AKSHAYA\\Anaconda3\\lib\\site-packages\\sklearn\\utils\\fixes.py\", line 216, in __call__\n",
      "    return self.function(*args, **kwargs)\n",
      "  File \"C:\\Users\\AKSHAYA\\Anaconda3\\lib\\site-packages\\sklearn\\ensemble\\_forest.py\", line 185, in _parallel_build_trees\n",
      "    tree.fit(X, y, sample_weight=curr_sample_weight, check_input=False)\n",
      "  File \"C:\\Users\\AKSHAYA\\Anaconda3\\lib\\site-packages\\sklearn\\tree\\_classes.py\", line 1315, in fit\n",
      "    super().fit(\n",
      "  File \"C:\\Users\\AKSHAYA\\Anaconda3\\lib\\site-packages\\sklearn\\tree\\_classes.py\", line 308, in fit\n",
      "    raise ValueError(\"max_features must be in (0, n_features]\")\n",
      "ValueError: max_features must be in (0, n_features]\n",
      "\n",
      "--------------------------------------------------------------------------------\n",
      "40 fits failed with the following error:\n",
      "Traceback (most recent call last):\n",
      "  File \"C:\\Users\\AKSHAYA\\Anaconda3\\lib\\site-packages\\sklearn\\model_selection\\_validation.py\", line 680, in _fit_and_score\n",
      "    estimator.fit(X_train, y_train, **fit_params)\n",
      "  File \"C:\\Users\\AKSHAYA\\Anaconda3\\lib\\site-packages\\sklearn\\pipeline.py\", line 394, in fit\n",
      "    self._final_estimator.fit(Xt, y, **fit_params_last_step)\n",
      "  File \"C:\\Users\\AKSHAYA\\Anaconda3\\lib\\site-packages\\sklearn\\ensemble\\_forest.py\", line 411, in fit\n",
      "    raise ValueError(\"Out of bag estimation only available if bootstrap=True\")\n",
      "ValueError: Out of bag estimation only available if bootstrap=True\n",
      "\n",
      "  warnings.warn(some_fits_failed_message, FitFailedWarning)\n",
      "C:\\Users\\AKSHAYA\\Anaconda3\\lib\\site-packages\\sklearn\\model_selection\\_search.py:969: UserWarning: One or more of the test scores are non-finite: [0.2398684  0.2168111  0.21819016 0.22556853        nan        nan\n",
      "        nan        nan        nan        nan        nan        nan\n",
      "        nan        nan        nan        nan]\n",
      "  warnings.warn(\n"
     ]
    },
    {
     "name": "stdout",
     "output_type": "stream",
     "text": [
      "Training set score: 0.9035295869430447\n",
      "Test set score: 0.14277062900787518\n",
      "MAE: 4.721417896412033\n",
      "MSE: 75.31927495363107\n",
      "RMSE: 8.678667809844496\n",
      "r2: 0.14277062900787518\n",
      "{'rf__bootstrap': True, 'rf__max_features': 1, 'rf__n_estimators': 64, 'rf__oob_score': True}\n",
      "Pipeline(steps=[('scaler', StandardScaler()),\n",
      "                ('rf',\n",
      "                 RandomForestRegressor(max_features=1, n_estimators=64,\n",
      "                                       oob_score=True))])\n"
     ]
    },
    {
     "data": {
      "text/html": [
       "<div>\n",
       "<style scoped>\n",
       "    .dataframe tbody tr th:only-of-type {\n",
       "        vertical-align: middle;\n",
       "    }\n",
       "\n",
       "    .dataframe tbody tr th {\n",
       "        vertical-align: top;\n",
       "    }\n",
       "\n",
       "    .dataframe thead th {\n",
       "        text-align: right;\n",
       "    }\n",
       "</style>\n",
       "<table border=\"1\" class=\"dataframe\">\n",
       "  <thead>\n",
       "    <tr style=\"text-align: right;\">\n",
       "      <th></th>\n",
       "      <th>rf__bootstrap</th>\n",
       "      <th>rf__max_features</th>\n",
       "      <th>rf__n_estimators</th>\n",
       "      <th>rf__oob_score</th>\n",
       "      <th>r2_score</th>\n",
       "    </tr>\n",
       "  </thead>\n",
       "  <tbody>\n",
       "    <tr>\n",
       "      <th>RF_WINTER_nc</th>\n",
       "      <td>True</td>\n",
       "      <td>1</td>\n",
       "      <td>64</td>\n",
       "      <td>True</td>\n",
       "      <td>0.142771</td>\n",
       "    </tr>\n",
       "  </tbody>\n",
       "</table>\n",
       "</div>"
      ],
      "text/plain": [
       "             rf__bootstrap rf__max_features rf__n_estimators rf__oob_score  \\\n",
       "RF_WINTER_nc          True                1               64          True   \n",
       "\n",
       "              r2_score  \n",
       "RF_WINTER_nc  0.142771  "
      ]
     },
     "execution_count": 34,
     "metadata": {},
     "output_type": "execute_result"
    },
    {
     "data": {
      "text/plain": [
       "<Figure size 900x600 with 0 Axes>"
      ]
     },
     "metadata": {},
     "output_type": "display_data"
    },
    {
     "data": {
      "image/png": "[encoded data removed]",
      "text/plain": [
       "<Figure size 432x288 with 1 Axes>"
      ]
     },
     "metadata": {
      "needs_background": "light"
     },
     "output_type": "display_data"
    }
   ],
   "source": [
    "X = df_Winter[['c_mean']]\n",
    "y = df_Winter['n_mean']\n",
    "\n",
    "file_dir = os.path.join(os.getcwd(), \"SVR_RF_npc\")\n",
    "file_name = \"RF_WINTER_nc.pkl\"\n",
    "\n",
    "RF_WINTER_nc_best_params_df = rf(X=X,y=y,test_size=0.10,file_dir=file_dir,file_name=file_name)\n",
    "RF_WINTER_nc_best_params_df"
   ]
  },
  {
   "cell_type": "markdown",
   "id": "660b7f8d",
   "metadata": {},
   "source": [
    "# WINTER Phosphate-Chlorophyll"
   ]
  },
  {
   "cell_type": "code",
   "execution_count": 35,
   "id": "e34718fd",
   "metadata": {},
   "outputs": [
    {
     "name": "stdout",
     "output_type": "stream",
     "text": [
      "(320, 1) (320,)\n",
      "(36, 1) (36,)\n"
     ]
    },
    {
     "name": "stderr",
     "output_type": "stream",
     "text": [
      "C:\\Users\\AKSHAYA\\Anaconda3\\lib\\site-packages\\sklearn\\model_selection\\_validation.py:372: FitFailedWarning: \n",
      "60 fits failed out of a total of 80.\n",
      "The score on these train-test partitions for these parameters will be set to nan.\n",
      "If these failures are not expected, you can try to debug them by setting error_score='raise'.\n",
      "\n",
      "Below are more details about the failures:\n",
      "--------------------------------------------------------------------------------\n",
      "20 fits failed with the following error:\n",
      "Traceback (most recent call last):\n",
      "  File \"C:\\Users\\AKSHAYA\\Anaconda3\\lib\\site-packages\\sklearn\\model_selection\\_validation.py\", line 680, in _fit_and_score\n",
      "    estimator.fit(X_train, y_train, **fit_params)\n",
      "  File \"C:\\Users\\AKSHAYA\\Anaconda3\\lib\\site-packages\\sklearn\\pipeline.py\", line 394, in fit\n",
      "    self._final_estimator.fit(Xt, y, **fit_params_last_step)\n",
      "  File \"C:\\Users\\AKSHAYA\\Anaconda3\\lib\\site-packages\\sklearn\\ensemble\\_forest.py\", line 450, in fit\n",
      "    trees = Parallel(\n",
      "  File \"C:\\Users\\AKSHAYA\\Anaconda3\\lib\\site-packages\\joblib\\parallel.py\", line 1043, in __call__\n",
      "    if self.dispatch_one_batch(iterator):\n",
      "  File \"C:\\Users\\AKSHAYA\\Anaconda3\\lib\\site-packages\\joblib\\parallel.py\", line 861, in dispatch_one_batch\n",
      "    self._dispatch(tasks)\n",
      "  File \"C:\\Users\\AKSHAYA\\Anaconda3\\lib\\site-packages\\joblib\\parallel.py\", line 779, in _dispatch\n",
      "    job = self._backend.apply_async(batch, callback=cb)\n",
      "  File \"C:\\Users\\AKSHAYA\\Anaconda3\\lib\\site-packages\\joblib\\_parallel_backends.py\", line 208, in apply_async\n",
      "    result = ImmediateResult(func)\n",
      "  File \"C:\\Users\\AKSHAYA\\Anaconda3\\lib\\site-packages\\joblib\\_parallel_backends.py\", line 572, in __init__\n",
      "    self.results = batch()\n",
      "  File \"C:\\Users\\AKSHAYA\\Anaconda3\\lib\\site-packages\\joblib\\parallel.py\", line 262, in __call__\n",
      "    return [func(*args, **kwargs)\n",
      "  File \"C:\\Users\\AKSHAYA\\Anaconda3\\lib\\site-packages\\joblib\\parallel.py\", line 262, in <listcomp>\n",
      "    return [func(*args, **kwargs)\n",
      "  File \"C:\\Users\\AKSHAYA\\Anaconda3\\lib\\site-packages\\sklearn\\utils\\fixes.py\", line 216, in __call__\n",
      "    return self.function(*args, **kwargs)\n",
      "  File \"C:\\Users\\AKSHAYA\\Anaconda3\\lib\\site-packages\\sklearn\\ensemble\\_forest.py\", line 185, in _parallel_build_trees\n",
      "    tree.fit(X, y, sample_weight=curr_sample_weight, check_input=False)\n",
      "  File \"C:\\Users\\AKSHAYA\\Anaconda3\\lib\\site-packages\\sklearn\\tree\\_classes.py\", line 1315, in fit\n",
      "    super().fit(\n",
      "  File \"C:\\Users\\AKSHAYA\\Anaconda3\\lib\\site-packages\\sklearn\\tree\\_classes.py\", line 308, in fit\n",
      "    raise ValueError(\"max_features must be in (0, n_features]\")\n",
      "ValueError: max_features must be in (0, n_features]\n",
      "\n",
      "--------------------------------------------------------------------------------\n",
      "40 fits failed with the following error:\n",
      "Traceback (most recent call last):\n",
      "  File \"C:\\Users\\AKSHAYA\\Anaconda3\\lib\\site-packages\\sklearn\\model_selection\\_validation.py\", line 680, in _fit_and_score\n",
      "    estimator.fit(X_train, y_train, **fit_params)\n",
      "  File \"C:\\Users\\AKSHAYA\\Anaconda3\\lib\\site-packages\\sklearn\\pipeline.py\", line 394, in fit\n",
      "    self._final_estimator.fit(Xt, y, **fit_params_last_step)\n",
      "  File \"C:\\Users\\AKSHAYA\\Anaconda3\\lib\\site-packages\\sklearn\\ensemble\\_forest.py\", line 411, in fit\n",
      "    raise ValueError(\"Out of bag estimation only available if bootstrap=True\")\n",
      "ValueError: Out of bag estimation only available if bootstrap=True\n",
      "\n",
      "  warnings.warn(some_fits_failed_message, FitFailedWarning)\n",
      "C:\\Users\\AKSHAYA\\Anaconda3\\lib\\site-packages\\sklearn\\model_selection\\_search.py:969: UserWarning: One or more of the test scores are non-finite: [-0.14835281 -0.14762728 -0.14622461 -0.14189945         nan         nan\n",
      "         nan         nan         nan         nan         nan         nan\n",
      "         nan         nan         nan         nan]\n",
      "  warnings.warn(\n"
     ]
    },
    {
     "name": "stdout",
     "output_type": "stream",
     "text": [
      "Training set score: 0.8546301780983303\n",
      "Test set score: -0.18040314306024618\n",
      "MAE: 0.43815194444444533\n",
      "MSE: 0.44107601836874966\n",
      "RMSE: 0.664135542166469\n",
      "r2: -0.18040314306024618\n",
      "{'rf__bootstrap': True, 'rf__max_features': 1, 'rf__n_estimators': 200, 'rf__oob_score': True}\n",
      "Pipeline(steps=[('scaler', StandardScaler()),\n",
      "                ('rf',\n",
      "                 RandomForestRegressor(max_features=1, n_estimators=200,\n",
      "                                       oob_score=True))])\n"
     ]
    },
    {
     "data": {
      "text/html": [
       "<div>\n",
       "<style scoped>\n",
       "    .dataframe tbody tr th:only-of-type {\n",
       "        vertical-align: middle;\n",
       "    }\n",
       "\n",
       "    .dataframe tbody tr th {\n",
       "        vertical-align: top;\n",
       "    }\n",
       "\n",
       "    .dataframe thead th {\n",
       "        text-align: right;\n",
       "    }\n",
       "</style>\n",
       "<table border=\"1\" class=\"dataframe\">\n",
       "  <thead>\n",
       "    <tr style=\"text-align: right;\">\n",
       "      <th></th>\n",
       "      <th>rf__bootstrap</th>\n",
       "      <th>rf__max_features</th>\n",
       "      <th>rf__n_estimators</th>\n",
       "      <th>rf__oob_score</th>\n",
       "      <th>r2_score</th>\n",
       "    </tr>\n",
       "  </thead>\n",
       "  <tbody>\n",
       "    <tr>\n",
       "      <th>RF_WINTER_pc</th>\n",
       "      <td>True</td>\n",
       "      <td>1</td>\n",
       "      <td>200</td>\n",
       "      <td>True</td>\n",
       "      <td>-0.180403</td>\n",
       "    </tr>\n",
       "  </tbody>\n",
       "</table>\n",
       "</div>"
      ],
      "text/plain": [
       "             rf__bootstrap rf__max_features rf__n_estimators rf__oob_score  \\\n",
       "RF_WINTER_pc          True                1              200          True   \n",
       "\n",
       "              r2_score  \n",
       "RF_WINTER_pc -0.180403  "
      ]
     },
     "execution_count": 35,
     "metadata": {},
     "output_type": "execute_result"
    },
    {
     "data": {
      "text/plain": [
       "<Figure size 900x600 with 0 Axes>"
      ]
     },
     "metadata": {},
     "output_type": "display_data"
    },
    {
     "data": {
      "image/png": "[encoded data removed]",
      "text/plain": [
       "<Figure size 432x288 with 1 Axes>"
      ]
     },
     "metadata": {
      "needs_background": "light"
     },
     "output_type": "display_data"
    }
   ],
   "source": [
    "X = df_Winter[['c_mean']]\n",
    "y = df_Winter['p_mean']\n",
    "\n",
    "file_dir = os.path.join(os.getcwd(), \"SVR_RF_npc\")\n",
    "file_name = \"RF_WINTER_pc.pkl\"\n",
    "\n",
    "RF_WINTER_pc_best_params_df = rf(X=X,y=y,test_size=0.10,file_dir=file_dir,file_name=file_name)\n",
    "RF_WINTER_pc_best_params_df"
   ]
  },
  {
   "cell_type": "markdown",
   "id": "43613bbb",
   "metadata": {},
   "source": [
    "# SW Nitrogin-Chlorophyll"
   ]
  },
  {
   "cell_type": "code",
   "execution_count": 36,
   "id": "9c38a49f",
   "metadata": {},
   "outputs": [
    {
     "name": "stdout",
     "output_type": "stream",
     "text": [
      "(658, 1) (658,)\n",
      "(74, 1) (74,)\n"
     ]
    },
    {
     "name": "stderr",
     "output_type": "stream",
     "text": [
      "C:\\Users\\AKSHAYA\\Anaconda3\\lib\\site-packages\\sklearn\\model_selection\\_validation.py:372: FitFailedWarning: \n",
      "60 fits failed out of a total of 80.\n",
      "The score on these train-test partitions for these parameters will be set to nan.\n",
      "If these failures are not expected, you can try to debug them by setting error_score='raise'.\n",
      "\n",
      "Below are more details about the failures:\n",
      "--------------------------------------------------------------------------------\n",
      "20 fits failed with the following error:\n",
      "Traceback (most recent call last):\n",
      "  File \"C:\\Users\\AKSHAYA\\Anaconda3\\lib\\site-packages\\sklearn\\model_selection\\_validation.py\", line 680, in _fit_and_score\n",
      "    estimator.fit(X_train, y_train, **fit_params)\n",
      "  File \"C:\\Users\\AKSHAYA\\Anaconda3\\lib\\site-packages\\sklearn\\pipeline.py\", line 394, in fit\n",
      "    self._final_estimator.fit(Xt, y, **fit_params_last_step)\n",
      "  File \"C:\\Users\\AKSHAYA\\Anaconda3\\lib\\site-packages\\sklearn\\ensemble\\_forest.py\", line 450, in fit\n",
      "    trees = Parallel(\n",
      "  File \"C:\\Users\\AKSHAYA\\Anaconda3\\lib\\site-packages\\joblib\\parallel.py\", line 1043, in __call__\n",
      "    if self.dispatch_one_batch(iterator):\n",
      "  File \"C:\\Users\\AKSHAYA\\Anaconda3\\lib\\site-packages\\joblib\\parallel.py\", line 861, in dispatch_one_batch\n",
      "    self._dispatch(tasks)\n",
      "  File \"C:\\Users\\AKSHAYA\\Anaconda3\\lib\\site-packages\\joblib\\parallel.py\", line 779, in _dispatch\n",
      "    job = self._backend.apply_async(batch, callback=cb)\n",
      "  File \"C:\\Users\\AKSHAYA\\Anaconda3\\lib\\site-packages\\joblib\\_parallel_backends.py\", line 208, in apply_async\n",
      "    result = ImmediateResult(func)\n",
      "  File \"C:\\Users\\AKSHAYA\\Anaconda3\\lib\\site-packages\\joblib\\_parallel_backends.py\", line 572, in __init__\n",
      "    self.results = batch()\n",
      "  File \"C:\\Users\\AKSHAYA\\Anaconda3\\lib\\site-packages\\joblib\\parallel.py\", line 262, in __call__\n",
      "    return [func(*args, **kwargs)\n",
      "  File \"C:\\Users\\AKSHAYA\\Anaconda3\\lib\\site-packages\\joblib\\parallel.py\", line 262, in <listcomp>\n",
      "    return [func(*args, **kwargs)\n",
      "  File \"C:\\Users\\AKSHAYA\\Anaconda3\\lib\\site-packages\\sklearn\\utils\\fixes.py\", line 216, in __call__\n",
      "    return self.function(*args, **kwargs)\n",
      "  File \"C:\\Users\\AKSHAYA\\Anaconda3\\lib\\site-packages\\sklearn\\ensemble\\_forest.py\", line 185, in _parallel_build_trees\n",
      "    tree.fit(X, y, sample_weight=curr_sample_weight, check_input=False)\n",
      "  File \"C:\\Users\\AKSHAYA\\Anaconda3\\lib\\site-packages\\sklearn\\tree\\_classes.py\", line 1315, in fit\n",
      "    super().fit(\n",
      "  File \"C:\\Users\\AKSHAYA\\Anaconda3\\lib\\site-packages\\sklearn\\tree\\_classes.py\", line 308, in fit\n",
      "    raise ValueError(\"max_features must be in (0, n_features]\")\n",
      "ValueError: max_features must be in (0, n_features]\n",
      "\n",
      "--------------------------------------------------------------------------------\n",
      "40 fits failed with the following error:\n",
      "Traceback (most recent call last):\n",
      "  File \"C:\\Users\\AKSHAYA\\Anaconda3\\lib\\site-packages\\sklearn\\model_selection\\_validation.py\", line 680, in _fit_and_score\n",
      "    estimator.fit(X_train, y_train, **fit_params)\n",
      "  File \"C:\\Users\\AKSHAYA\\Anaconda3\\lib\\site-packages\\sklearn\\pipeline.py\", line 394, in fit\n",
      "    self._final_estimator.fit(Xt, y, **fit_params_last_step)\n",
      "  File \"C:\\Users\\AKSHAYA\\Anaconda3\\lib\\site-packages\\sklearn\\ensemble\\_forest.py\", line 411, in fit\n",
      "    raise ValueError(\"Out of bag estimation only available if bootstrap=True\")\n",
      "ValueError: Out of bag estimation only available if bootstrap=True\n",
      "\n",
      "  warnings.warn(some_fits_failed_message, FitFailedWarning)\n",
      "C:\\Users\\AKSHAYA\\Anaconda3\\lib\\site-packages\\sklearn\\model_selection\\_search.py:969: UserWarning: One or more of the test scores are non-finite: [0.18332002 0.19115932 0.1743379  0.1997436         nan        nan\n",
      "        nan        nan        nan        nan        nan        nan\n",
      "        nan        nan        nan        nan]\n",
      "  warnings.warn(\n"
     ]
    },
    {
     "name": "stdout",
     "output_type": "stream",
     "text": [
      "Training set score: 0.8816735799610788\n",
      "Test set score: 0.1573057886762531\n",
      "MAE: 4.898896982481305\n",
      "MSE: 41.256283098142305\n",
      "RMSE: 6.423105409234875\n",
      "r2: 0.1573057886762531\n",
      "{'rf__bootstrap': True, 'rf__max_features': 1, 'rf__n_estimators': 200, 'rf__oob_score': True}\n",
      "Pipeline(steps=[('scaler', StandardScaler()),\n",
      "                ('rf',\n",
      "                 RandomForestRegressor(max_features=1, n_estimators=200,\n",
      "                                       oob_score=True))])\n"
     ]
    },
    {
     "data": {
      "text/html": [
       "<div>\n",
       "<style scoped>\n",
       "    .dataframe tbody tr th:only-of-type {\n",
       "        vertical-align: middle;\n",
       "    }\n",
       "\n",
       "    .dataframe tbody tr th {\n",
       "        vertical-align: top;\n",
       "    }\n",
       "\n",
       "    .dataframe thead th {\n",
       "        text-align: right;\n",
       "    }\n",
       "</style>\n",
       "<table border=\"1\" class=\"dataframe\">\n",
       "  <thead>\n",
       "    <tr style=\"text-align: right;\">\n",
       "      <th></th>\n",
       "      <th>rf__bootstrap</th>\n",
       "      <th>rf__max_features</th>\n",
       "      <th>rf__n_estimators</th>\n",
       "      <th>rf__oob_score</th>\n",
       "      <th>r2_score</th>\n",
       "    </tr>\n",
       "  </thead>\n",
       "  <tbody>\n",
       "    <tr>\n",
       "      <th>RF_SW_nc</th>\n",
       "      <td>True</td>\n",
       "      <td>1</td>\n",
       "      <td>200</td>\n",
       "      <td>True</td>\n",
       "      <td>0.157306</td>\n",
       "    </tr>\n",
       "  </tbody>\n",
       "</table>\n",
       "</div>"
      ],
      "text/plain": [
       "         rf__bootstrap rf__max_features rf__n_estimators rf__oob_score  \\\n",
       "RF_SW_nc          True                1              200          True   \n",
       "\n",
       "          r2_score  \n",
       "RF_SW_nc  0.157306  "
      ]
     },
     "execution_count": 36,
     "metadata": {},
     "output_type": "execute_result"
    },
    {
     "data": {
      "text/plain": [
       "<Figure size 900x600 with 0 Axes>"
      ]
     },
     "metadata": {},
     "output_type": "display_data"
    },
    {
     "data": {
      "image/png": "[encoded data removed]",
      "text/plain": [
       "<Figure size 432x288 with 1 Axes>"
      ]
     },
     "metadata": {
      "needs_background": "light"
     },
     "output_type": "display_data"
    }
   ],
   "source": [
    "X = df_SW[['c_mean']]\n",
    "y = df_SW['n_mean']\n",
    "\n",
    "file_dir = os.path.join(os.getcwd(), \"SVR_RF_npc\")\n",
    "file_name = \"RF_SW_nc.pkl\"\n",
    "\n",
    "RF_SW_nc_best_params_df = rf(X=X,y=y,test_size=0.10,file_dir=file_dir,file_name=file_name)\n",
    "RF_SW_nc_best_params_df"
   ]
  },
  {
   "cell_type": "markdown",
   "id": "704d8ae2",
   "metadata": {},
   "source": [
    "# SW Phosphate-Chlorophyll"
   ]
  },
  {
   "cell_type": "code",
   "execution_count": 37,
   "id": "a4611fdc",
   "metadata": {},
   "outputs": [
    {
     "name": "stdout",
     "output_type": "stream",
     "text": [
      "(658, 1) (658,)\n",
      "(74, 1) (74,)\n"
     ]
    },
    {
     "name": "stderr",
     "output_type": "stream",
     "text": [
      "C:\\Users\\AKSHAYA\\Anaconda3\\lib\\site-packages\\sklearn\\model_selection\\_validation.py:372: FitFailedWarning: \n",
      "60 fits failed out of a total of 80.\n",
      "The score on these train-test partitions for these parameters will be set to nan.\n",
      "If these failures are not expected, you can try to debug them by setting error_score='raise'.\n",
      "\n",
      "Below are more details about the failures:\n",
      "--------------------------------------------------------------------------------\n",
      "20 fits failed with the following error:\n",
      "Traceback (most recent call last):\n",
      "  File \"C:\\Users\\AKSHAYA\\Anaconda3\\lib\\site-packages\\sklearn\\model_selection\\_validation.py\", line 680, in _fit_and_score\n",
      "    estimator.fit(X_train, y_train, **fit_params)\n",
      "  File \"C:\\Users\\AKSHAYA\\Anaconda3\\lib\\site-packages\\sklearn\\pipeline.py\", line 394, in fit\n",
      "    self._final_estimator.fit(Xt, y, **fit_params_last_step)\n",
      "  File \"C:\\Users\\AKSHAYA\\Anaconda3\\lib\\site-packages\\sklearn\\ensemble\\_forest.py\", line 450, in fit\n",
      "    trees = Parallel(\n",
      "  File \"C:\\Users\\AKSHAYA\\Anaconda3\\lib\\site-packages\\joblib\\parallel.py\", line 1043, in __call__\n",
      "    if self.dispatch_one_batch(iterator):\n",
      "  File \"C:\\Users\\AKSHAYA\\Anaconda3\\lib\\site-packages\\joblib\\parallel.py\", line 861, in dispatch_one_batch\n",
      "    self._dispatch(tasks)\n",
      "  File \"C:\\Users\\AKSHAYA\\Anaconda3\\lib\\site-packages\\joblib\\parallel.py\", line 779, in _dispatch\n",
      "    job = self._backend.apply_async(batch, callback=cb)\n",
      "  File \"C:\\Users\\AKSHAYA\\Anaconda3\\lib\\site-packages\\joblib\\_parallel_backends.py\", line 208, in apply_async\n",
      "    result = ImmediateResult(func)\n",
      "  File \"C:\\Users\\AKSHAYA\\Anaconda3\\lib\\site-packages\\joblib\\_parallel_backends.py\", line 572, in __init__\n",
      "    self.results = batch()\n",
      "  File \"C:\\Users\\AKSHAYA\\Anaconda3\\lib\\site-packages\\joblib\\parallel.py\", line 262, in __call__\n",
      "    return [func(*args, **kwargs)\n",
      "  File \"C:\\Users\\AKSHAYA\\Anaconda3\\lib\\site-packages\\joblib\\parallel.py\", line 262, in <listcomp>\n",
      "    return [func(*args, **kwargs)\n",
      "  File \"C:\\Users\\AKSHAYA\\Anaconda3\\lib\\site-packages\\sklearn\\utils\\fixes.py\", line 216, in __call__\n",
      "    return self.function(*args, **kwargs)\n",
      "  File \"C:\\Users\\AKSHAYA\\Anaconda3\\lib\\site-packages\\sklearn\\ensemble\\_forest.py\", line 185, in _parallel_build_trees\n",
      "    tree.fit(X, y, sample_weight=curr_sample_weight, check_input=False)\n",
      "  File \"C:\\Users\\AKSHAYA\\Anaconda3\\lib\\site-packages\\sklearn\\tree\\_classes.py\", line 1315, in fit\n",
      "    super().fit(\n",
      "  File \"C:\\Users\\AKSHAYA\\Anaconda3\\lib\\site-packages\\sklearn\\tree\\_classes.py\", line 308, in fit\n",
      "    raise ValueError(\"max_features must be in (0, n_features]\")\n",
      "ValueError: max_features must be in (0, n_features]\n",
      "\n",
      "--------------------------------------------------------------------------------\n",
      "40 fits failed with the following error:\n",
      "Traceback (most recent call last):\n",
      "  File \"C:\\Users\\AKSHAYA\\Anaconda3\\lib\\site-packages\\sklearn\\model_selection\\_validation.py\", line 680, in _fit_and_score\n",
      "    estimator.fit(X_train, y_train, **fit_params)\n",
      "  File \"C:\\Users\\AKSHAYA\\Anaconda3\\lib\\site-packages\\sklearn\\pipeline.py\", line 394, in fit\n",
      "    self._final_estimator.fit(Xt, y, **fit_params_last_step)\n",
      "  File \"C:\\Users\\AKSHAYA\\Anaconda3\\lib\\site-packages\\sklearn\\ensemble\\_forest.py\", line 411, in fit\n",
      "    raise ValueError(\"Out of bag estimation only available if bootstrap=True\")\n",
      "ValueError: Out of bag estimation only available if bootstrap=True\n",
      "\n",
      "  warnings.warn(some_fits_failed_message, FitFailedWarning)\n",
      "C:\\Users\\AKSHAYA\\Anaconda3\\lib\\site-packages\\sklearn\\model_selection\\_search.py:969: UserWarning: One or more of the test scores are non-finite: [0.57846096 0.57905594 0.57656863 0.57581626        nan        nan\n",
      "        nan        nan        nan        nan        nan        nan\n",
      "        nan        nan        nan        nan]\n",
      "  warnings.warn(\n"
     ]
    },
    {
     "name": "stdout",
     "output_type": "stream",
     "text": [
      "Training set score: 0.9373194027721492\n",
      "Test set score: 0.5797338727558712\n",
      "MAE: 0.32078197182713974\n",
      "MSE: 0.1766232303307537\n",
      "RMSE: 0.4202656663715866\n",
      "r2: 0.5797338727558712\n",
      "{'rf__bootstrap': True, 'rf__max_features': 1, 'rf__n_estimators': 100, 'rf__oob_score': True}\n",
      "Pipeline(steps=[('scaler', StandardScaler()),\n",
      "                ('rf', RandomForestRegressor(max_features=1, oob_score=True))])\n"
     ]
    },
    {
     "data": {
      "text/html": [
       "<div>\n",
       "<style scoped>\n",
       "    .dataframe tbody tr th:only-of-type {\n",
       "        vertical-align: middle;\n",
       "    }\n",
       "\n",
       "    .dataframe tbody tr th {\n",
       "        vertical-align: top;\n",
       "    }\n",
       "\n",
       "    .dataframe thead th {\n",
       "        text-align: right;\n",
       "    }\n",
       "</style>\n",
       "<table border=\"1\" class=\"dataframe\">\n",
       "  <thead>\n",
       "    <tr style=\"text-align: right;\">\n",
       "      <th></th>\n",
       "      <th>rf__bootstrap</th>\n",
       "      <th>rf__max_features</th>\n",
       "      <th>rf__n_estimators</th>\n",
       "      <th>rf__oob_score</th>\n",
       "      <th>r2_score</th>\n",
       "    </tr>\n",
       "  </thead>\n",
       "  <tbody>\n",
       "    <tr>\n",
       "      <th>RF_SW_pc</th>\n",
       "      <td>True</td>\n",
       "      <td>1</td>\n",
       "      <td>100</td>\n",
       "      <td>True</td>\n",
       "      <td>0.579734</td>\n",
       "    </tr>\n",
       "  </tbody>\n",
       "</table>\n",
       "</div>"
      ],
      "text/plain": [
       "         rf__bootstrap rf__max_features rf__n_estimators rf__oob_score  \\\n",
       "RF_SW_pc          True                1              100          True   \n",
       "\n",
       "          r2_score  \n",
       "RF_SW_pc  0.579734  "
      ]
     },
     "execution_count": 37,
     "metadata": {},
     "output_type": "execute_result"
    },
    {
     "data": {
      "text/plain": [
       "<Figure size 900x600 with 0 Axes>"
      ]
     },
     "metadata": {},
     "output_type": "display_data"
    },
    {
     "data": {
      "image/png": "[encoded data removed]",
      "text/plain": [
       "<Figure size 432x288 with 1 Axes>"
      ]
     },
     "metadata": {
      "needs_background": "light"
     },
     "output_type": "display_data"
    }
   ],
   "source": [
    "X = df_SW[['c_mean']]\n",
    "y = df_SW['p_mean']\n",
    "\n",
    "file_dir = os.path.join(os.getcwd(), \"SVR_RF_npc\")\n",
    "file_name = \"RF_SW_pc.pkl\"\n",
    "\n",
    "RF_SW_pc_best_params_df = rf(X=X,y=y,test_size=0.10,file_dir=file_dir,file_name=file_name)\n",
    "RF_SW_pc_best_params_df"
   ]
  },
  {
   "cell_type": "markdown",
   "id": "c0a86161",
   "metadata": {},
   "source": [
    "# NE Nitrogin-Chlorophyll"
   ]
  },
  {
   "cell_type": "code",
   "execution_count": 38,
   "id": "26060b59",
   "metadata": {},
   "outputs": [
    {
     "name": "stdout",
     "output_type": "stream",
     "text": [
      "(496, 1) (496,)\n",
      "(56, 1) (56,)\n"
     ]
    },
    {
     "name": "stderr",
     "output_type": "stream",
     "text": [
      "C:\\Users\\AKSHAYA\\Anaconda3\\lib\\site-packages\\sklearn\\model_selection\\_validation.py:372: FitFailedWarning: \n",
      "60 fits failed out of a total of 80.\n",
      "The score on these train-test partitions for these parameters will be set to nan.\n",
      "If these failures are not expected, you can try to debug them by setting error_score='raise'.\n",
      "\n",
      "Below are more details about the failures:\n",
      "--------------------------------------------------------------------------------\n",
      "20 fits failed with the following error:\n",
      "Traceback (most recent call last):\n",
      "  File \"C:\\Users\\AKSHAYA\\Anaconda3\\lib\\site-packages\\sklearn\\model_selection\\_validation.py\", line 680, in _fit_and_score\n",
      "    estimator.fit(X_train, y_train, **fit_params)\n",
      "  File \"C:\\Users\\AKSHAYA\\Anaconda3\\lib\\site-packages\\sklearn\\pipeline.py\", line 394, in fit\n",
      "    self._final_estimator.fit(Xt, y, **fit_params_last_step)\n",
      "  File \"C:\\Users\\AKSHAYA\\Anaconda3\\lib\\site-packages\\sklearn\\ensemble\\_forest.py\", line 450, in fit\n",
      "    trees = Parallel(\n",
      "  File \"C:\\Users\\AKSHAYA\\Anaconda3\\lib\\site-packages\\joblib\\parallel.py\", line 1043, in __call__\n",
      "    if self.dispatch_one_batch(iterator):\n",
      "  File \"C:\\Users\\AKSHAYA\\Anaconda3\\lib\\site-packages\\joblib\\parallel.py\", line 861, in dispatch_one_batch\n",
      "    self._dispatch(tasks)\n",
      "  File \"C:\\Users\\AKSHAYA\\Anaconda3\\lib\\site-packages\\joblib\\parallel.py\", line 779, in _dispatch\n",
      "    job = self._backend.apply_async(batch, callback=cb)\n",
      "  File \"C:\\Users\\AKSHAYA\\Anaconda3\\lib\\site-packages\\joblib\\_parallel_backends.py\", line 208, in apply_async\n",
      "    result = ImmediateResult(func)\n",
      "  File \"C:\\Users\\AKSHAYA\\Anaconda3\\lib\\site-packages\\joblib\\_parallel_backends.py\", line 572, in __init__\n",
      "    self.results = batch()\n",
      "  File \"C:\\Users\\AKSHAYA\\Anaconda3\\lib\\site-packages\\joblib\\parallel.py\", line 262, in __call__\n",
      "    return [func(*args, **kwargs)\n",
      "  File \"C:\\Users\\AKSHAYA\\Anaconda3\\lib\\site-packages\\joblib\\parallel.py\", line 262, in <listcomp>\n",
      "    return [func(*args, **kwargs)\n",
      "  File \"C:\\Users\\AKSHAYA\\Anaconda3\\lib\\site-packages\\sklearn\\utils\\fixes.py\", line 216, in __call__\n",
      "    return self.function(*args, **kwargs)\n",
      "  File \"C:\\Users\\AKSHAYA\\Anaconda3\\lib\\site-packages\\sklearn\\ensemble\\_forest.py\", line 185, in _parallel_build_trees\n",
      "    tree.fit(X, y, sample_weight=curr_sample_weight, check_input=False)\n",
      "  File \"C:\\Users\\AKSHAYA\\Anaconda3\\lib\\site-packages\\sklearn\\tree\\_classes.py\", line 1315, in fit\n",
      "    super().fit(\n",
      "  File \"C:\\Users\\AKSHAYA\\Anaconda3\\lib\\site-packages\\sklearn\\tree\\_classes.py\", line 308, in fit\n",
      "    raise ValueError(\"max_features must be in (0, n_features]\")\n",
      "ValueError: max_features must be in (0, n_features]\n",
      "\n",
      "--------------------------------------------------------------------------------\n",
      "40 fits failed with the following error:\n",
      "Traceback (most recent call last):\n",
      "  File \"C:\\Users\\AKSHAYA\\Anaconda3\\lib\\site-packages\\sklearn\\model_selection\\_validation.py\", line 680, in _fit_and_score\n",
      "    estimator.fit(X_train, y_train, **fit_params)\n",
      "  File \"C:\\Users\\AKSHAYA\\Anaconda3\\lib\\site-packages\\sklearn\\pipeline.py\", line 394, in fit\n",
      "    self._final_estimator.fit(Xt, y, **fit_params_last_step)\n",
      "  File \"C:\\Users\\AKSHAYA\\Anaconda3\\lib\\site-packages\\sklearn\\ensemble\\_forest.py\", line 411, in fit\n",
      "    raise ValueError(\"Out of bag estimation only available if bootstrap=True\")\n",
      "ValueError: Out of bag estimation only available if bootstrap=True\n",
      "\n",
      "  warnings.warn(some_fits_failed_message, FitFailedWarning)\n",
      "C:\\Users\\AKSHAYA\\Anaconda3\\lib\\site-packages\\sklearn\\model_selection\\_search.py:969: UserWarning: One or more of the test scores are non-finite: [-0.2965442  -0.31940298 -0.32024926 -0.31996677         nan         nan\n",
      "         nan         nan         nan         nan         nan         nan\n",
      "         nan         nan         nan         nan]\n",
      "  warnings.warn(\n"
     ]
    },
    {
     "name": "stdout",
     "output_type": "stream",
     "text": [
      "Training set score: 0.8317359817265815\n",
      "Test set score: -0.010051048844779809\n",
      "MAE: 7.242768322172621\n",
      "MSE: 91.81521471890503\n",
      "RMSE: 9.582025606253879\n",
      "r2: -0.010051048844779809\n",
      "{'rf__bootstrap': True, 'rf__max_features': 1, 'rf__n_estimators': 64, 'rf__oob_score': True}\n",
      "Pipeline(steps=[('scaler', StandardScaler()),\n",
      "                ('rf',\n",
      "                 RandomForestRegressor(max_features=1, n_estimators=64,\n",
      "                                       oob_score=True))])\n"
     ]
    },
    {
     "data": {
      "text/html": [
       "<div>\n",
       "<style scoped>\n",
       "    .dataframe tbody tr th:only-of-type {\n",
       "        vertical-align: middle;\n",
       "    }\n",
       "\n",
       "    .dataframe tbody tr th {\n",
       "        vertical-align: top;\n",
       "    }\n",
       "\n",
       "    .dataframe thead th {\n",
       "        text-align: right;\n",
       "    }\n",
       "</style>\n",
       "<table border=\"1\" class=\"dataframe\">\n",
       "  <thead>\n",
       "    <tr style=\"text-align: right;\">\n",
       "      <th></th>\n",
       "      <th>rf__bootstrap</th>\n",
       "      <th>rf__max_features</th>\n",
       "      <th>rf__n_estimators</th>\n",
       "      <th>rf__oob_score</th>\n",
       "      <th>r2_score</th>\n",
       "    </tr>\n",
       "  </thead>\n",
       "  <tbody>\n",
       "    <tr>\n",
       "      <th>RF_NE_nc</th>\n",
       "      <td>True</td>\n",
       "      <td>1</td>\n",
       "      <td>64</td>\n",
       "      <td>True</td>\n",
       "      <td>-0.010051</td>\n",
       "    </tr>\n",
       "  </tbody>\n",
       "</table>\n",
       "</div>"
      ],
      "text/plain": [
       "         rf__bootstrap rf__max_features rf__n_estimators rf__oob_score  \\\n",
       "RF_NE_nc          True                1               64          True   \n",
       "\n",
       "          r2_score  \n",
       "RF_NE_nc -0.010051  "
      ]
     },
     "execution_count": 38,
     "metadata": {},
     "output_type": "execute_result"
    },
    {
     "data": {
      "text/plain": [
       "<Figure size 900x600 with 0 Axes>"
      ]
     },
     "metadata": {},
     "output_type": "display_data"
    },
    {
     "data": {
      "image/png": "[encoded data removed]",
      "text/plain": [
       "<Figure size 432x288 with 1 Axes>"
      ]
     },
     "metadata": {
      "needs_background": "light"
     },
     "output_type": "display_data"
    }
   ],
   "source": [
    "X = df_NE[['c_mean']]\n",
    "y = df_NE['n_mean']\n",
    "\n",
    "file_dir = os.path.join(os.getcwd(), \"SVR_RF_npc\")\n",
    "file_name = \"RF_NE_nc.pkl\"\n",
    "\n",
    "RF_NE_nc_best_params_df = rf(X=X,y=y,test_size=0.10,file_dir=file_dir,file_name=file_name)\n",
    "RF_NE_nc_best_params_df"
   ]
  },
  {
   "cell_type": "markdown",
   "id": "9ea357f6",
   "metadata": {},
   "source": [
    "# NE Phosphate-Chlorophyll"
   ]
  },
  {
   "cell_type": "code",
   "execution_count": 39,
   "id": "662f0133",
   "metadata": {},
   "outputs": [
    {
     "name": "stdout",
     "output_type": "stream",
     "text": [
      "(496, 1) (496,)\n",
      "(56, 1) (56,)\n"
     ]
    },
    {
     "name": "stderr",
     "output_type": "stream",
     "text": [
      "C:\\Users\\AKSHAYA\\Anaconda3\\lib\\site-packages\\sklearn\\model_selection\\_validation.py:372: FitFailedWarning: \n",
      "60 fits failed out of a total of 80.\n",
      "The score on these train-test partitions for these parameters will be set to nan.\n",
      "If these failures are not expected, you can try to debug them by setting error_score='raise'.\n",
      "\n",
      "Below are more details about the failures:\n",
      "--------------------------------------------------------------------------------\n",
      "20 fits failed with the following error:\n",
      "Traceback (most recent call last):\n",
      "  File \"C:\\Users\\AKSHAYA\\Anaconda3\\lib\\site-packages\\sklearn\\model_selection\\_validation.py\", line 680, in _fit_and_score\n",
      "    estimator.fit(X_train, y_train, **fit_params)\n",
      "  File \"C:\\Users\\AKSHAYA\\Anaconda3\\lib\\site-packages\\sklearn\\pipeline.py\", line 394, in fit\n",
      "    self._final_estimator.fit(Xt, y, **fit_params_last_step)\n",
      "  File \"C:\\Users\\AKSHAYA\\Anaconda3\\lib\\site-packages\\sklearn\\ensemble\\_forest.py\", line 450, in fit\n",
      "    trees = Parallel(\n",
      "  File \"C:\\Users\\AKSHAYA\\Anaconda3\\lib\\site-packages\\joblib\\parallel.py\", line 1043, in __call__\n",
      "    if self.dispatch_one_batch(iterator):\n",
      "  File \"C:\\Users\\AKSHAYA\\Anaconda3\\lib\\site-packages\\joblib\\parallel.py\", line 861, in dispatch_one_batch\n",
      "    self._dispatch(tasks)\n",
      "  File \"C:\\Users\\AKSHAYA\\Anaconda3\\lib\\site-packages\\joblib\\parallel.py\", line 779, in _dispatch\n",
      "    job = self._backend.apply_async(batch, callback=cb)\n",
      "  File \"C:\\Users\\AKSHAYA\\Anaconda3\\lib\\site-packages\\joblib\\_parallel_backends.py\", line 208, in apply_async\n",
      "    result = ImmediateResult(func)\n",
      "  File \"C:\\Users\\AKSHAYA\\Anaconda3\\lib\\site-packages\\joblib\\_parallel_backends.py\", line 572, in __init__\n",
      "    self.results = batch()\n",
      "  File \"C:\\Users\\AKSHAYA\\Anaconda3\\lib\\site-packages\\joblib\\parallel.py\", line 262, in __call__\n",
      "    return [func(*args, **kwargs)\n",
      "  File \"C:\\Users\\AKSHAYA\\Anaconda3\\lib\\site-packages\\joblib\\parallel.py\", line 262, in <listcomp>\n",
      "    return [func(*args, **kwargs)\n",
      "  File \"C:\\Users\\AKSHAYA\\Anaconda3\\lib\\site-packages\\sklearn\\utils\\fixes.py\", line 216, in __call__\n",
      "    return self.function(*args, **kwargs)\n",
      "  File \"C:\\Users\\AKSHAYA\\Anaconda3\\lib\\site-packages\\sklearn\\ensemble\\_forest.py\", line 185, in _parallel_build_trees\n",
      "    tree.fit(X, y, sample_weight=curr_sample_weight, check_input=False)\n",
      "  File \"C:\\Users\\AKSHAYA\\Anaconda3\\lib\\site-packages\\sklearn\\tree\\_classes.py\", line 1315, in fit\n",
      "    super().fit(\n",
      "  File \"C:\\Users\\AKSHAYA\\Anaconda3\\lib\\site-packages\\sklearn\\tree\\_classes.py\", line 308, in fit\n",
      "    raise ValueError(\"max_features must be in (0, n_features]\")\n",
      "ValueError: max_features must be in (0, n_features]\n",
      "\n",
      "--------------------------------------------------------------------------------\n",
      "40 fits failed with the following error:\n",
      "Traceback (most recent call last):\n",
      "  File \"C:\\Users\\AKSHAYA\\Anaconda3\\lib\\site-packages\\sklearn\\model_selection\\_validation.py\", line 680, in _fit_and_score\n",
      "    estimator.fit(X_train, y_train, **fit_params)\n",
      "  File \"C:\\Users\\AKSHAYA\\Anaconda3\\lib\\site-packages\\sklearn\\pipeline.py\", line 394, in fit\n",
      "    self._final_estimator.fit(Xt, y, **fit_params_last_step)\n",
      "  File \"C:\\Users\\AKSHAYA\\Anaconda3\\lib\\site-packages\\sklearn\\ensemble\\_forest.py\", line 411, in fit\n",
      "    raise ValueError(\"Out of bag estimation only available if bootstrap=True\")\n",
      "ValueError: Out of bag estimation only available if bootstrap=True\n",
      "\n",
      "  warnings.warn(some_fits_failed_message, FitFailedWarning)\n",
      "C:\\Users\\AKSHAYA\\Anaconda3\\lib\\site-packages\\sklearn\\model_selection\\_search.py:969: UserWarning: One or more of the test scores are non-finite: [-0.33520532 -0.33364811 -0.32002468 -0.32929935         nan         nan\n",
      "         nan         nan         nan         nan         nan         nan\n",
      "         nan         nan         nan         nan]\n",
      "  warnings.warn(\n"
     ]
    },
    {
     "name": "stdout",
     "output_type": "stream",
     "text": [
      "Training set score: 0.8189337590012817\n",
      "Test set score: -0.08029957523277331\n",
      "MAE: 0.5138893694196435\n",
      "MSE: 0.4397342671059511\n",
      "RMSE: 0.6631246241137114\n",
      "r2: -0.08029957523277331\n",
      "{'rf__bootstrap': True, 'rf__max_features': 1, 'rf__n_estimators': 128, 'rf__oob_score': True}\n",
      "Pipeline(steps=[('scaler', StandardScaler()),\n",
      "                ('rf',\n",
      "                 RandomForestRegressor(max_features=1, n_estimators=128,\n",
      "                                       oob_score=True))])\n"
     ]
    },
    {
     "data": {
      "text/html": [
       "<div>\n",
       "<style scoped>\n",
       "    .dataframe tbody tr th:only-of-type {\n",
       "        vertical-align: middle;\n",
       "    }\n",
       "\n",
       "    .dataframe tbody tr th {\n",
       "        vertical-align: top;\n",
       "    }\n",
       "\n",
       "    .dataframe thead th {\n",
       "        text-align: right;\n",
       "    }\n",
       "</style>\n",
       "<table border=\"1\" class=\"dataframe\">\n",
       "  <thead>\n",
       "    <tr style=\"text-align: right;\">\n",
       "      <th></th>\n",
       "      <th>rf__bootstrap</th>\n",
       "      <th>rf__max_features</th>\n",
       "      <th>rf__n_estimators</th>\n",
       "      <th>rf__oob_score</th>\n",
       "      <th>r2_score</th>\n",
       "    </tr>\n",
       "  </thead>\n",
       "  <tbody>\n",
       "    <tr>\n",
       "      <th>RF_NE_pc</th>\n",
       "      <td>True</td>\n",
       "      <td>1</td>\n",
       "      <td>128</td>\n",
       "      <td>True</td>\n",
       "      <td>-0.0803</td>\n",
       "    </tr>\n",
       "  </tbody>\n",
       "</table>\n",
       "</div>"
      ],
      "text/plain": [
       "         rf__bootstrap rf__max_features rf__n_estimators rf__oob_score  \\\n",
       "RF_NE_pc          True                1              128          True   \n",
       "\n",
       "          r2_score  \n",
       "RF_NE_pc   -0.0803  "
      ]
     },
     "execution_count": 39,
     "metadata": {},
     "output_type": "execute_result"
    },
    {
     "data": {
      "text/plain": [
       "<Figure size 900x600 with 0 Axes>"
      ]
     },
     "metadata": {},
     "output_type": "display_data"
    },
    {
     "data": {
      "image/png": "[encoded data removed]",
      "text/plain": [
       "<Figure size 432x288 with 1 Axes>"
      ]
     },
     "metadata": {
      "needs_background": "light"
     },
     "output_type": "display_data"
    }
   ],
   "source": [
    "X = df_NE[['c_mean']]\n",
    "y = df_NE['p_mean']\n",
    "\n",
    "file_dir = os.path.join(os.getcwd(), \"SVR_RF_npc\")\n",
    "file_name = \"RF_NE_pc.pkl\"\n",
    "\n",
    "RF_NE_pc_best_params_df = rf(X=X,y=y,test_size=0.10,file_dir=file_dir,file_name=file_name)\n",
    "RF_NE_pc_best_params_df"
   ]
  },
  {
   "cell_type": "markdown",
   "id": "3f69c6a2",
   "metadata": {},
   "source": [
    "# SUMMER Nitrogin-Chlorophyll-inflow"
   ]
  },
  {
   "cell_type": "code",
   "execution_count": 40,
   "id": "5c7aa750",
   "metadata": {},
   "outputs": [
    {
     "name": "stdout",
     "output_type": "stream",
     "text": [
      "(496, 2) (496,)\n",
      "(56, 2) (56,)\n"
     ]
    },
    {
     "name": "stderr",
     "output_type": "stream",
     "text": [
      "C:\\Users\\AKSHAYA\\Anaconda3\\lib\\site-packages\\sklearn\\model_selection\\_validation.py:372: FitFailedWarning: \n",
      "40 fits failed out of a total of 80.\n",
      "The score on these train-test partitions for these parameters will be set to nan.\n",
      "If these failures are not expected, you can try to debug them by setting error_score='raise'.\n",
      "\n",
      "Below are more details about the failures:\n",
      "--------------------------------------------------------------------------------\n",
      "40 fits failed with the following error:\n",
      "Traceback (most recent call last):\n",
      "  File \"C:\\Users\\AKSHAYA\\Anaconda3\\lib\\site-packages\\sklearn\\model_selection\\_validation.py\", line 680, in _fit_and_score\n",
      "    estimator.fit(X_train, y_train, **fit_params)\n",
      "  File \"C:\\Users\\AKSHAYA\\Anaconda3\\lib\\site-packages\\sklearn\\pipeline.py\", line 394, in fit\n",
      "    self._final_estimator.fit(Xt, y, **fit_params_last_step)\n",
      "  File \"C:\\Users\\AKSHAYA\\Anaconda3\\lib\\site-packages\\sklearn\\ensemble\\_forest.py\", line 411, in fit\n",
      "    raise ValueError(\"Out of bag estimation only available if bootstrap=True\")\n",
      "ValueError: Out of bag estimation only available if bootstrap=True\n",
      "\n",
      "  warnings.warn(some_fits_failed_message, FitFailedWarning)\n",
      "C:\\Users\\AKSHAYA\\Anaconda3\\lib\\site-packages\\sklearn\\model_selection\\_search.py:969: UserWarning: One or more of the test scores are non-finite: [0.56451672 0.58024879 0.59301737 0.5834469  0.56217268 0.56351008\n",
      " 0.56933809 0.56466209        nan        nan        nan        nan\n",
      "        nan        nan        nan        nan]\n",
      "  warnings.warn(\n"
     ]
    },
    {
     "name": "stdout",
     "output_type": "stream",
     "text": [
      "Training set score: 0.9441183024768566\n",
      "Test set score: 0.7724038449656407\n",
      "MAE: 2.944485894158299\n",
      "MSE: 20.56004711741448\n",
      "RMSE: 4.534318815149027\n",
      "r2: 0.7724038449656407\n",
      "{'rf__bootstrap': True, 'rf__max_features': 1, 'rf__n_estimators': 128, 'rf__oob_score': True}\n",
      "Pipeline(steps=[('scaler', StandardScaler()),\n",
      "                ('rf',\n",
      "                 RandomForestRegressor(max_features=1, n_estimators=128,\n",
      "                                       oob_score=True))])\n"
     ]
    },
    {
     "data": {
      "text/html": [
       "<div>\n",
       "<style scoped>\n",
       "    .dataframe tbody tr th:only-of-type {\n",
       "        vertical-align: middle;\n",
       "    }\n",
       "\n",
       "    .dataframe tbody tr th {\n",
       "        vertical-align: top;\n",
       "    }\n",
       "\n",
       "    .dataframe thead th {\n",
       "        text-align: right;\n",
       "    }\n",
       "</style>\n",
       "<table border=\"1\" class=\"dataframe\">\n",
       "  <thead>\n",
       "    <tr style=\"text-align: right;\">\n",
       "      <th></th>\n",
       "      <th>rf__bootstrap</th>\n",
       "      <th>rf__max_features</th>\n",
       "      <th>rf__n_estimators</th>\n",
       "      <th>rf__oob_score</th>\n",
       "      <th>r2_score</th>\n",
       "    </tr>\n",
       "  </thead>\n",
       "  <tbody>\n",
       "    <tr>\n",
       "      <th>RF_SUMMER_nci</th>\n",
       "      <td>True</td>\n",
       "      <td>1</td>\n",
       "      <td>128</td>\n",
       "      <td>True</td>\n",
       "      <td>0.772404</td>\n",
       "    </tr>\n",
       "  </tbody>\n",
       "</table>\n",
       "</div>"
      ],
      "text/plain": [
       "              rf__bootstrap rf__max_features rf__n_estimators rf__oob_score  \\\n",
       "RF_SUMMER_nci          True                1              128          True   \n",
       "\n",
       "               r2_score  \n",
       "RF_SUMMER_nci  0.772404  "
      ]
     },
     "execution_count": 40,
     "metadata": {},
     "output_type": "execute_result"
    },
    {
     "data": {
      "text/plain": [
       "<Figure size 900x600 with 0 Axes>"
      ]
     },
     "metadata": {},
     "output_type": "display_data"
    },
    {
     "data": {
      "image/png": "[encoded data removed]",
      "text/plain": [
       "<Figure size 432x288 with 1 Axes>"
      ]
     },
     "metadata": {
      "needs_background": "light"
     },
     "output_type": "display_data"
    }
   ],
   "source": [
    "X = df_Summer[['c_mean','i_mean']]\n",
    "y = df_Summer['n_mean']\n",
    "\n",
    "file_dir = os.path.join(os.getcwd(), \"SVR_RF_npci\")\n",
    "file_name = \"RF_SUMMER_nci.pkl\"\n",
    "\n",
    "RF_SUMMER_nci_best_params_df = rf(X=X,y=y,test_size=0.10,file_dir=file_dir,file_name=file_name)\n",
    "RF_SUMMER_nci_best_params_df"
   ]
  },
  {
   "cell_type": "markdown",
   "id": "1986d266",
   "metadata": {},
   "source": [
    "# SUMMER Phosphate-Chlorophyll-inflow"
   ]
  },
  {
   "cell_type": "code",
   "execution_count": 41,
   "id": "ce4f3cca",
   "metadata": {},
   "outputs": [
    {
     "name": "stdout",
     "output_type": "stream",
     "text": [
      "(496, 2) (496,)\n",
      "(56, 2) (56,)\n"
     ]
    },
    {
     "name": "stderr",
     "output_type": "stream",
     "text": [
      "C:\\Users\\AKSHAYA\\Anaconda3\\lib\\site-packages\\sklearn\\model_selection\\_validation.py:372: FitFailedWarning: \n",
      "40 fits failed out of a total of 80.\n",
      "The score on these train-test partitions for these parameters will be set to nan.\n",
      "If these failures are not expected, you can try to debug them by setting error_score='raise'.\n",
      "\n",
      "Below are more details about the failures:\n",
      "--------------------------------------------------------------------------------\n",
      "40 fits failed with the following error:\n",
      "Traceback (most recent call last):\n",
      "  File \"C:\\Users\\AKSHAYA\\Anaconda3\\lib\\site-packages\\sklearn\\model_selection\\_validation.py\", line 680, in _fit_and_score\n",
      "    estimator.fit(X_train, y_train, **fit_params)\n",
      "  File \"C:\\Users\\AKSHAYA\\Anaconda3\\lib\\site-packages\\sklearn\\pipeline.py\", line 394, in fit\n",
      "    self._final_estimator.fit(Xt, y, **fit_params_last_step)\n",
      "  File \"C:\\Users\\AKSHAYA\\Anaconda3\\lib\\site-packages\\sklearn\\ensemble\\_forest.py\", line 411, in fit\n",
      "    raise ValueError(\"Out of bag estimation only available if bootstrap=True\")\n",
      "ValueError: Out of bag estimation only available if bootstrap=True\n",
      "\n",
      "  warnings.warn(some_fits_failed_message, FitFailedWarning)\n",
      "C:\\Users\\AKSHAYA\\Anaconda3\\lib\\site-packages\\sklearn\\model_selection\\_search.py:969: UserWarning: One or more of the test scores are non-finite: [0.75676233 0.75761751 0.7563496  0.75788902 0.75590132 0.74725991\n",
      " 0.7562816  0.75105802        nan        nan        nan        nan\n",
      "        nan        nan        nan        nan]\n",
      "  warnings.warn(\n"
     ]
    },
    {
     "name": "stdout",
     "output_type": "stream",
     "text": [
      "Training set score: 0.9688364259157146\n",
      "Test set score: 0.7796863074437632\n",
      "MAE: 0.23993850496116037\n",
      "MSE: 0.12558571408924363\n",
      "RMSE: 0.3543807473456249\n",
      "r2: 0.7796863074437632\n",
      "{'rf__bootstrap': True, 'rf__max_features': 1, 'rf__n_estimators': 200, 'rf__oob_score': True}\n",
      "Pipeline(steps=[('scaler', StandardScaler()),\n",
      "                ('rf',\n",
      "                 RandomForestRegressor(max_features=1, n_estimators=200,\n",
      "                                       oob_score=True))])\n"
     ]
    },
    {
     "data": {
      "text/html": [
       "<div>\n",
       "<style scoped>\n",
       "    .dataframe tbody tr th:only-of-type {\n",
       "        vertical-align: middle;\n",
       "    }\n",
       "\n",
       "    .dataframe tbody tr th {\n",
       "        vertical-align: top;\n",
       "    }\n",
       "\n",
       "    .dataframe thead th {\n",
       "        text-align: right;\n",
       "    }\n",
       "</style>\n",
       "<table border=\"1\" class=\"dataframe\">\n",
       "  <thead>\n",
       "    <tr style=\"text-align: right;\">\n",
       "      <th></th>\n",
       "      <th>rf__bootstrap</th>\n",
       "      <th>rf__max_features</th>\n",
       "      <th>rf__n_estimators</th>\n",
       "      <th>rf__oob_score</th>\n",
       "      <th>r2_score</th>\n",
       "    </tr>\n",
       "  </thead>\n",
       "  <tbody>\n",
       "    <tr>\n",
       "      <th>RF_SUMMER_pci</th>\n",
       "      <td>True</td>\n",
       "      <td>1</td>\n",
       "      <td>200</td>\n",
       "      <td>True</td>\n",
       "      <td>0.779686</td>\n",
       "    </tr>\n",
       "  </tbody>\n",
       "</table>\n",
       "</div>"
      ],
      "text/plain": [
       "              rf__bootstrap rf__max_features rf__n_estimators rf__oob_score  \\\n",
       "RF_SUMMER_pci          True                1              200          True   \n",
       "\n",
       "               r2_score  \n",
       "RF_SUMMER_pci  0.779686  "
      ]
     },
     "execution_count": 41,
     "metadata": {},
     "output_type": "execute_result"
    },
    {
     "data": {
      "text/plain": [
       "<Figure size 900x600 with 0 Axes>"
      ]
     },
     "metadata": {},
     "output_type": "display_data"
    },
    {
     "data": {
      "image/png": "[encoded data removed]",
      "text/plain": [
       "<Figure size 432x288 with 1 Axes>"
      ]
     },
     "metadata": {
      "needs_background": "light"
     },
     "output_type": "display_data"
    }
   ],
   "source": [
    "X = df_Summer[['c_mean','i_mean']]\n",
    "y = df_Summer['p_mean']\n",
    "\n",
    "file_dir = os.path.join(os.getcwd(), \"SVR_RF_npci\")\n",
    "file_name = \"RF_SUMMER_pci.pkl\"\n",
    "\n",
    "RF_SUMMER_pci_best_params_df = rf(X=X,y=y,test_size=0.10,file_dir=file_dir,file_name=file_name)\n",
    "RF_SUMMER_pci_best_params_df"
   ]
  },
  {
   "cell_type": "markdown",
   "id": "cf6c86d1",
   "metadata": {},
   "source": [
    "# WINTER Nitrogin-Chlorophyll-inflow"
   ]
  },
  {
   "cell_type": "code",
   "execution_count": 42,
   "id": "ba206a75",
   "metadata": {},
   "outputs": [
    {
     "name": "stdout",
     "output_type": "stream",
     "text": [
      "(320, 2) (320,)\n",
      "(36, 2) (36,)\n"
     ]
    },
    {
     "name": "stderr",
     "output_type": "stream",
     "text": [
      "C:\\Users\\AKSHAYA\\Anaconda3\\lib\\site-packages\\sklearn\\model_selection\\_validation.py:372: FitFailedWarning: \n",
      "40 fits failed out of a total of 80.\n",
      "The score on these train-test partitions for these parameters will be set to nan.\n",
      "If these failures are not expected, you can try to debug them by setting error_score='raise'.\n",
      "\n",
      "Below are more details about the failures:\n",
      "--------------------------------------------------------------------------------\n",
      "40 fits failed with the following error:\n",
      "Traceback (most recent call last):\n",
      "  File \"C:\\Users\\AKSHAYA\\Anaconda3\\lib\\site-packages\\sklearn\\model_selection\\_validation.py\", line 680, in _fit_and_score\n",
      "    estimator.fit(X_train, y_train, **fit_params)\n",
      "  File \"C:\\Users\\AKSHAYA\\Anaconda3\\lib\\site-packages\\sklearn\\pipeline.py\", line 394, in fit\n",
      "    self._final_estimator.fit(Xt, y, **fit_params_last_step)\n",
      "  File \"C:\\Users\\AKSHAYA\\Anaconda3\\lib\\site-packages\\sklearn\\ensemble\\_forest.py\", line 411, in fit\n",
      "    raise ValueError(\"Out of bag estimation only available if bootstrap=True\")\n",
      "ValueError: Out of bag estimation only available if bootstrap=True\n",
      "\n",
      "  warnings.warn(some_fits_failed_message, FitFailedWarning)\n",
      "C:\\Users\\AKSHAYA\\Anaconda3\\lib\\site-packages\\sklearn\\model_selection\\_search.py:969: UserWarning: One or more of the test scores are non-finite: [0.70276834 0.69509146 0.70319263 0.69595417 0.70490751 0.69850931\n",
      " 0.70478315 0.70287716        nan        nan        nan        nan\n",
      "        nan        nan        nan        nan]\n",
      "  warnings.warn(\n"
     ]
    },
    {
     "name": "stdout",
     "output_type": "stream",
     "text": [
      "Training set score: 0.96322078863466\n",
      "Test set score: 0.6596990981029884\n",
      "MAE: 2.595578631365743\n",
      "MSE: 29.900068831385283\n",
      "RMSE: 5.468095539708984\n",
      "r2: 0.6596990981029884\n",
      "{'rf__bootstrap': True, 'rf__max_features': 2, 'rf__n_estimators': 64, 'rf__oob_score': True}\n",
      "Pipeline(steps=[('scaler', StandardScaler()),\n",
      "                ('rf',\n",
      "                 RandomForestRegressor(max_features=2, n_estimators=64,\n",
      "                                       oob_score=True))])\n"
     ]
    },
    {
     "data": {
      "text/html": [
       "<div>\n",
       "<style scoped>\n",
       "    .dataframe tbody tr th:only-of-type {\n",
       "        vertical-align: middle;\n",
       "    }\n",
       "\n",
       "    .dataframe tbody tr th {\n",
       "        vertical-align: top;\n",
       "    }\n",
       "\n",
       "    .dataframe thead th {\n",
       "        text-align: right;\n",
       "    }\n",
       "</style>\n",
       "<table border=\"1\" class=\"dataframe\">\n",
       "  <thead>\n",
       "    <tr style=\"text-align: right;\">\n",
       "      <th></th>\n",
       "      <th>rf__bootstrap</th>\n",
       "      <th>rf__max_features</th>\n",
       "      <th>rf__n_estimators</th>\n",
       "      <th>rf__oob_score</th>\n",
       "      <th>r2_score</th>\n",
       "    </tr>\n",
       "  </thead>\n",
       "  <tbody>\n",
       "    <tr>\n",
       "      <th>RF_WINTER_nci</th>\n",
       "      <td>True</td>\n",
       "      <td>2</td>\n",
       "      <td>64</td>\n",
       "      <td>True</td>\n",
       "      <td>0.659699</td>\n",
       "    </tr>\n",
       "  </tbody>\n",
       "</table>\n",
       "</div>"
      ],
      "text/plain": [
       "              rf__bootstrap rf__max_features rf__n_estimators rf__oob_score  \\\n",
       "RF_WINTER_nci          True                2               64          True   \n",
       "\n",
       "               r2_score  \n",
       "RF_WINTER_nci  0.659699  "
      ]
     },
     "execution_count": 42,
     "metadata": {},
     "output_type": "execute_result"
    },
    {
     "data": {
      "text/plain": [
       "<Figure size 900x600 with 0 Axes>"
      ]
     },
     "metadata": {},
     "output_type": "display_data"
    },
    {
     "data": {
      "image/png": "[encoded data removed]",
      "text/plain": [
       "<Figure size 432x288 with 1 Axes>"
      ]
     },
     "metadata": {
      "needs_background": "light"
     },
     "output_type": "display_data"
    }
   ],
   "source": [
    "X = df_Winter[['c_mean','i_mean']]\n",
    "y = df_Winter['n_mean']\n",
    "\n",
    "file_dir = os.path.join(os.getcwd(), \"SVR_RF_npci\")\n",
    "file_name = \"RF_WINTER_nci.pkl\"\n",
    "\n",
    "RF_WINTER_nci_best_params_df = rf(X=X,y=y,test_size=0.10,file_dir=file_dir,file_name=file_name)\n",
    "RF_WINTER_nci_best_params_df"
   ]
  },
  {
   "cell_type": "markdown",
   "id": "69f2fdb3",
   "metadata": {},
   "source": [
    "# WINTER Phosphate-Chlorophyll-inflow"
   ]
  },
  {
   "cell_type": "code",
   "execution_count": 43,
   "id": "4dda7c17",
   "metadata": {},
   "outputs": [
    {
     "name": "stdout",
     "output_type": "stream",
     "text": [
      "(320, 2) (320,)\n",
      "(36, 2) (36,)\n"
     ]
    },
    {
     "name": "stderr",
     "output_type": "stream",
     "text": [
      "C:\\Users\\AKSHAYA\\Anaconda3\\lib\\site-packages\\sklearn\\model_selection\\_validation.py:372: FitFailedWarning: \n",
      "40 fits failed out of a total of 80.\n",
      "The score on these train-test partitions for these parameters will be set to nan.\n",
      "If these failures are not expected, you can try to debug them by setting error_score='raise'.\n",
      "\n",
      "Below are more details about the failures:\n",
      "--------------------------------------------------------------------------------\n",
      "40 fits failed with the following error:\n",
      "Traceback (most recent call last):\n",
      "  File \"C:\\Users\\AKSHAYA\\Anaconda3\\lib\\site-packages\\sklearn\\model_selection\\_validation.py\", line 680, in _fit_and_score\n",
      "    estimator.fit(X_train, y_train, **fit_params)\n",
      "  File \"C:\\Users\\AKSHAYA\\Anaconda3\\lib\\site-packages\\sklearn\\pipeline.py\", line 394, in fit\n",
      "    self._final_estimator.fit(Xt, y, **fit_params_last_step)\n",
      "  File \"C:\\Users\\AKSHAYA\\Anaconda3\\lib\\site-packages\\sklearn\\ensemble\\_forest.py\", line 411, in fit\n",
      "    raise ValueError(\"Out of bag estimation only available if bootstrap=True\")\n",
      "ValueError: Out of bag estimation only available if bootstrap=True\n",
      "\n",
      "  warnings.warn(some_fits_failed_message, FitFailedWarning)\n",
      "C:\\Users\\AKSHAYA\\Anaconda3\\lib\\site-packages\\sklearn\\model_selection\\_search.py:969: UserWarning: One or more of the test scores are non-finite: [0.65804758 0.68002071 0.67258064 0.66844028 0.6954095  0.68128066\n",
      " 0.69171967 0.6870937         nan        nan        nan        nan\n",
      "        nan        nan        nan        nan]\n",
      "  warnings.warn(\n"
     ]
    },
    {
     "name": "stdout",
     "output_type": "stream",
     "text": [
      "Training set score: 0.9617396117166953\n",
      "Test set score: 0.6535619820648914\n",
      "MAE: 0.20190494791666622\n",
      "MSE: 0.12945196093448577\n",
      "RMSE: 0.3597943314374002\n",
      "r2: 0.6535619820648914\n",
      "{'rf__bootstrap': True, 'rf__max_features': 2, 'rf__n_estimators': 64, 'rf__oob_score': True}\n",
      "Pipeline(steps=[('scaler', StandardScaler()),\n",
      "                ('rf',\n",
      "                 RandomForestRegressor(max_features=2, n_estimators=64,\n",
      "                                       oob_score=True))])\n"
     ]
    },
    {
     "data": {
      "text/html": [
       "<div>\n",
       "<style scoped>\n",
       "    .dataframe tbody tr th:only-of-type {\n",
       "        vertical-align: middle;\n",
       "    }\n",
       "\n",
       "    .dataframe tbody tr th {\n",
       "        vertical-align: top;\n",
       "    }\n",
       "\n",
       "    .dataframe thead th {\n",
       "        text-align: right;\n",
       "    }\n",
       "</style>\n",
       "<table border=\"1\" class=\"dataframe\">\n",
       "  <thead>\n",
       "    <tr style=\"text-align: right;\">\n",
       "      <th></th>\n",
       "      <th>rf__bootstrap</th>\n",
       "      <th>rf__max_features</th>\n",
       "      <th>rf__n_estimators</th>\n",
       "      <th>rf__oob_score</th>\n",
       "      <th>r2_score</th>\n",
       "    </tr>\n",
       "  </thead>\n",
       "  <tbody>\n",
       "    <tr>\n",
       "      <th>RF_WINTER_pci</th>\n",
       "      <td>True</td>\n",
       "      <td>2</td>\n",
       "      <td>64</td>\n",
       "      <td>True</td>\n",
       "      <td>0.653562</td>\n",
       "    </tr>\n",
       "  </tbody>\n",
       "</table>\n",
       "</div>"
      ],
      "text/plain": [
       "              rf__bootstrap rf__max_features rf__n_estimators rf__oob_score  \\\n",
       "RF_WINTER_pci          True                2               64          True   \n",
       "\n",
       "               r2_score  \n",
       "RF_WINTER_pci  0.653562  "
      ]
     },
     "execution_count": 43,
     "metadata": {},
     "output_type": "execute_result"
    },
    {
     "data": {
      "text/plain": [
       "<Figure size 900x600 with 0 Axes>"
      ]
     },
     "metadata": {},
     "output_type": "display_data"
    },
    {
     "data": {
      "image/png": "[encoded data removed]",
      "text/plain": [
       "<Figure size 432x288 with 1 Axes>"
      ]
     },
     "metadata": {
      "needs_background": "light"
     },
     "output_type": "display_data"
    }
   ],
   "source": [
    "X = df_Winter[['c_mean','i_mean']]\n",
    "y = df_Winter['p_mean']\n",
    "\n",
    "file_dir = os.path.join(os.getcwd(), \"SVR_RF_npci\")\n",
    "file_name = \"RF_WINTER_pci.pkl\"\n",
    "\n",
    "RF_WINTER_pci_best_params_df = rf(X=X,y=y,test_size=0.10,file_dir=file_dir,file_name=file_name)\n",
    "RF_WINTER_pci_best_params_df"
   ]
  },
  {
   "cell_type": "markdown",
   "id": "239b0e67",
   "metadata": {},
   "source": [
    "# SW Nitrogin-Chlorophyll-inflow"
   ]
  },
  {
   "cell_type": "code",
   "execution_count": 44,
   "id": "b2278529",
   "metadata": {},
   "outputs": [
    {
     "name": "stdout",
     "output_type": "stream",
     "text": [
      "(658, 2) (658,)\n",
      "(74, 2) (74,)\n"
     ]
    },
    {
     "name": "stderr",
     "output_type": "stream",
     "text": [
      "C:\\Users\\AKSHAYA\\Anaconda3\\lib\\site-packages\\sklearn\\model_selection\\_validation.py:372: FitFailedWarning: \n",
      "40 fits failed out of a total of 80.\n",
      "The score on these train-test partitions for these parameters will be set to nan.\n",
      "If these failures are not expected, you can try to debug them by setting error_score='raise'.\n",
      "\n",
      "Below are more details about the failures:\n",
      "--------------------------------------------------------------------------------\n",
      "40 fits failed with the following error:\n",
      "Traceback (most recent call last):\n",
      "  File \"C:\\Users\\AKSHAYA\\Anaconda3\\lib\\site-packages\\sklearn\\model_selection\\_validation.py\", line 680, in _fit_and_score\n",
      "    estimator.fit(X_train, y_train, **fit_params)\n",
      "  File \"C:\\Users\\AKSHAYA\\Anaconda3\\lib\\site-packages\\sklearn\\pipeline.py\", line 394, in fit\n",
      "    self._final_estimator.fit(Xt, y, **fit_params_last_step)\n",
      "  File \"C:\\Users\\AKSHAYA\\Anaconda3\\lib\\site-packages\\sklearn\\ensemble\\_forest.py\", line 411, in fit\n",
      "    raise ValueError(\"Out of bag estimation only available if bootstrap=True\")\n",
      "ValueError: Out of bag estimation only available if bootstrap=True\n",
      "\n",
      "  warnings.warn(some_fits_failed_message, FitFailedWarning)\n",
      "C:\\Users\\AKSHAYA\\Anaconda3\\lib\\site-packages\\sklearn\\model_selection\\_search.py:969: UserWarning: One or more of the test scores are non-finite: [0.59374647 0.60607013 0.60767281 0.60796911 0.58304429 0.59220748\n",
      " 0.59658876 0.59998166        nan        nan        nan        nan\n",
      "        nan        nan        nan        nan]\n",
      "  warnings.warn(\n"
     ]
    },
    {
     "name": "stdout",
     "output_type": "stream",
     "text": [
      "Training set score: 0.9452863336374848\n",
      "Test set score: 0.5634618696584972\n",
      "MAE: 3.01306012857716\n",
      "MSE: 21.371857604446877\n",
      "RMSE: 4.622970647153935\n",
      "r2: 0.5634618696584972\n",
      "{'rf__bootstrap': True, 'rf__max_features': 1, 'rf__n_estimators': 200, 'rf__oob_score': True}\n",
      "Pipeline(steps=[('scaler', StandardScaler()),\n",
      "                ('rf',\n",
      "                 RandomForestRegressor(max_features=1, n_estimators=200,\n",
      "                                       oob_score=True))])\n"
     ]
    },
    {
     "data": {
      "text/html": [
       "<div>\n",
       "<style scoped>\n",
       "    .dataframe tbody tr th:only-of-type {\n",
       "        vertical-align: middle;\n",
       "    }\n",
       "\n",
       "    .dataframe tbody tr th {\n",
       "        vertical-align: top;\n",
       "    }\n",
       "\n",
       "    .dataframe thead th {\n",
       "        text-align: right;\n",
       "    }\n",
       "</style>\n",
       "<table border=\"1\" class=\"dataframe\">\n",
       "  <thead>\n",
       "    <tr style=\"text-align: right;\">\n",
       "      <th></th>\n",
       "      <th>rf__bootstrap</th>\n",
       "      <th>rf__max_features</th>\n",
       "      <th>rf__n_estimators</th>\n",
       "      <th>rf__oob_score</th>\n",
       "      <th>r2_score</th>\n",
       "    </tr>\n",
       "  </thead>\n",
       "  <tbody>\n",
       "    <tr>\n",
       "      <th>RF_SW_nci</th>\n",
       "      <td>True</td>\n",
       "      <td>1</td>\n",
       "      <td>200</td>\n",
       "      <td>True</td>\n",
       "      <td>0.563462</td>\n",
       "    </tr>\n",
       "  </tbody>\n",
       "</table>\n",
       "</div>"
      ],
      "text/plain": [
       "          rf__bootstrap rf__max_features rf__n_estimators rf__oob_score  \\\n",
       "RF_SW_nci          True                1              200          True   \n",
       "\n",
       "           r2_score  \n",
       "RF_SW_nci  0.563462  "
      ]
     },
     "execution_count": 44,
     "metadata": {},
     "output_type": "execute_result"
    },
    {
     "data": {
      "text/plain": [
       "<Figure size 900x600 with 0 Axes>"
      ]
     },
     "metadata": {},
     "output_type": "display_data"
    },
    {
     "data": {
      "image/png": "[encoded data removed]",
      "text/plain": [
       "<Figure size 432x288 with 1 Axes>"
      ]
     },
     "metadata": {
      "needs_background": "light"
     },
     "output_type": "display_data"
    }
   ],
   "source": [
    "X = df_SW[['c_mean','i_mean']]\n",
    "y = df_SW['n_mean']\n",
    "\n",
    "file_dir = os.path.join(os.getcwd(), \"SVR_RF_npci\")\n",
    "file_name = \"RF_SW_nci.pkl\"\n",
    "\n",
    "RF_SW_nci_best_params_df = rf(X=X,y=y,test_size=0.10,file_dir=file_dir,file_name=file_name)\n",
    "RF_SW_nci_best_params_df"
   ]
  },
  {
   "cell_type": "markdown",
   "id": "65856761",
   "metadata": {},
   "source": [
    "# SW Phosphate-Chlorophyll-inflow"
   ]
  },
  {
   "cell_type": "code",
   "execution_count": 45,
   "id": "608c42be",
   "metadata": {},
   "outputs": [
    {
     "name": "stdout",
     "output_type": "stream",
     "text": [
      "(658, 2) (658,)\n",
      "(74, 2) (74,)\n"
     ]
    },
    {
     "name": "stderr",
     "output_type": "stream",
     "text": [
      "C:\\Users\\AKSHAYA\\Anaconda3\\lib\\site-packages\\sklearn\\model_selection\\_validation.py:372: FitFailedWarning: \n",
      "40 fits failed out of a total of 80.\n",
      "The score on these train-test partitions for these parameters will be set to nan.\n",
      "If these failures are not expected, you can try to debug them by setting error_score='raise'.\n",
      "\n",
      "Below are more details about the failures:\n",
      "--------------------------------------------------------------------------------\n",
      "40 fits failed with the following error:\n",
      "Traceback (most recent call last):\n",
      "  File \"C:\\Users\\AKSHAYA\\Anaconda3\\lib\\site-packages\\sklearn\\model_selection\\_validation.py\", line 680, in _fit_and_score\n",
      "    estimator.fit(X_train, y_train, **fit_params)\n",
      "  File \"C:\\Users\\AKSHAYA\\Anaconda3\\lib\\site-packages\\sklearn\\pipeline.py\", line 394, in fit\n",
      "    self._final_estimator.fit(Xt, y, **fit_params_last_step)\n",
      "  File \"C:\\Users\\AKSHAYA\\Anaconda3\\lib\\site-packages\\sklearn\\ensemble\\_forest.py\", line 411, in fit\n",
      "    raise ValueError(\"Out of bag estimation only available if bootstrap=True\")\n",
      "ValueError: Out of bag estimation only available if bootstrap=True\n",
      "\n",
      "  warnings.warn(some_fits_failed_message, FitFailedWarning)\n",
      "C:\\Users\\AKSHAYA\\Anaconda3\\lib\\site-packages\\sklearn\\model_selection\\_search.py:969: UserWarning: One or more of the test scores are non-finite: [0.81212796 0.8142369  0.81627969 0.81660276 0.80693914 0.81003936\n",
      " 0.80390934 0.8121881         nan        nan        nan        nan\n",
      "        nan        nan        nan        nan]\n",
      "  warnings.warn(\n"
     ]
    },
    {
     "name": "stdout",
     "output_type": "stream",
     "text": [
      "Training set score: 0.9759745641489407\n",
      "Test set score: 0.6730913890328736\n",
      "MAE: 0.21981147648235425\n",
      "MSE: 0.1373883145676717\n",
      "RMSE: 0.3706592971553144\n",
      "r2: 0.6730913890328736\n",
      "{'rf__bootstrap': True, 'rf__max_features': 1, 'rf__n_estimators': 200, 'rf__oob_score': True}\n",
      "Pipeline(steps=[('scaler', StandardScaler()),\n",
      "                ('rf',\n",
      "                 RandomForestRegressor(max_features=1, n_estimators=200,\n",
      "                                       oob_score=True))])\n"
     ]
    },
    {
     "data": {
      "text/html": [
       "<div>\n",
       "<style scoped>\n",
       "    .dataframe tbody tr th:only-of-type {\n",
       "        vertical-align: middle;\n",
       "    }\n",
       "\n",
       "    .dataframe tbody tr th {\n",
       "        vertical-align: top;\n",
       "    }\n",
       "\n",
       "    .dataframe thead th {\n",
       "        text-align: right;\n",
       "    }\n",
       "</style>\n",
       "<table border=\"1\" class=\"dataframe\">\n",
       "  <thead>\n",
       "    <tr style=\"text-align: right;\">\n",
       "      <th></th>\n",
       "      <th>rf__bootstrap</th>\n",
       "      <th>rf__max_features</th>\n",
       "      <th>rf__n_estimators</th>\n",
       "      <th>rf__oob_score</th>\n",
       "      <th>r2_score</th>\n",
       "    </tr>\n",
       "  </thead>\n",
       "  <tbody>\n",
       "    <tr>\n",
       "      <th>RF_SW_pci</th>\n",
       "      <td>True</td>\n",
       "      <td>1</td>\n",
       "      <td>200</td>\n",
       "      <td>True</td>\n",
       "      <td>0.673091</td>\n",
       "    </tr>\n",
       "  </tbody>\n",
       "</table>\n",
       "</div>"
      ],
      "text/plain": [
       "          rf__bootstrap rf__max_features rf__n_estimators rf__oob_score  \\\n",
       "RF_SW_pci          True                1              200          True   \n",
       "\n",
       "           r2_score  \n",
       "RF_SW_pci  0.673091  "
      ]
     },
     "execution_count": 45,
     "metadata": {},
     "output_type": "execute_result"
    },
    {
     "data": {
      "text/plain": [
       "<Figure size 900x600 with 0 Axes>"
      ]
     },
     "metadata": {},
     "output_type": "display_data"
    },
    {
     "data": {
      "image/png": "[encoded data removed]",
      "text/plain": [
       "<Figure size 432x288 with 1 Axes>"
      ]
     },
     "metadata": {
      "needs_background": "light"
     },
     "output_type": "display_data"
    }
   ],
   "source": [
    "X = df_SW[['c_mean','i_mean']]\n",
    "y = df_SW['p_mean']\n",
    "\n",
    "file_dir = os.path.join(os.getcwd(), \"SVR_RF_npci\")\n",
    "file_name = \"RF_SW_pci.pkl\"\n",
    "\n",
    "RF_SW_pci_best_params_df = rf(X=X,y=y,test_size=0.10,file_dir=file_dir,file_name=file_name)\n",
    "RF_SW_pci_best_params_df"
   ]
  },
  {
   "cell_type": "markdown",
   "id": "c2a9aac6",
   "metadata": {},
   "source": [
    "# NE Nitrogin-Chlorophyll-inflow"
   ]
  },
  {
   "cell_type": "code",
   "execution_count": 46,
   "id": "98dc4a26",
   "metadata": {},
   "outputs": [
    {
     "name": "stdout",
     "output_type": "stream",
     "text": [
      "(496, 2) (496,)\n",
      "(56, 2) (56,)\n"
     ]
    },
    {
     "name": "stderr",
     "output_type": "stream",
     "text": [
      "C:\\Users\\AKSHAYA\\Anaconda3\\lib\\site-packages\\sklearn\\model_selection\\_validation.py:372: FitFailedWarning: \n",
      "40 fits failed out of a total of 80.\n",
      "The score on these train-test partitions for these parameters will be set to nan.\n",
      "If these failures are not expected, you can try to debug them by setting error_score='raise'.\n",
      "\n",
      "Below are more details about the failures:\n",
      "--------------------------------------------------------------------------------\n",
      "40 fits failed with the following error:\n",
      "Traceback (most recent call last):\n",
      "  File \"C:\\Users\\AKSHAYA\\Anaconda3\\lib\\site-packages\\sklearn\\model_selection\\_validation.py\", line 680, in _fit_and_score\n",
      "    estimator.fit(X_train, y_train, **fit_params)\n",
      "  File \"C:\\Users\\AKSHAYA\\Anaconda3\\lib\\site-packages\\sklearn\\pipeline.py\", line 394, in fit\n",
      "    self._final_estimator.fit(Xt, y, **fit_params_last_step)\n",
      "  File \"C:\\Users\\AKSHAYA\\Anaconda3\\lib\\site-packages\\sklearn\\ensemble\\_forest.py\", line 411, in fit\n",
      "    raise ValueError(\"Out of bag estimation only available if bootstrap=True\")\n",
      "ValueError: Out of bag estimation only available if bootstrap=True\n",
      "\n",
      "  warnings.warn(some_fits_failed_message, FitFailedWarning)\n",
      "C:\\Users\\AKSHAYA\\Anaconda3\\lib\\site-packages\\sklearn\\model_selection\\_search.py:969: UserWarning: One or more of the test scores are non-finite: [0.35754117 0.36389303 0.36828146 0.36808071 0.33948126 0.34430376\n",
      " 0.34607827 0.34572108        nan        nan        nan        nan\n",
      "        nan        nan        nan        nan]\n",
      "  warnings.warn(\n"
     ]
    },
    {
     "name": "stdout",
     "output_type": "stream",
     "text": [
      "Training set score: 0.912058661973606\n",
      "Test set score: 0.6337445458206694\n",
      "MAE: 3.7345730794270833\n",
      "MSE: 33.29319167175391\n",
      "RMSE: 5.770025274793336\n",
      "r2: 0.6337445458206694\n",
      "{'rf__bootstrap': True, 'rf__max_features': 1, 'rf__n_estimators': 128, 'rf__oob_score': True}\n",
      "Pipeline(steps=[('scaler', StandardScaler()),\n",
      "                ('rf',\n",
      "                 RandomForestRegressor(max_features=1, n_estimators=128,\n",
      "                                       oob_score=True))])\n"
     ]
    },
    {
     "data": {
      "text/html": [
       "<div>\n",
       "<style scoped>\n",
       "    .dataframe tbody tr th:only-of-type {\n",
       "        vertical-align: middle;\n",
       "    }\n",
       "\n",
       "    .dataframe tbody tr th {\n",
       "        vertical-align: top;\n",
       "    }\n",
       "\n",
       "    .dataframe thead th {\n",
       "        text-align: right;\n",
       "    }\n",
       "</style>\n",
       "<table border=\"1\" class=\"dataframe\">\n",
       "  <thead>\n",
       "    <tr style=\"text-align: right;\">\n",
       "      <th></th>\n",
       "      <th>rf__bootstrap</th>\n",
       "      <th>rf__max_features</th>\n",
       "      <th>rf__n_estimators</th>\n",
       "      <th>rf__oob_score</th>\n",
       "      <th>r2_score</th>\n",
       "    </tr>\n",
       "  </thead>\n",
       "  <tbody>\n",
       "    <tr>\n",
       "      <th>RF_NE_nci</th>\n",
       "      <td>True</td>\n",
       "      <td>1</td>\n",
       "      <td>128</td>\n",
       "      <td>True</td>\n",
       "      <td>0.633745</td>\n",
       "    </tr>\n",
       "  </tbody>\n",
       "</table>\n",
       "</div>"
      ],
      "text/plain": [
       "          rf__bootstrap rf__max_features rf__n_estimators rf__oob_score  \\\n",
       "RF_NE_nci          True                1              128          True   \n",
       "\n",
       "           r2_score  \n",
       "RF_NE_nci  0.633745  "
      ]
     },
     "execution_count": 46,
     "metadata": {},
     "output_type": "execute_result"
    },
    {
     "data": {
      "text/plain": [
       "<Figure size 900x600 with 0 Axes>"
      ]
     },
     "metadata": {},
     "output_type": "display_data"
    },
    {
     "data": {
      "image/png": "[encoded data removed]",
      "text/plain": [
       "<Figure size 432x288 with 1 Axes>"
      ]
     },
     "metadata": {
      "needs_background": "light"
     },
     "output_type": "display_data"
    }
   ],
   "source": [
    "X = df_NE[['c_mean','i_mean']]\n",
    "y = df_NE['n_mean']\n",
    "\n",
    "file_dir = os.path.join(os.getcwd(), \"SVR_RF_npci\")\n",
    "file_name = \"RF_NE_nci.pkl\"\n",
    "\n",
    "RF_NE_nci_best_params_df = rf(X=X,y=y,test_size=0.10,file_dir=file_dir,file_name=file_name)\n",
    "RF_NE_nci_best_params_df"
   ]
  },
  {
   "cell_type": "markdown",
   "id": "306958c7",
   "metadata": {},
   "source": [
    "# NE Phosphate-Chlorophyll-inflow"
   ]
  },
  {
   "cell_type": "code",
   "execution_count": 47,
   "id": "3d373856",
   "metadata": {},
   "outputs": [
    {
     "name": "stdout",
     "output_type": "stream",
     "text": [
      "(496, 2) (496,)\n",
      "(56, 2) (56,)\n"
     ]
    },
    {
     "name": "stderr",
     "output_type": "stream",
     "text": [
      "C:\\Users\\AKSHAYA\\Anaconda3\\lib\\site-packages\\sklearn\\model_selection\\_validation.py:372: FitFailedWarning: \n",
      "40 fits failed out of a total of 80.\n",
      "The score on these train-test partitions for these parameters will be set to nan.\n",
      "If these failures are not expected, you can try to debug them by setting error_score='raise'.\n",
      "\n",
      "Below are more details about the failures:\n",
      "--------------------------------------------------------------------------------\n",
      "40 fits failed with the following error:\n",
      "Traceback (most recent call last):\n",
      "  File \"C:\\Users\\AKSHAYA\\Anaconda3\\lib\\site-packages\\sklearn\\model_selection\\_validation.py\", line 680, in _fit_and_score\n",
      "    estimator.fit(X_train, y_train, **fit_params)\n",
      "  File \"C:\\Users\\AKSHAYA\\Anaconda3\\lib\\site-packages\\sklearn\\pipeline.py\", line 394, in fit\n",
      "    self._final_estimator.fit(Xt, y, **fit_params_last_step)\n",
      "  File \"C:\\Users\\AKSHAYA\\Anaconda3\\lib\\site-packages\\sklearn\\ensemble\\_forest.py\", line 411, in fit\n",
      "    raise ValueError(\"Out of bag estimation only available if bootstrap=True\")\n",
      "ValueError: Out of bag estimation only available if bootstrap=True\n",
      "\n",
      "  warnings.warn(some_fits_failed_message, FitFailedWarning)\n",
      "C:\\Users\\AKSHAYA\\Anaconda3\\lib\\site-packages\\sklearn\\model_selection\\_search.py:969: UserWarning: One or more of the test scores are non-finite: [0.30106953 0.29005043 0.30857242 0.31039886 0.29087817 0.29168743\n",
      " 0.29857148 0.30216292        nan        nan        nan        nan\n",
      "        nan        nan        nan        nan]\n",
      "  warnings.warn(\n"
     ]
    },
    {
     "name": "stdout",
     "output_type": "stream",
     "text": [
      "Training set score: 0.9070556729180842\n",
      "Test set score: 0.47698804049697674\n",
      "MAE: 0.3518996726190481\n",
      "MSE: 0.212891207191444\n",
      "RMSE: 0.46140135152754375\n",
      "r2: 0.47698804049697674\n",
      "{'rf__bootstrap': True, 'rf__max_features': 1, 'rf__n_estimators': 200, 'rf__oob_score': True}\n",
      "Pipeline(steps=[('scaler', StandardScaler()),\n",
      "                ('rf',\n",
      "                 RandomForestRegressor(max_features=1, n_estimators=200,\n",
      "                                       oob_score=True))])\n"
     ]
    },
    {
     "data": {
      "text/html": [
       "<div>\n",
       "<style scoped>\n",
       "    .dataframe tbody tr th:only-of-type {\n",
       "        vertical-align: middle;\n",
       "    }\n",
       "\n",
       "    .dataframe tbody tr th {\n",
       "        vertical-align: top;\n",
       "    }\n",
       "\n",
       "    .dataframe thead th {\n",
       "        text-align: right;\n",
       "    }\n",
       "</style>\n",
       "<table border=\"1\" class=\"dataframe\">\n",
       "  <thead>\n",
       "    <tr style=\"text-align: right;\">\n",
       "      <th></th>\n",
       "      <th>rf__bootstrap</th>\n",
       "      <th>rf__max_features</th>\n",
       "      <th>rf__n_estimators</th>\n",
       "      <th>rf__oob_score</th>\n",
       "      <th>r2_score</th>\n",
       "    </tr>\n",
       "  </thead>\n",
       "  <tbody>\n",
       "    <tr>\n",
       "      <th>RF_NE_pci</th>\n",
       "      <td>True</td>\n",
       "      <td>1</td>\n",
       "      <td>200</td>\n",
       "      <td>True</td>\n",
       "      <td>0.476988</td>\n",
       "    </tr>\n",
       "  </tbody>\n",
       "</table>\n",
       "</div>"
      ],
      "text/plain": [
       "          rf__bootstrap rf__max_features rf__n_estimators rf__oob_score  \\\n",
       "RF_NE_pci          True                1              200          True   \n",
       "\n",
       "           r2_score  \n",
       "RF_NE_pci  0.476988  "
      ]
     },
     "execution_count": 47,
     "metadata": {},
     "output_type": "execute_result"
    },
    {
     "data": {
      "text/plain": [
       "<Figure size 900x600 with 0 Axes>"
      ]
     },
     "metadata": {},
     "output_type": "display_data"
    },
    {
     "data": {
      "image/png": "[encoded data removed]",
      "text/plain": [
       "<Figure size 432x288 with 1 Axes>"
      ]
     },
     "metadata": {
      "needs_background": "light"
     },
     "output_type": "display_data"
    }
   ],
   "source": [
    "X = df_NE[['c_mean','i_mean']]\n",
    "y = df_NE['p_mean']\n",
    "\n",
    "file_dir = os.path.join(os.getcwd(), \"SVR_RF_npci\")\n",
    "file_name = \"RF_NE_pci.pkl\"\n",
    "\n",
    "RF_NE_pci_best_params_df = rf(X=X,y=y,test_size=0.10,file_dir=file_dir,file_name=file_name)\n",
    "RF_NE_pci_best_params_df"
   ]
  },
  {
   "cell_type": "code",
   "execution_count": 48,
   "id": "cadbc2e9",
   "metadata": {},
   "outputs": [
    {
     "data": {
      "text/html": [
       "<div>\n",
       "<style scoped>\n",
       "    .dataframe tbody tr th:only-of-type {\n",
       "        vertical-align: middle;\n",
       "    }\n",
       "\n",
       "    .dataframe tbody tr th {\n",
       "        vertical-align: top;\n",
       "    }\n",
       "\n",
       "    .dataframe thead th {\n",
       "        text-align: right;\n",
       "    }\n",
       "</style>\n",
       "<table border=\"1\" class=\"dataframe\">\n",
       "  <thead>\n",
       "    <tr style=\"text-align: right;\">\n",
       "      <th></th>\n",
       "      <th>rf__bootstrap</th>\n",
       "      <th>rf__max_features</th>\n",
       "      <th>rf__n_estimators</th>\n",
       "      <th>rf__oob_score</th>\n",
       "      <th>r2_score</th>\n",
       "    </tr>\n",
       "  </thead>\n",
       "  <tbody>\n",
       "    <tr>\n",
       "      <th>RF_SUMMER_nc</th>\n",
       "      <td>True</td>\n",
       "      <td>1</td>\n",
       "      <td>200</td>\n",
       "      <td>True</td>\n",
       "      <td>0.163843</td>\n",
       "    </tr>\n",
       "    <tr>\n",
       "      <th>RF_SUMMER_pc</th>\n",
       "      <td>True</td>\n",
       "      <td>1</td>\n",
       "      <td>100</td>\n",
       "      <td>True</td>\n",
       "      <td>-0.028044</td>\n",
       "    </tr>\n",
       "    <tr>\n",
       "      <th>RF_WINTER_nc</th>\n",
       "      <td>True</td>\n",
       "      <td>1</td>\n",
       "      <td>64</td>\n",
       "      <td>True</td>\n",
       "      <td>0.142771</td>\n",
       "    </tr>\n",
       "    <tr>\n",
       "      <th>RF_WINTER_pc</th>\n",
       "      <td>True</td>\n",
       "      <td>1</td>\n",
       "      <td>200</td>\n",
       "      <td>True</td>\n",
       "      <td>-0.180403</td>\n",
       "    </tr>\n",
       "    <tr>\n",
       "      <th>RF_SW_nc</th>\n",
       "      <td>True</td>\n",
       "      <td>1</td>\n",
       "      <td>200</td>\n",
       "      <td>True</td>\n",
       "      <td>0.157306</td>\n",
       "    </tr>\n",
       "    <tr>\n",
       "      <th>RF_SW_pc</th>\n",
       "      <td>True</td>\n",
       "      <td>1</td>\n",
       "      <td>100</td>\n",
       "      <td>True</td>\n",
       "      <td>0.579734</td>\n",
       "    </tr>\n",
       "    <tr>\n",
       "      <th>RF_NE_nc</th>\n",
       "      <td>True</td>\n",
       "      <td>1</td>\n",
       "      <td>64</td>\n",
       "      <td>True</td>\n",
       "      <td>-0.010051</td>\n",
       "    </tr>\n",
       "    <tr>\n",
       "      <th>RF_NE_pc</th>\n",
       "      <td>True</td>\n",
       "      <td>1</td>\n",
       "      <td>128</td>\n",
       "      <td>True</td>\n",
       "      <td>-0.080300</td>\n",
       "    </tr>\n",
       "    <tr>\n",
       "      <th>RF_SUMMER_nci</th>\n",
       "      <td>True</td>\n",
       "      <td>1</td>\n",
       "      <td>128</td>\n",
       "      <td>True</td>\n",
       "      <td>0.772404</td>\n",
       "    </tr>\n",
       "    <tr>\n",
       "      <th>RF_SUMMER_pci</th>\n",
       "      <td>True</td>\n",
       "      <td>1</td>\n",
       "      <td>200</td>\n",
       "      <td>True</td>\n",
       "      <td>0.779686</td>\n",
       "    </tr>\n",
       "    <tr>\n",
       "      <th>RF_WINTER_nci</th>\n",
       "      <td>True</td>\n",
       "      <td>2</td>\n",
       "      <td>64</td>\n",
       "      <td>True</td>\n",
       "      <td>0.659699</td>\n",
       "    </tr>\n",
       "    <tr>\n",
       "      <th>RF_WINTER_pci</th>\n",
       "      <td>True</td>\n",
       "      <td>2</td>\n",
       "      <td>64</td>\n",
       "      <td>True</td>\n",
       "      <td>0.653562</td>\n",
       "    </tr>\n",
       "    <tr>\n",
       "      <th>RF_SW_nci</th>\n",
       "      <td>True</td>\n",
       "      <td>1</td>\n",
       "      <td>200</td>\n",
       "      <td>True</td>\n",
       "      <td>0.563462</td>\n",
       "    </tr>\n",
       "    <tr>\n",
       "      <th>RF_SW_pci</th>\n",
       "      <td>True</td>\n",
       "      <td>1</td>\n",
       "      <td>200</td>\n",
       "      <td>True</td>\n",
       "      <td>0.673091</td>\n",
       "    </tr>\n",
       "    <tr>\n",
       "      <th>RF_NE_nci</th>\n",
       "      <td>True</td>\n",
       "      <td>1</td>\n",
       "      <td>128</td>\n",
       "      <td>True</td>\n",
       "      <td>0.633745</td>\n",
       "    </tr>\n",
       "    <tr>\n",
       "      <th>RF_NE_pci</th>\n",
       "      <td>True</td>\n",
       "      <td>1</td>\n",
       "      <td>200</td>\n",
       "      <td>True</td>\n",
       "      <td>0.476988</td>\n",
       "    </tr>\n",
       "  </tbody>\n",
       "</table>\n",
       "</div>"
      ],
      "text/plain": [
       "              rf__bootstrap rf__max_features rf__n_estimators rf__oob_score  \\\n",
       "RF_SUMMER_nc           True                1              200          True   \n",
       "RF_SUMMER_pc           True                1              100          True   \n",
       "RF_WINTER_nc           True                1               64          True   \n",
       "RF_WINTER_pc           True                1              200          True   \n",
       "RF_SW_nc               True                1              200          True   \n",
       "RF_SW_pc               True                1              100          True   \n",
       "RF_NE_nc               True                1               64          True   \n",
       "RF_NE_pc               True                1              128          True   \n",
       "RF_SUMMER_nci          True                1              128          True   \n",
       "RF_SUMMER_pci          True                1              200          True   \n",
       "RF_WINTER_nci          True                2               64          True   \n",
       "RF_WINTER_pci          True                2               64          True   \n",
       "RF_SW_nci              True                1              200          True   \n",
       "RF_SW_pci              True                1              200          True   \n",
       "RF_NE_nci              True                1              128          True   \n",
       "RF_NE_pci              True                1              200          True   \n",
       "\n",
       "               r2_score  \n",
       "RF_SUMMER_nc   0.163843  \n",
       "RF_SUMMER_pc  -0.028044  \n",
       "RF_WINTER_nc   0.142771  \n",
       "RF_WINTER_pc  -0.180403  \n",
       "RF_SW_nc       0.157306  \n",
       "RF_SW_pc       0.579734  \n",
       "RF_NE_nc      -0.010051  \n",
       "RF_NE_pc      -0.080300  \n",
       "RF_SUMMER_nci  0.772404  \n",
       "RF_SUMMER_pci  0.779686  \n",
       "RF_WINTER_nci  0.659699  \n",
       "RF_WINTER_pci  0.653562  \n",
       "RF_SW_nci      0.563462  \n",
       "RF_SW_pci      0.673091  \n",
       "RF_NE_nci      0.633745  \n",
       "RF_NE_pci      0.476988  "
      ]
     },
     "execution_count": 48,
     "metadata": {},
     "output_type": "execute_result"
    }
   ],
   "source": [
    "result_df = pd.concat([RF_SUMMER_nc_best_params_df, \n",
    "                       RF_SUMMER_pc_best_params_df, \n",
    "                       RF_WINTER_nc_best_params_df,\n",
    "                       RF_WINTER_pc_best_params_df, \n",
    "                       RF_SW_nc_best_params_df, \n",
    "                       RF_SW_pc_best_params_df, \n",
    "                       RF_NE_nc_best_params_df, \n",
    "                       RF_NE_pc_best_params_df,\n",
    "                       RF_SUMMER_nci_best_params_df, \n",
    "                       RF_SUMMER_pci_best_params_df,\n",
    "                       RF_WINTER_nci_best_params_df, \n",
    "                       RF_WINTER_pci_best_params_df, \n",
    "                       RF_SW_nci_best_params_df,\n",
    "                       RF_SW_pci_best_params_df,\n",
    "                       RF_NE_nci_best_params_df,\n",
    "                       RF_NE_pci_best_params_df])\n",
    "\n",
    "result_df"
   ]
  },
  {
   "cell_type": "code",
   "execution_count": 49,
   "id": "73210ec1",
   "metadata": {},
   "outputs": [],
   "source": [
    "result_df.to_csv(\"RF_result.csv\")"
   ]
  },
  {
   "cell_type": "code",
   "execution_count": 50,
   "id": "43983e22",
   "metadata": {},
   "outputs": [],
   "source": [
    "# Load the model\n",
    "# file_path = \n",
    "# loaded_model = joblib.load(file_path)"
   ]
  },
  {
   "cell_type": "code",
   "execution_count": 51,
   "id": "ed18df32",
   "metadata": {},
   "outputs": [],
   "source": [
    "# X_train, X_test, y_train, y_test = train_test_split(X, y, test_size=0.10,random_state=42)"
   ]
  },
  {
   "cell_type": "code",
   "execution_count": 52,
   "id": "55e33b7b",
   "metadata": {},
   "outputs": [],
   "source": [
    "# loaded_model.predict(X_test)"
   ]
  },
  {
   "cell_type": "code",
   "execution_count": 53,
   "id": "2d7b7c16",
   "metadata": {},
   "outputs": [],
   "source": [
    "# param = loaded_model.get_params"
   ]
  },
  {
   "cell_type": "code",
   "execution_count": 54,
   "id": "65021412",
   "metadata": {},
   "outputs": [],
   "source": [
    "# print(loaded_model.get_params)"
   ]
  },
  {
   "cell_type": "code",
   "execution_count": null,
   "id": "f879e2de",
   "metadata": {},
   "outputs": [],
   "source": []
  }
 ],
 "metadata": {
  "kernelspec": {
   "display_name": "Python 3 (ipykernel)",
   "language": "python",
   "name": "python3"
  },
  "language_info": {
   "codemirror_mode": {
    "name": "ipython",
    "version": 3
   },
   "file_extension": ".py",
   "mimetype": "text/x-python",
   "name": "python",
   "nbconvert_exporter": "python",
   "pygments_lexer": "ipython3",
   "version": "3.9.12"
  }
 },
 "nbformat": 4,
 "nbformat_minor": 5
}
